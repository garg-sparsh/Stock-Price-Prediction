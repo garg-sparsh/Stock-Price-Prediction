{
 "cells": [
  {
   "cell_type": "markdown",
   "metadata": {},
   "source": [
    "# Stock Price Prediction for New York Stock Exchange"
   ]
  },
  {
   "cell_type": "markdown",
   "metadata": {},
   "source": [
    "## Preprocessing of the dataset"
   ]
  },
  {
   "cell_type": "markdown",
   "metadata": {},
   "source": [
    "### Loading the Libraries and datasets"
   ]
  },
  {
   "cell_type": "code",
   "execution_count": 1,
   "metadata": {},
   "outputs": [
    {
     "name": "stderr",
     "output_type": "stream",
     "text": [
      "/Users/sparshgarg/anaconda3/python/anaconda3/lib/python3.6/site-packages/statsmodels/compat/pandas.py:56: FutureWarning: The pandas.core.datetools module is deprecated and will be removed in a future version. Please use the pandas.tseries module instead.\n",
      "  from pandas.core import datetools\n"
     ]
    }
   ],
   "source": [
    "import pandas as pd\n",
    "import numpy as np\n",
    "import matplotlib.pyplot as plt\n",
    "from datetime import datetime\n",
    "from statsmodels.tsa.stattools import adfuller\n",
    "from statsmodels.graphics.tsaplots import plot_acf\n",
    "from statsmodels.graphics.tsaplots import plot_pacf\n",
    "from statsmodels.tsa.arima_model import ARIMA\n",
    "from statsmodels.tsa.seasonal import seasonal_decompose\n",
    "from bokeh.plotting import figure\n",
    "from bokeh.io import show, output_notebook\n",
    "from bokeh.models import HoverTool\n",
    "from bokeh.layouts import row"
   ]
  },
  {
   "cell_type": "code",
   "execution_count": 2,
   "metadata": {},
   "outputs": [],
   "source": [
    "data = pd.read_csv('nyse/prices-split-adjusted.csv')\n"
   ]
  },
  {
   "cell_type": "code",
   "execution_count": 3,
   "metadata": {},
   "outputs": [
    {
     "data": {
      "text/html": [
       "<div>\n",
       "<style scoped>\n",
       "    .dataframe tbody tr th:only-of-type {\n",
       "        vertical-align: middle;\n",
       "    }\n",
       "\n",
       "    .dataframe tbody tr th {\n",
       "        vertical-align: top;\n",
       "    }\n",
       "\n",
       "    .dataframe thead th {\n",
       "        text-align: right;\n",
       "    }\n",
       "</style>\n",
       "<table border=\"1\" class=\"dataframe\">\n",
       "  <thead>\n",
       "    <tr style=\"text-align: right;\">\n",
       "      <th></th>\n",
       "      <th>date</th>\n",
       "      <th>open</th>\n",
       "      <th>close</th>\n",
       "      <th>low</th>\n",
       "      <th>high</th>\n",
       "      <th>volume</th>\n",
       "    </tr>\n",
       "  </thead>\n",
       "  <tbody>\n",
       "    <tr>\n",
       "      <th>0</th>\n",
       "      <td>2016-01-05</td>\n",
       "      <td>123.430000</td>\n",
       "      <td>125.839996</td>\n",
       "      <td>122.309998</td>\n",
       "      <td>126.250000</td>\n",
       "      <td>2163600.0</td>\n",
       "    </tr>\n",
       "    <tr>\n",
       "      <th>1</th>\n",
       "      <td>2016-01-06</td>\n",
       "      <td>125.239998</td>\n",
       "      <td>119.980003</td>\n",
       "      <td>119.940002</td>\n",
       "      <td>125.540001</td>\n",
       "      <td>2386400.0</td>\n",
       "    </tr>\n",
       "    <tr>\n",
       "      <th>2</th>\n",
       "      <td>2016-01-07</td>\n",
       "      <td>116.379997</td>\n",
       "      <td>114.949997</td>\n",
       "      <td>114.930000</td>\n",
       "      <td>119.739998</td>\n",
       "      <td>2489500.0</td>\n",
       "    </tr>\n",
       "    <tr>\n",
       "      <th>3</th>\n",
       "      <td>2016-01-08</td>\n",
       "      <td>115.480003</td>\n",
       "      <td>116.620003</td>\n",
       "      <td>113.500000</td>\n",
       "      <td>117.440002</td>\n",
       "      <td>2006300.0</td>\n",
       "    </tr>\n",
       "    <tr>\n",
       "      <th>4</th>\n",
       "      <td>2016-01-11</td>\n",
       "      <td>117.010002</td>\n",
       "      <td>114.970001</td>\n",
       "      <td>114.089996</td>\n",
       "      <td>117.330002</td>\n",
       "      <td>1408600.0</td>\n",
       "    </tr>\n",
       "  </tbody>\n",
       "</table>\n",
       "</div>"
      ],
      "text/plain": [
       "         date        open       close         low        high     volume\n",
       "0  2016-01-05  123.430000  125.839996  122.309998  126.250000  2163600.0\n",
       "1  2016-01-06  125.239998  119.980003  119.940002  125.540001  2386400.0\n",
       "2  2016-01-07  116.379997  114.949997  114.930000  119.739998  2489500.0\n",
       "3  2016-01-08  115.480003  116.620003  113.500000  117.440002  2006300.0\n",
       "4  2016-01-11  117.010002  114.970001  114.089996  117.330002  1408600.0"
      ]
     },
     "execution_count": 3,
     "metadata": {},
     "output_type": "execute_result"
    }
   ],
   "source": [
    "data_1 = data[data['symbol'] == 'WLTW'][['date', 'open', 'close', 'low', 'high', 'volume']]\n",
    "data_1.head()"
   ]
  },
  {
   "cell_type": "code",
   "execution_count": 4,
   "metadata": {},
   "outputs": [
    {
     "data": {
      "text/plain": [
       "date       object\n",
       "open      float64\n",
       "close     float64\n",
       "low       float64\n",
       "high      float64\n",
       "volume    float64\n",
       "dtype: object"
      ]
     },
     "execution_count": 4,
     "metadata": {},
     "output_type": "execute_result"
    }
   ],
   "source": [
    "data_1.dtypes"
   ]
  },
  {
   "cell_type": "markdown",
   "metadata": {},
   "source": [
    "### As our data is not in datetime format, lets convert it to datetime"
   ]
  },
  {
   "cell_type": "code",
   "execution_count": 5,
   "metadata": {},
   "outputs": [
    {
     "data": {
      "text/html": [
       "<div>\n",
       "<style scoped>\n",
       "    .dataframe tbody tr th:only-of-type {\n",
       "        vertical-align: middle;\n",
       "    }\n",
       "\n",
       "    .dataframe tbody tr th {\n",
       "        vertical-align: top;\n",
       "    }\n",
       "\n",
       "    .dataframe thead th {\n",
       "        text-align: right;\n",
       "    }\n",
       "</style>\n",
       "<table border=\"1\" class=\"dataframe\">\n",
       "  <thead>\n",
       "    <tr style=\"text-align: right;\">\n",
       "      <th></th>\n",
       "      <th>open</th>\n",
       "      <th>close</th>\n",
       "      <th>low</th>\n",
       "      <th>high</th>\n",
       "      <th>volume</th>\n",
       "    </tr>\n",
       "    <tr>\n",
       "      <th>date</th>\n",
       "      <th></th>\n",
       "      <th></th>\n",
       "      <th></th>\n",
       "      <th></th>\n",
       "      <th></th>\n",
       "    </tr>\n",
       "  </thead>\n",
       "  <tbody>\n",
       "    <tr>\n",
       "      <th>2016-01-05</th>\n",
       "      <td>123.430000</td>\n",
       "      <td>125.839996</td>\n",
       "      <td>122.309998</td>\n",
       "      <td>126.250000</td>\n",
       "      <td>2163600.0</td>\n",
       "    </tr>\n",
       "    <tr>\n",
       "      <th>2016-01-06</th>\n",
       "      <td>125.239998</td>\n",
       "      <td>119.980003</td>\n",
       "      <td>119.940002</td>\n",
       "      <td>125.540001</td>\n",
       "      <td>2386400.0</td>\n",
       "    </tr>\n",
       "    <tr>\n",
       "      <th>2016-01-07</th>\n",
       "      <td>116.379997</td>\n",
       "      <td>114.949997</td>\n",
       "      <td>114.930000</td>\n",
       "      <td>119.739998</td>\n",
       "      <td>2489500.0</td>\n",
       "    </tr>\n",
       "    <tr>\n",
       "      <th>2016-01-08</th>\n",
       "      <td>115.480003</td>\n",
       "      <td>116.620003</td>\n",
       "      <td>113.500000</td>\n",
       "      <td>117.440002</td>\n",
       "      <td>2006300.0</td>\n",
       "    </tr>\n",
       "    <tr>\n",
       "      <th>2016-01-11</th>\n",
       "      <td>117.010002</td>\n",
       "      <td>114.970001</td>\n",
       "      <td>114.089996</td>\n",
       "      <td>117.330002</td>\n",
       "      <td>1408600.0</td>\n",
       "    </tr>\n",
       "  </tbody>\n",
       "</table>\n",
       "</div>"
      ],
      "text/plain": [
       "                  open       close         low        high     volume\n",
       "date                                                                 \n",
       "2016-01-05  123.430000  125.839996  122.309998  126.250000  2163600.0\n",
       "2016-01-06  125.239998  119.980003  119.940002  125.540001  2386400.0\n",
       "2016-01-07  116.379997  114.949997  114.930000  119.739998  2489500.0\n",
       "2016-01-08  115.480003  116.620003  113.500000  117.440002  2006300.0\n",
       "2016-01-11  117.010002  114.970001  114.089996  117.330002  1408600.0"
      ]
     },
     "execution_count": 5,
     "metadata": {},
     "output_type": "execute_result"
    }
   ],
   "source": [
    "dateparse = lambda dates: pd.datetime.strptime(dates, '%Y-%m-%d')\n",
    "data = pd.read_csv('nyse/prices-split-adjusted.csv', parse_dates=['date'], index_col= 'date',date_parser=dateparse)\n",
    "data_1 = data[data['symbol'] == 'WLTW'][['open', 'close', 'low', 'high', 'volume']]\n",
    "data_1.head()"
   ]
  },
  {
   "cell_type": "code",
   "execution_count": 6,
   "metadata": {},
   "outputs": [
    {
     "data": {
      "text/plain": [
       "open      float64\n",
       "close     float64\n",
       "low       float64\n",
       "high      float64\n",
       "volume    float64\n",
       "dtype: object"
      ]
     },
     "execution_count": 6,
     "metadata": {},
     "output_type": "execute_result"
    }
   ],
   "source": [
    "data_1.dtypes"
   ]
  },
  {
   "cell_type": "markdown",
   "metadata": {},
   "source": [
    "### Now the date format is in datetime , so we can convert the dataset in timeseries and play along"
   ]
  },
  {
   "cell_type": "code",
   "execution_count": 7,
   "metadata": {},
   "outputs": [
    {
     "data": {
      "text/plain": [
       "date\n",
       "2016-01-05    125.839996\n",
       "2016-01-06    119.980003\n",
       "2016-01-07    114.949997\n",
       "2016-01-08    116.620003\n",
       "2016-01-11    114.970001\n",
       "Name: close, dtype: float64"
      ]
     },
     "execution_count": 7,
     "metadata": {},
     "output_type": "execute_result"
    }
   ],
   "source": [
    "data_open = data_1['close']\n",
    "data_open.head()"
   ]
  },
  {
   "cell_type": "markdown",
   "metadata": {},
   "source": [
    "### Lets retrieve some close index by giving the time as an input"
   ]
  },
  {
   "cell_type": "code",
   "execution_count": 8,
   "metadata": {},
   "outputs": [
    {
     "data": {
      "text/plain": [
       "date\n",
       "2016-01-05    125.839996\n",
       "2016-01-06    119.980003\n",
       "2016-01-07    114.949997\n",
       "2016-01-08    116.620003\n",
       "2016-01-11    114.970001\n",
       "2016-01-12    115.550003\n",
       "2016-01-13    112.849998\n",
       "2016-01-14    114.379997\n",
       "2016-01-15    112.529999\n",
       "2016-01-19    110.379997\n",
       "2016-01-20    109.300003\n",
       "2016-01-21    110.000000\n",
       "2016-01-22    111.949997\n",
       "2016-01-25    110.120003\n",
       "2016-01-26    111.000000\n",
       "2016-01-27    110.709999\n",
       "2016-01-28    112.580002\n",
       "2016-01-29    114.470001\n",
       "Name: close, dtype: float64"
      ]
     },
     "execution_count": 8,
     "metadata": {},
     "output_type": "execute_result"
    }
   ],
   "source": [
    "data_open['2016-01-01' : '2016-01-31'] #stock price for the month of jaunary"
   ]
  },
  {
   "cell_type": "markdown",
   "metadata": {},
   "source": [
    "## Lets check the stationarity of time series data_open\n",
    "There are three methods to check the stationarity:\n",
    "1. By Visually looking at the plots\n",
    "2. Summary Statistics --> to check the seasons and partition of the dataset\n",
    "3. Statistical Test --> which tells if there is any violation of the stationarity of the series"
   ]
  },
  {
   "cell_type": "code",
   "execution_count": 9,
   "metadata": {},
   "outputs": [
    {
     "data": {
      "text/html": [
       "\n",
       "    <div class=\"bk-root\">\n",
       "        <a href=\"https://bokeh.pydata.org\" target=\"_blank\" class=\"bk-logo bk-logo-small bk-logo-notebook\"></a>\n",
       "        <span id=\"b35719f8-ac8f-4483-bdb3-c931ecfc48f3\">Loading BokehJS ...</span>\n",
       "    </div>"
      ]
     },
     "metadata": {},
     "output_type": "display_data"
    },
    {
     "data": {
      "application/javascript": [
       "\n",
       "(function(root) {\n",
       "  function now() {\n",
       "    return new Date();\n",
       "  }\n",
       "\n",
       "  var force = true;\n",
       "\n",
       "  if (typeof (root._bokeh_onload_callbacks) === \"undefined\" || force === true) {\n",
       "    root._bokeh_onload_callbacks = [];\n",
       "    root._bokeh_is_loading = undefined;\n",
       "  }\n",
       "\n",
       "  var JS_MIME_TYPE = 'application/javascript';\n",
       "  var HTML_MIME_TYPE = 'text/html';\n",
       "  var EXEC_MIME_TYPE = 'application/vnd.bokehjs_exec.v0+json';\n",
       "  var CLASS_NAME = 'output_bokeh rendered_html';\n",
       "\n",
       "  /**\n",
       "   * Render data to the DOM node\n",
       "   */\n",
       "  function render(props, node) {\n",
       "    var script = document.createElement(\"script\");\n",
       "    node.appendChild(script);\n",
       "  }\n",
       "\n",
       "  /**\n",
       "   * Handle when an output is cleared or removed\n",
       "   */\n",
       "  function handleClearOutput(event, handle) {\n",
       "    var cell = handle.cell;\n",
       "\n",
       "    var id = cell.output_area._bokeh_element_id;\n",
       "    var server_id = cell.output_area._bokeh_server_id;\n",
       "    // Clean up Bokeh references\n",
       "    if (id != null && id in Bokeh.index) {\n",
       "      Bokeh.index[id].model.document.clear();\n",
       "      delete Bokeh.index[id];\n",
       "    }\n",
       "\n",
       "    if (server_id !== undefined) {\n",
       "      // Clean up Bokeh references\n",
       "      var cmd = \"from bokeh.io.state import curstate; print(curstate().uuid_to_server['\" + server_id + \"'].get_sessions()[0].document.roots[0]._id)\";\n",
       "      cell.notebook.kernel.execute(cmd, {\n",
       "        iopub: {\n",
       "          output: function(msg) {\n",
       "            var id = msg.content.text.trim();\n",
       "            if (id in Bokeh.index) {\n",
       "              Bokeh.index[id].model.document.clear();\n",
       "              delete Bokeh.index[id];\n",
       "            }\n",
       "          }\n",
       "        }\n",
       "      });\n",
       "      // Destroy server and session\n",
       "      var cmd = \"import bokeh.io.notebook as ion; ion.destroy_server('\" + server_id + \"')\";\n",
       "      cell.notebook.kernel.execute(cmd);\n",
       "    }\n",
       "  }\n",
       "\n",
       "  /**\n",
       "   * Handle when a new output is added\n",
       "   */\n",
       "  function handleAddOutput(event, handle) {\n",
       "    var output_area = handle.output_area;\n",
       "    var output = handle.output;\n",
       "\n",
       "    // limit handleAddOutput to display_data with EXEC_MIME_TYPE content only\n",
       "    if ((output.output_type != \"display_data\") || (!output.data.hasOwnProperty(EXEC_MIME_TYPE))) {\n",
       "      return\n",
       "    }\n",
       "\n",
       "    var toinsert = output_area.element.find(\".\" + CLASS_NAME.split(' ')[0]);\n",
       "\n",
       "    if (output.metadata[EXEC_MIME_TYPE][\"id\"] !== undefined) {\n",
       "      toinsert[toinsert.length - 1].firstChild.textContent = output.data[JS_MIME_TYPE];\n",
       "      // store reference to embed id on output_area\n",
       "      output_area._bokeh_element_id = output.metadata[EXEC_MIME_TYPE][\"id\"];\n",
       "    }\n",
       "    if (output.metadata[EXEC_MIME_TYPE][\"server_id\"] !== undefined) {\n",
       "      var bk_div = document.createElement(\"div\");\n",
       "      bk_div.innerHTML = output.data[HTML_MIME_TYPE];\n",
       "      var script_attrs = bk_div.children[0].attributes;\n",
       "      for (var i = 0; i < script_attrs.length; i++) {\n",
       "        toinsert[toinsert.length - 1].firstChild.setAttribute(script_attrs[i].name, script_attrs[i].value);\n",
       "      }\n",
       "      // store reference to server id on output_area\n",
       "      output_area._bokeh_server_id = output.metadata[EXEC_MIME_TYPE][\"server_id\"];\n",
       "    }\n",
       "  }\n",
       "\n",
       "  function register_renderer(events, OutputArea) {\n",
       "\n",
       "    function append_mime(data, metadata, element) {\n",
       "      // create a DOM node to render to\n",
       "      var toinsert = this.create_output_subarea(\n",
       "        metadata,\n",
       "        CLASS_NAME,\n",
       "        EXEC_MIME_TYPE\n",
       "      );\n",
       "      this.keyboard_manager.register_events(toinsert);\n",
       "      // Render to node\n",
       "      var props = {data: data, metadata: metadata[EXEC_MIME_TYPE]};\n",
       "      render(props, toinsert[toinsert.length - 1]);\n",
       "      element.append(toinsert);\n",
       "      return toinsert\n",
       "    }\n",
       "\n",
       "    /* Handle when an output is cleared or removed */\n",
       "    events.on('clear_output.CodeCell', handleClearOutput);\n",
       "    events.on('delete.Cell', handleClearOutput);\n",
       "\n",
       "    /* Handle when a new output is added */\n",
       "    events.on('output_added.OutputArea', handleAddOutput);\n",
       "\n",
       "    /**\n",
       "     * Register the mime type and append_mime function with output_area\n",
       "     */\n",
       "    OutputArea.prototype.register_mime_type(EXEC_MIME_TYPE, append_mime, {\n",
       "      /* Is output safe? */\n",
       "      safe: true,\n",
       "      /* Index of renderer in `output_area.display_order` */\n",
       "      index: 0\n",
       "    });\n",
       "  }\n",
       "\n",
       "  // register the mime type if in Jupyter Notebook environment and previously unregistered\n",
       "  if (root.Jupyter !== undefined) {\n",
       "    var events = require('base/js/events');\n",
       "    var OutputArea = require('notebook/js/outputarea').OutputArea;\n",
       "\n",
       "    if (OutputArea.prototype.mime_types().indexOf(EXEC_MIME_TYPE) == -1) {\n",
       "      register_renderer(events, OutputArea);\n",
       "    }\n",
       "  }\n",
       "\n",
       "  \n",
       "  if (typeof (root._bokeh_timeout) === \"undefined\" || force === true) {\n",
       "    root._bokeh_timeout = Date.now() + 5000;\n",
       "    root._bokeh_failed_load = false;\n",
       "  }\n",
       "\n",
       "  var NB_LOAD_WARNING = {'data': {'text/html':\n",
       "     \"<div style='background-color: #fdd'>\\n\"+\n",
       "     \"<p>\\n\"+\n",
       "     \"BokehJS does not appear to have successfully loaded. If loading BokehJS from CDN, this \\n\"+\n",
       "     \"may be due to a slow or bad network connection. Possible fixes:\\n\"+\n",
       "     \"</p>\\n\"+\n",
       "     \"<ul>\\n\"+\n",
       "     \"<li>re-rerun `output_notebook()` to attempt to load from CDN again, or</li>\\n\"+\n",
       "     \"<li>use INLINE resources instead, as so:</li>\\n\"+\n",
       "     \"</ul>\\n\"+\n",
       "     \"<code>\\n\"+\n",
       "     \"from bokeh.resources import INLINE\\n\"+\n",
       "     \"output_notebook(resources=INLINE)\\n\"+\n",
       "     \"</code>\\n\"+\n",
       "     \"</div>\"}};\n",
       "\n",
       "  function display_loaded() {\n",
       "    var el = document.getElementById(\"b35719f8-ac8f-4483-bdb3-c931ecfc48f3\");\n",
       "    if (el != null) {\n",
       "      el.textContent = \"BokehJS is loading...\";\n",
       "    }\n",
       "    if (root.Bokeh !== undefined) {\n",
       "      if (el != null) {\n",
       "        el.textContent = \"BokehJS \" + root.Bokeh.version + \" successfully loaded.\";\n",
       "      }\n",
       "    } else if (Date.now() < root._bokeh_timeout) {\n",
       "      setTimeout(display_loaded, 100)\n",
       "    }\n",
       "  }\n",
       "\n",
       "\n",
       "  function run_callbacks() {\n",
       "    try {\n",
       "      root._bokeh_onload_callbacks.forEach(function(callback) { callback() });\n",
       "    }\n",
       "    finally {\n",
       "      delete root._bokeh_onload_callbacks\n",
       "    }\n",
       "    console.info(\"Bokeh: all callbacks have finished\");\n",
       "  }\n",
       "\n",
       "  function load_libs(js_urls, callback) {\n",
       "    root._bokeh_onload_callbacks.push(callback);\n",
       "    if (root._bokeh_is_loading > 0) {\n",
       "      console.log(\"Bokeh: BokehJS is being loaded, scheduling callback at\", now());\n",
       "      return null;\n",
       "    }\n",
       "    if (js_urls == null || js_urls.length === 0) {\n",
       "      run_callbacks();\n",
       "      return null;\n",
       "    }\n",
       "    console.log(\"Bokeh: BokehJS not loaded, scheduling load and callback at\", now());\n",
       "    root._bokeh_is_loading = js_urls.length;\n",
       "    for (var i = 0; i < js_urls.length; i++) {\n",
       "      var url = js_urls[i];\n",
       "      var s = document.createElement('script');\n",
       "      s.src = url;\n",
       "      s.async = false;\n",
       "      s.onreadystatechange = s.onload = function() {\n",
       "        root._bokeh_is_loading--;\n",
       "        if (root._bokeh_is_loading === 0) {\n",
       "          console.log(\"Bokeh: all BokehJS libraries loaded\");\n",
       "          run_callbacks()\n",
       "        }\n",
       "      };\n",
       "      s.onerror = function() {\n",
       "        console.warn(\"failed to load library \" + url);\n",
       "      };\n",
       "      console.log(\"Bokeh: injecting script tag for BokehJS library: \", url);\n",
       "      document.getElementsByTagName(\"head\")[0].appendChild(s);\n",
       "    }\n",
       "  };var element = document.getElementById(\"b35719f8-ac8f-4483-bdb3-c931ecfc48f3\");\n",
       "  if (element == null) {\n",
       "    console.log(\"Bokeh: ERROR: autoload.js configured with elementid 'b35719f8-ac8f-4483-bdb3-c931ecfc48f3' but no matching script tag was found. \")\n",
       "    return false;\n",
       "  }\n",
       "\n",
       "  var js_urls = [\"https://cdn.pydata.org/bokeh/release/bokeh-0.13.0.min.js\", \"https://cdn.pydata.org/bokeh/release/bokeh-widgets-0.13.0.min.js\", \"https://cdn.pydata.org/bokeh/release/bokeh-tables-0.13.0.min.js\", \"https://cdn.pydata.org/bokeh/release/bokeh-gl-0.13.0.min.js\"];\n",
       "\n",
       "  var inline_js = [\n",
       "    function(Bokeh) {\n",
       "      Bokeh.set_log_level(\"info\");\n",
       "    },\n",
       "    \n",
       "    function(Bokeh) {\n",
       "      \n",
       "    },\n",
       "    function(Bokeh) {\n",
       "      console.log(\"Bokeh: injecting CSS: https://cdn.pydata.org/bokeh/release/bokeh-0.13.0.min.css\");\n",
       "      Bokeh.embed.inject_css(\"https://cdn.pydata.org/bokeh/release/bokeh-0.13.0.min.css\");\n",
       "      console.log(\"Bokeh: injecting CSS: https://cdn.pydata.org/bokeh/release/bokeh-widgets-0.13.0.min.css\");\n",
       "      Bokeh.embed.inject_css(\"https://cdn.pydata.org/bokeh/release/bokeh-widgets-0.13.0.min.css\");\n",
       "      console.log(\"Bokeh: injecting CSS: https://cdn.pydata.org/bokeh/release/bokeh-tables-0.13.0.min.css\");\n",
       "      Bokeh.embed.inject_css(\"https://cdn.pydata.org/bokeh/release/bokeh-tables-0.13.0.min.css\");\n",
       "    }\n",
       "  ];\n",
       "\n",
       "  function run_inline_js() {\n",
       "    \n",
       "    if ((root.Bokeh !== undefined) || (force === true)) {\n",
       "      for (var i = 0; i < inline_js.length; i++) {\n",
       "        inline_js[i].call(root, root.Bokeh);\n",
       "      }if (force === true) {\n",
       "        display_loaded();\n",
       "      }} else if (Date.now() < root._bokeh_timeout) {\n",
       "      setTimeout(run_inline_js, 100);\n",
       "    } else if (!root._bokeh_failed_load) {\n",
       "      console.log(\"Bokeh: BokehJS failed to load within specified timeout.\");\n",
       "      root._bokeh_failed_load = true;\n",
       "    } else if (force !== true) {\n",
       "      var cell = $(document.getElementById(\"b35719f8-ac8f-4483-bdb3-c931ecfc48f3\")).parents('.cell').data().cell;\n",
       "      cell.output_area.append_execute_result(NB_LOAD_WARNING)\n",
       "    }\n",
       "\n",
       "  }\n",
       "\n",
       "  if (root._bokeh_is_loading === 0) {\n",
       "    console.log(\"Bokeh: BokehJS loaded, going straight to plotting\");\n",
       "    run_inline_js();\n",
       "  } else {\n",
       "    load_libs(js_urls, function() {\n",
       "      console.log(\"Bokeh: BokehJS plotting callback run at\", now());\n",
       "      run_inline_js();\n",
       "    });\n",
       "  }\n",
       "}(window));"
      ],
      "application/vnd.bokehjs_load.v0+json": "\n(function(root) {\n  function now() {\n    return new Date();\n  }\n\n  var force = true;\n\n  if (typeof (root._bokeh_onload_callbacks) === \"undefined\" || force === true) {\n    root._bokeh_onload_callbacks = [];\n    root._bokeh_is_loading = undefined;\n  }\n\n  \n\n  \n  if (typeof (root._bokeh_timeout) === \"undefined\" || force === true) {\n    root._bokeh_timeout = Date.now() + 5000;\n    root._bokeh_failed_load = false;\n  }\n\n  var NB_LOAD_WARNING = {'data': {'text/html':\n     \"<div style='background-color: #fdd'>\\n\"+\n     \"<p>\\n\"+\n     \"BokehJS does not appear to have successfully loaded. If loading BokehJS from CDN, this \\n\"+\n     \"may be due to a slow or bad network connection. Possible fixes:\\n\"+\n     \"</p>\\n\"+\n     \"<ul>\\n\"+\n     \"<li>re-rerun `output_notebook()` to attempt to load from CDN again, or</li>\\n\"+\n     \"<li>use INLINE resources instead, as so:</li>\\n\"+\n     \"</ul>\\n\"+\n     \"<code>\\n\"+\n     \"from bokeh.resources import INLINE\\n\"+\n     \"output_notebook(resources=INLINE)\\n\"+\n     \"</code>\\n\"+\n     \"</div>\"}};\n\n  function display_loaded() {\n    var el = document.getElementById(\"b35719f8-ac8f-4483-bdb3-c931ecfc48f3\");\n    if (el != null) {\n      el.textContent = \"BokehJS is loading...\";\n    }\n    if (root.Bokeh !== undefined) {\n      if (el != null) {\n        el.textContent = \"BokehJS \" + root.Bokeh.version + \" successfully loaded.\";\n      }\n    } else if (Date.now() < root._bokeh_timeout) {\n      setTimeout(display_loaded, 100)\n    }\n  }\n\n\n  function run_callbacks() {\n    try {\n      root._bokeh_onload_callbacks.forEach(function(callback) { callback() });\n    }\n    finally {\n      delete root._bokeh_onload_callbacks\n    }\n    console.info(\"Bokeh: all callbacks have finished\");\n  }\n\n  function load_libs(js_urls, callback) {\n    root._bokeh_onload_callbacks.push(callback);\n    if (root._bokeh_is_loading > 0) {\n      console.log(\"Bokeh: BokehJS is being loaded, scheduling callback at\", now());\n      return null;\n    }\n    if (js_urls == null || js_urls.length === 0) {\n      run_callbacks();\n      return null;\n    }\n    console.log(\"Bokeh: BokehJS not loaded, scheduling load and callback at\", now());\n    root._bokeh_is_loading = js_urls.length;\n    for (var i = 0; i < js_urls.length; i++) {\n      var url = js_urls[i];\n      var s = document.createElement('script');\n      s.src = url;\n      s.async = false;\n      s.onreadystatechange = s.onload = function() {\n        root._bokeh_is_loading--;\n        if (root._bokeh_is_loading === 0) {\n          console.log(\"Bokeh: all BokehJS libraries loaded\");\n          run_callbacks()\n        }\n      };\n      s.onerror = function() {\n        console.warn(\"failed to load library \" + url);\n      };\n      console.log(\"Bokeh: injecting script tag for BokehJS library: \", url);\n      document.getElementsByTagName(\"head\")[0].appendChild(s);\n    }\n  };var element = document.getElementById(\"b35719f8-ac8f-4483-bdb3-c931ecfc48f3\");\n  if (element == null) {\n    console.log(\"Bokeh: ERROR: autoload.js configured with elementid 'b35719f8-ac8f-4483-bdb3-c931ecfc48f3' but no matching script tag was found. \")\n    return false;\n  }\n\n  var js_urls = [\"https://cdn.pydata.org/bokeh/release/bokeh-0.13.0.min.js\", \"https://cdn.pydata.org/bokeh/release/bokeh-widgets-0.13.0.min.js\", \"https://cdn.pydata.org/bokeh/release/bokeh-tables-0.13.0.min.js\", \"https://cdn.pydata.org/bokeh/release/bokeh-gl-0.13.0.min.js\"];\n\n  var inline_js = [\n    function(Bokeh) {\n      Bokeh.set_log_level(\"info\");\n    },\n    \n    function(Bokeh) {\n      \n    },\n    function(Bokeh) {\n      console.log(\"Bokeh: injecting CSS: https://cdn.pydata.org/bokeh/release/bokeh-0.13.0.min.css\");\n      Bokeh.embed.inject_css(\"https://cdn.pydata.org/bokeh/release/bokeh-0.13.0.min.css\");\n      console.log(\"Bokeh: injecting CSS: https://cdn.pydata.org/bokeh/release/bokeh-widgets-0.13.0.min.css\");\n      Bokeh.embed.inject_css(\"https://cdn.pydata.org/bokeh/release/bokeh-widgets-0.13.0.min.css\");\n      console.log(\"Bokeh: injecting CSS: https://cdn.pydata.org/bokeh/release/bokeh-tables-0.13.0.min.css\");\n      Bokeh.embed.inject_css(\"https://cdn.pydata.org/bokeh/release/bokeh-tables-0.13.0.min.css\");\n    }\n  ];\n\n  function run_inline_js() {\n    \n    if ((root.Bokeh !== undefined) || (force === true)) {\n      for (var i = 0; i < inline_js.length; i++) {\n        inline_js[i].call(root, root.Bokeh);\n      }if (force === true) {\n        display_loaded();\n      }} else if (Date.now() < root._bokeh_timeout) {\n      setTimeout(run_inline_js, 100);\n    } else if (!root._bokeh_failed_load) {\n      console.log(\"Bokeh: BokehJS failed to load within specified timeout.\");\n      root._bokeh_failed_load = true;\n    } else if (force !== true) {\n      var cell = $(document.getElementById(\"b35719f8-ac8f-4483-bdb3-c931ecfc48f3\")).parents('.cell').data().cell;\n      cell.output_area.append_execute_result(NB_LOAD_WARNING)\n    }\n\n  }\n\n  if (root._bokeh_is_loading === 0) {\n    console.log(\"Bokeh: BokehJS loaded, going straight to plotting\");\n    run_inline_js();\n  } else {\n    load_libs(js_urls, function() {\n      console.log(\"Bokeh: BokehJS plotting callback run at\", now());\n      run_inline_js();\n    });\n  }\n}(window));"
     },
     "metadata": {},
     "output_type": "display_data"
    }
   ],
   "source": [
    "output_notebook()\n",
    "def plotting_curve(title, y_axis_label, x, y, color):\n",
    "    hover = HoverTool()\n",
    "    p = figure(plot_width = 450, plot_height = 300, \n",
    "           title = title, x_axis_type=\"datetime\",\n",
    "           x_axis_label = 'Time', y_axis_label = y_axis_label,)\n",
    "    p.line(x = x, y = y, line_width = 2, color = color)\n",
    "    p.add_tools(hover)\n",
    "    show(p)\n",
    "\n",
    "def double_plotting_curve(title, y_axis_label, x1, y1, color1, x2, y2, color2):\n",
    "    hover = HoverTool()\n",
    "    p = figure(plot_width = 900, plot_height = 600, \n",
    "           title = title, x_axis_type=\"datetime\",\n",
    "           x_axis_label = 'Time', y_axis_label = y_axis_label,)\n",
    "    p.line(x = x1, y = y1, line_width = 2, color = color1, legend='Actual')\n",
    "    p.line(x = x2, y = y2, line_width = 2, color = color2, legend='Expected')\n",
    "    p.add_tools(hover)\n",
    "    p.legend.location = \"bottom_left\"\n",
    "    show(p)"
   ]
  },
  {
   "cell_type": "code",
   "execution_count": 10,
   "metadata": {},
   "outputs": [
    {
     "data": {
      "text/html": [
       "\n",
       "\n",
       "\n",
       "\n",
       "\n",
       "\n",
       "  <div class=\"bk-root\" id=\"f44d628f-6340-46fc-add4-57c3754ddc20\"></div>\n"
      ]
     },
     "metadata": {},
     "output_type": "display_data"
    },
    {
     "data": {
      "application/javascript": [
       "(function(root) {\n",
       "  function embed_document(root) {\n",
       "    \n",
       "  var docs_json = {\"dbeb61af-3103-426c-9aa0-2b2289f8ea03\":{\"roots\":{\"references\":[{\"attributes\":{\"plot\":{\"id\":\"ec4818a8-ff5a-4942-88f6-2c826da6bfa5\",\"subtype\":\"Figure\",\"type\":\"Plot\"},\"ticker\":{\"id\":\"6fbf2e6f-fad5-4b7c-a6fe-e92fcc29b30e\",\"type\":\"DatetimeTicker\"}},\"id\":\"75dc1c50-f4e2-4494-a2d4-814da51ee95e\",\"type\":\"Grid\"},{\"attributes\":{\"axis_label\":\"Stock_Value\",\"formatter\":{\"id\":\"93030024-98c9-43e3-b135-291f70333fe1\",\"type\":\"BasicTickFormatter\"},\"plot\":{\"id\":\"ec4818a8-ff5a-4942-88f6-2c826da6bfa5\",\"subtype\":\"Figure\",\"type\":\"Plot\"},\"ticker\":{\"id\":\"5098e12f-a7fa-4869-84f8-4d407364268d\",\"type\":\"BasicTicker\"}},\"id\":\"180fb348-6162-455e-be57-60733713c0dc\",\"type\":\"LinearAxis\"},{\"attributes\":{},\"id\":\"5098e12f-a7fa-4869-84f8-4d407364268d\",\"type\":\"BasicTicker\"},{\"attributes\":{\"dimension\":1,\"plot\":{\"id\":\"ec4818a8-ff5a-4942-88f6-2c826da6bfa5\",\"subtype\":\"Figure\",\"type\":\"Plot\"},\"ticker\":{\"id\":\"5098e12f-a7fa-4869-84f8-4d407364268d\",\"type\":\"BasicTicker\"}},\"id\":\"5ad3e782-2cbf-4264-a8e7-81cd569a1831\",\"type\":\"Grid\"},{\"attributes\":{\"bottom_units\":\"screen\",\"fill_alpha\":{\"value\":0.5},\"fill_color\":{\"value\":\"lightgrey\"},\"left_units\":\"screen\",\"level\":\"overlay\",\"line_alpha\":{\"value\":1.0},\"line_color\":{\"value\":\"black\"},\"line_dash\":[4,4],\"line_width\":{\"value\":2},\"plot\":null,\"render_mode\":\"css\",\"right_units\":\"screen\",\"top_units\":\"screen\"},\"id\":\"8519becc-e269-400d-b453-e16c424a4d6b\",\"type\":\"BoxAnnotation\"},{\"attributes\":{\"line_alpha\":0.1,\"line_color\":\"#1f77b4\",\"line_width\":2,\"x\":{\"field\":\"x\"},\"y\":{\"field\":\"y\"}},\"id\":\"72a6d226-97e9-4bc0-9d85-5d5e30851f74\",\"type\":\"Line\"},{\"attributes\":{\"callback\":null,\"data\":{\"x\":{\"__ndarray__\":\"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\",\"dtype\":\"float64\",\"shape\":[251]},\"y\":{\"__ndarray__\":\"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\",\"dtype\":\"float64\",\"shape\":[251]}},\"selected\":{\"id\":\"27bc0ba9-1702-4251-8ba9-10dd8e281318\",\"type\":\"Selection\"},\"selection_policy\":{\"id\":\"5ab98467-a931-416f-b8cd-d373cd93e56d\",\"type\":\"UnionRenderers\"}},\"id\":\"65f38402-b102-4354-9cbd-2a5e0aac1b16\",\"type\":\"ColumnDataSource\"},{\"attributes\":{},\"id\":\"c09ca233-4736-4186-8efb-210c654120ab\",\"type\":\"PanTool\"},{\"attributes\":{},\"id\":\"5a0db5e4-a435-484d-a3a2-ac0153c0207f\",\"type\":\"WheelZoomTool\"},{\"attributes\":{\"overlay\":{\"id\":\"8519becc-e269-400d-b453-e16c424a4d6b\",\"type\":\"BoxAnnotation\"}},\"id\":\"248b9ddd-98de-4af5-942b-8b03882639cc\",\"type\":\"BoxZoomTool\"},{\"attributes\":{},\"id\":\"d43f5d9b-f352-4b6a-930c-bd2cefac19cf\",\"type\":\"SaveTool\"},{\"attributes\":{},\"id\":\"726f37f8-2299-404b-835b-ba4bf15bcd34\",\"type\":\"ResetTool\"},{\"attributes\":{},\"id\":\"c4162059-d502-4a72-8df9-da3ffe1decf4\",\"type\":\"HelpTool\"},{\"attributes\":{\"base\":60,\"mantissas\":[1,2,5,10,15,20,30],\"max_interval\":1800000.0,\"min_interval\":1000.0,\"num_minor_ticks\":0},\"id\":\"f028df1a-25e9-41a8-b53e-dbc0bd34afb3\",\"type\":\"AdaptiveTicker\"},{\"attributes\":{},\"id\":\"93030024-98c9-43e3-b135-291f70333fe1\",\"type\":\"BasicTickFormatter\"},{\"attributes\":{\"mantissas\":[1,2,5],\"max_interval\":500.0,\"num_minor_ticks\":0},\"id\":\"3ccdf243-abbf-4b47-8ef8-f1f2d301d38b\",\"type\":\"AdaptiveTicker\"},{\"attributes\":{},\"id\":\"5ab98467-a931-416f-b8cd-d373cd93e56d\",\"type\":\"UnionRenderers\"},{\"attributes\":{\"base\":24,\"mantissas\":[1,2,4,6,8,12],\"max_interval\":43200000.0,\"min_interval\":3600000.0,\"num_minor_ticks\":0},\"id\":\"696fc7af-6b89-4ee8-b350-197084a0a29a\",\"type\":\"AdaptiveTicker\"},{\"attributes\":{\"line_color\":\"indigo\",\"line_width\":2,\"x\":{\"field\":\"x\"},\"y\":{\"field\":\"y\"}},\"id\":\"1a13fdf7-6d1e-4186-8f0b-d5819065b287\",\"type\":\"Line\"},{\"attributes\":{\"days\":[1,2,3,4,5,6,7,8,9,10,11,12,13,14,15,16,17,18,19,20,21,22,23,24,25,26,27,28,29,30,31]},\"id\":\"8356e726-1984-4a0f-89f3-c1af4eae82d9\",\"type\":\"DaysTicker\"},{\"attributes\":{\"days\":[1,4,7,10,13,16,19,22,25,28]},\"id\":\"681e4375-f975-4c6f-968f-f7b05ad79903\",\"type\":\"DaysTicker\"},{\"attributes\":{\"callback\":null,\"renderers\":\"auto\"},\"id\":\"1d9a0d5a-e1c7-41bb-a2b0-731d944afb6b\",\"type\":\"HoverTool\"},{\"attributes\":{\"days\":[1,8,15,22]},\"id\":\"2bf6aecf-8b08-4cb2-ad08-ae30221747d6\",\"type\":\"DaysTicker\"},{\"attributes\":{\"data_source\":{\"id\":\"65f38402-b102-4354-9cbd-2a5e0aac1b16\",\"type\":\"ColumnDataSource\"},\"glyph\":{\"id\":\"1a13fdf7-6d1e-4186-8f0b-d5819065b287\",\"type\":\"Line\"},\"hover_glyph\":null,\"muted_glyph\":null,\"nonselection_glyph\":{\"id\":\"72a6d226-97e9-4bc0-9d85-5d5e30851f74\",\"type\":\"Line\"},\"selection_glyph\":null,\"view\":{\"id\":\"9cacbbc8-da30-46a8-8c5f-f95926096914\",\"type\":\"CDSView\"}},\"id\":\"f411a095-ea63-47f6-adb9-b4bc4f714666\",\"type\":\"GlyphRenderer\"},{\"attributes\":{\"days\":[1,15]},\"id\":\"073073f8-6384-4106-94fb-32f50a09e85e\",\"type\":\"DaysTicker\"},{\"attributes\":{\"months\":[0,1,2,3,4,5,6,7,8,9,10,11]},\"id\":\"fe734213-1548-40e7-852d-e256f8d4347a\",\"type\":\"MonthsTicker\"},{\"attributes\":{\"below\":[{\"id\":\"9969a255-35e4-4fef-a786-bf412ad8e223\",\"type\":\"DatetimeAxis\"}],\"left\":[{\"id\":\"180fb348-6162-455e-be57-60733713c0dc\",\"type\":\"LinearAxis\"}],\"plot_height\":300,\"plot_width\":450,\"renderers\":[{\"id\":\"9969a255-35e4-4fef-a786-bf412ad8e223\",\"type\":\"DatetimeAxis\"},{\"id\":\"75dc1c50-f4e2-4494-a2d4-814da51ee95e\",\"type\":\"Grid\"},{\"id\":\"180fb348-6162-455e-be57-60733713c0dc\",\"type\":\"LinearAxis\"},{\"id\":\"5ad3e782-2cbf-4264-a8e7-81cd569a1831\",\"type\":\"Grid\"},{\"id\":\"8519becc-e269-400d-b453-e16c424a4d6b\",\"type\":\"BoxAnnotation\"},{\"id\":\"f411a095-ea63-47f6-adb9-b4bc4f714666\",\"type\":\"GlyphRenderer\"}],\"title\":{\"id\":\"b10a4e88-7aff-439a-9e90-d3d2bafcce3e\",\"type\":\"Title\"},\"toolbar\":{\"id\":\"eb5c04b7-f42f-4dad-97b2-c62b22cb66f1\",\"type\":\"Toolbar\"},\"x_range\":{\"id\":\"c152fcaa-edc6-4fcf-b090-5b2ee3373821\",\"type\":\"DataRange1d\"},\"x_scale\":{\"id\":\"996d4b7a-ba26-49b9-bd8a-43c49e41d803\",\"type\":\"LinearScale\"},\"y_range\":{\"id\":\"5dfe24ef-2c23-4c55-bc59-f86face1b37d\",\"type\":\"DataRange1d\"},\"y_scale\":{\"id\":\"2fa771c5-be1f-4cfc-95bf-fed3362e6048\",\"type\":\"LinearScale\"}},\"id\":\"ec4818a8-ff5a-4942-88f6-2c826da6bfa5\",\"subtype\":\"Figure\",\"type\":\"Plot\"},{\"attributes\":{\"months\":[0,2,4,6,8,10]},\"id\":\"70624a73-d604-43d5-a5a6-3589243093d3\",\"type\":\"MonthsTicker\"},{\"attributes\":{\"plot\":null,\"text\":\"Stock_Value vs Time\"},\"id\":\"b10a4e88-7aff-439a-9e90-d3d2bafcce3e\",\"type\":\"Title\"},{\"attributes\":{\"months\":[0,4,8]},\"id\":\"65989cc0-dd2c-4250-b6e8-249d2cd008fe\",\"type\":\"MonthsTicker\"},{\"attributes\":{\"callback\":null},\"id\":\"c152fcaa-edc6-4fcf-b090-5b2ee3373821\",\"type\":\"DataRange1d\"},{\"attributes\":{\"months\":[0,6]},\"id\":\"43a55281-26f2-467a-8733-1481f9b4ee3b\",\"type\":\"MonthsTicker\"},{\"attributes\":{},\"id\":\"996d4b7a-ba26-49b9-bd8a-43c49e41d803\",\"type\":\"LinearScale\"},{\"attributes\":{},\"id\":\"01ae04e4-b5e0-4695-8974-7d86dac58d87\",\"type\":\"YearsTicker\"},{\"attributes\":{\"callback\":null},\"id\":\"5dfe24ef-2c23-4c55-bc59-f86face1b37d\",\"type\":\"DataRange1d\"},{\"attributes\":{},\"id\":\"27bc0ba9-1702-4251-8ba9-10dd8e281318\",\"type\":\"Selection\"},{\"attributes\":{\"active_drag\":\"auto\",\"active_inspect\":\"auto\",\"active_multi\":null,\"active_scroll\":\"auto\",\"active_tap\":\"auto\",\"tools\":[{\"id\":\"c09ca233-4736-4186-8efb-210c654120ab\",\"type\":\"PanTool\"},{\"id\":\"5a0db5e4-a435-484d-a3a2-ac0153c0207f\",\"type\":\"WheelZoomTool\"},{\"id\":\"248b9ddd-98de-4af5-942b-8b03882639cc\",\"type\":\"BoxZoomTool\"},{\"id\":\"d43f5d9b-f352-4b6a-930c-bd2cefac19cf\",\"type\":\"SaveTool\"},{\"id\":\"726f37f8-2299-404b-835b-ba4bf15bcd34\",\"type\":\"ResetTool\"},{\"id\":\"c4162059-d502-4a72-8df9-da3ffe1decf4\",\"type\":\"HelpTool\"},{\"id\":\"1d9a0d5a-e1c7-41bb-a2b0-731d944afb6b\",\"type\":\"HoverTool\"}]},\"id\":\"eb5c04b7-f42f-4dad-97b2-c62b22cb66f1\",\"type\":\"Toolbar\"},{\"attributes\":{\"source\":{\"id\":\"65f38402-b102-4354-9cbd-2a5e0aac1b16\",\"type\":\"ColumnDataSource\"}},\"id\":\"9cacbbc8-da30-46a8-8c5f-f95926096914\",\"type\":\"CDSView\"},{\"attributes\":{},\"id\":\"2fa771c5-be1f-4cfc-95bf-fed3362e6048\",\"type\":\"LinearScale\"},{\"attributes\":{},\"id\":\"3c85f095-0ecd-4895-b65a-40b61afd04a1\",\"type\":\"DatetimeTickFormatter\"},{\"attributes\":{\"axis_label\":\"Time\",\"formatter\":{\"id\":\"3c85f095-0ecd-4895-b65a-40b61afd04a1\",\"type\":\"DatetimeTickFormatter\"},\"plot\":{\"id\":\"ec4818a8-ff5a-4942-88f6-2c826da6bfa5\",\"subtype\":\"Figure\",\"type\":\"Plot\"},\"ticker\":{\"id\":\"6fbf2e6f-fad5-4b7c-a6fe-e92fcc29b30e\",\"type\":\"DatetimeTicker\"}},\"id\":\"9969a255-35e4-4fef-a786-bf412ad8e223\",\"type\":\"DatetimeAxis\"},{\"attributes\":{\"num_minor_ticks\":5,\"tickers\":[{\"id\":\"3ccdf243-abbf-4b47-8ef8-f1f2d301d38b\",\"type\":\"AdaptiveTicker\"},{\"id\":\"f028df1a-25e9-41a8-b53e-dbc0bd34afb3\",\"type\":\"AdaptiveTicker\"},{\"id\":\"696fc7af-6b89-4ee8-b350-197084a0a29a\",\"type\":\"AdaptiveTicker\"},{\"id\":\"8356e726-1984-4a0f-89f3-c1af4eae82d9\",\"type\":\"DaysTicker\"},{\"id\":\"681e4375-f975-4c6f-968f-f7b05ad79903\",\"type\":\"DaysTicker\"},{\"id\":\"2bf6aecf-8b08-4cb2-ad08-ae30221747d6\",\"type\":\"DaysTicker\"},{\"id\":\"073073f8-6384-4106-94fb-32f50a09e85e\",\"type\":\"DaysTicker\"},{\"id\":\"fe734213-1548-40e7-852d-e256f8d4347a\",\"type\":\"MonthsTicker\"},{\"id\":\"70624a73-d604-43d5-a5a6-3589243093d3\",\"type\":\"MonthsTicker\"},{\"id\":\"65989cc0-dd2c-4250-b6e8-249d2cd008fe\",\"type\":\"MonthsTicker\"},{\"id\":\"43a55281-26f2-467a-8733-1481f9b4ee3b\",\"type\":\"MonthsTicker\"},{\"id\":\"01ae04e4-b5e0-4695-8974-7d86dac58d87\",\"type\":\"YearsTicker\"}]},\"id\":\"6fbf2e6f-fad5-4b7c-a6fe-e92fcc29b30e\",\"type\":\"DatetimeTicker\"}],\"root_ids\":[\"ec4818a8-ff5a-4942-88f6-2c826da6bfa5\"]},\"title\":\"Bokeh Application\",\"version\":\"0.13.0\"}};\n",
       "  var render_items = [{\"docid\":\"dbeb61af-3103-426c-9aa0-2b2289f8ea03\",\"roots\":{\"ec4818a8-ff5a-4942-88f6-2c826da6bfa5\":\"f44d628f-6340-46fc-add4-57c3754ddc20\"}}];\n",
       "  root.Bokeh.embed.embed_items_notebook(docs_json, render_items);\n",
       "\n",
       "  }\n",
       "  if (root.Bokeh !== undefined) {\n",
       "    embed_document(root);\n",
       "  } else {\n",
       "    var attempts = 0;\n",
       "    var timer = setInterval(function(root) {\n",
       "      if (root.Bokeh !== undefined) {\n",
       "        embed_document(root);\n",
       "        clearInterval(timer);\n",
       "      }\n",
       "      attempts++;\n",
       "      if (attempts > 100) {\n",
       "        console.log(\"Bokeh: ERROR: Unable to run BokehJS code because BokehJS library is missing\")\n",
       "        clearInterval(timer);\n",
       "      }\n",
       "    }, 10, root)\n",
       "  }\n",
       "})(window);"
      ],
      "application/vnd.bokehjs_exec.v0+json": ""
     },
     "metadata": {
      "application/vnd.bokehjs_exec.v0+json": {
       "id": "ec4818a8-ff5a-4942-88f6-2c826da6bfa5"
      }
     },
     "output_type": "display_data"
    }
   ],
   "source": [
    "plotting_curve('Stock_Value vs Time', 'Stock_Value', data_open.index, data_open,'indigo')"
   ]
  },
  {
   "cell_type": "code",
   "execution_count": 11,
   "metadata": {},
   "outputs": [],
   "source": [
    "def statistics_check(series):\n",
    "    values = series\n",
    "    split = int(len(values)/2)\n",
    "    data_open_1, data_open_2 = values[0:split], values[split+1:]\n",
    "    mean1, mean2 = data_open_1.mean(), data_open_2.mean()\n",
    "    variance1, variance2 = data_open_1.var(), data_open_2.var()\n",
    "    print('mean1=',mean1, \", mean2=\",mean2)\n",
    "    print('variance1=',variance1, \", variance2=\",variance2)"
   ]
  },
  {
   "cell_type": "code",
   "execution_count": 12,
   "metadata": {},
   "outputs": [
    {
     "name": "stdout",
     "output_type": "stream",
     "text": [
      "mean1= 119.357360152 , mean2= 124.596639568\n",
      "variance1= 36.2052312261 , variance2= 8.98625177998\n"
     ]
    }
   ],
   "source": [
    "#statistics by checking the mean and variance by splitting the data\n",
    "statistics_check(data_open.values)"
   ]
  },
  {
   "cell_type": "markdown",
   "metadata": {},
   "source": [
    "#### By seeing the difference between mean and variance we can say its not stationary, lets proceed with Dickey-Fuller Test to confirm this"
   ]
  },
  {
   "cell_type": "markdown",
   "metadata": {},
   "source": [
    "### Dickey-Fuller test\n",
    "This test will give us ADF, P-value and critical values, if test rejects the null hypothesis then series is not stationary and if it failed to reject it then it is stationary"
   ]
  },
  {
   "cell_type": "code",
   "execution_count": 13,
   "metadata": {},
   "outputs": [],
   "source": [
    "def dickey_Fuller(series):\n",
    "    result_adFuller = adfuller(series)\n",
    "    print('ADF-Statistics:',result_adFuller[0])\n",
    "    print('P-value:',result_adFuller[1])\n",
    "    print('Critical Values:')\n",
    "    for key,value in result_adFuller[4].items():\n",
    "        print(key, ':', value)"
   ]
  },
  {
   "cell_type": "code",
   "execution_count": 14,
   "metadata": {},
   "outputs": [
    {
     "name": "stdout",
     "output_type": "stream",
     "text": [
      "ADF-Statistics: -2.64002817508\n",
      "P-value: 0.0850031929154\n",
      "Critical Values:\n",
      "1% : -3.45678085971\n",
      "5% : -2.87317150656\n",
      "10% : -2.572968544\n"
     ]
    }
   ],
   "source": [
    "dickey_Fuller(data_open.values)"
   ]
  },
  {
   "cell_type": "markdown",
   "metadata": {},
   "source": [
    "### As p-value is 0.08 which signifies that it failed to reject the null hypothesis, that means it is not stationary"
   ]
  },
  {
   "cell_type": "markdown",
   "metadata": {},
   "source": [
    "## Convert the non stationary time-series to stationary time series\n",
    "There are two ways to convert the non stationary time-series to stationary time series\n",
    "1. Transformation eg log, exponential\n",
    "2. Differencing\n",
    "3. Decomposing -> to model the seasonal and trend seperately and return the result\n"
   ]
  },
  {
   "cell_type": "markdown",
   "metadata": {},
   "source": [
    "### Transformation"
   ]
  },
  {
   "cell_type": "code",
   "execution_count": 15,
   "metadata": {},
   "outputs": [
    {
     "data": {
      "text/html": [
       "\n",
       "\n",
       "\n",
       "\n",
       "\n",
       "\n",
       "  <div class=\"bk-root\" id=\"9d40944a-3289-43bd-ac5e-738569ba795b\"></div>\n"
      ]
     },
     "metadata": {},
     "output_type": "display_data"
    },
    {
     "data": {
      "application/javascript": [
       "(function(root) {\n",
       "  function embed_document(root) {\n",
       "    \n",
       "  var docs_json = {\"9342f23b-7036-4b7f-8edd-6795c4db9155\":{\"roots\":{\"references\":[{\"attributes\":{\"data_source\":{\"id\":\"f13cb2c1-c124-4288-93a4-cdd3d30de82b\",\"type\":\"ColumnDataSource\"},\"glyph\":{\"id\":\"a3ad1254-c9f0-4360-a28e-53a894b9c0bc\",\"type\":\"Line\"},\"hover_glyph\":null,\"muted_glyph\":null,\"nonselection_glyph\":{\"id\":\"b35d3c33-724f-4239-999a-e95449660d45\",\"type\":\"Line\"},\"selection_glyph\":null,\"view\":{\"id\":\"f7a4124d-98bd-44ce-b4a2-1d77b026c15a\",\"type\":\"CDSView\"}},\"id\":\"27f9afff-2248-4b1c-b1d2-c2fa4cc330fa\",\"type\":\"GlyphRenderer\"},{\"attributes\":{\"plot\":null,\"text\":\"log(Stock_Value) vs Time\"},\"id\":\"e6140281-b619-4583-8f66-32b3951ad424\",\"type\":\"Title\"},{\"attributes\":{\"source\":{\"id\":\"f13cb2c1-c124-4288-93a4-cdd3d30de82b\",\"type\":\"ColumnDataSource\"}},\"id\":\"f7a4124d-98bd-44ce-b4a2-1d77b026c15a\",\"type\":\"CDSView\"},{\"attributes\":{\"below\":[{\"id\":\"5e6a54e5-7755-40a9-8adf-811090541d9e\",\"type\":\"DatetimeAxis\"}],\"left\":[{\"id\":\"ad7583b7-470c-4be7-89d2-68f9705d8d9c\",\"type\":\"LinearAxis\"}],\"plot_height\":300,\"plot_width\":450,\"renderers\":[{\"id\":\"5e6a54e5-7755-40a9-8adf-811090541d9e\",\"type\":\"DatetimeAxis\"},{\"id\":\"956ab3c6-0de6-42c5-9456-08c35fdd31dc\",\"type\":\"Grid\"},{\"id\":\"ad7583b7-470c-4be7-89d2-68f9705d8d9c\",\"type\":\"LinearAxis\"},{\"id\":\"9b181982-8a24-4335-8ded-bc153e8cbc11\",\"type\":\"Grid\"},{\"id\":\"bb26badf-cfd6-4e92-bd16-b0152956a7ea\",\"type\":\"BoxAnnotation\"},{\"id\":\"27f9afff-2248-4b1c-b1d2-c2fa4cc330fa\",\"type\":\"GlyphRenderer\"}],\"title\":{\"id\":\"e6140281-b619-4583-8f66-32b3951ad424\",\"type\":\"Title\"},\"toolbar\":{\"id\":\"004e95ec-953b-47fa-9da3-f745c3c16d60\",\"type\":\"Toolbar\"},\"x_range\":{\"id\":\"5c3e4bff-7584-4596-b9fb-9d4ff5928b25\",\"type\":\"DataRange1d\"},\"x_scale\":{\"id\":\"62a409aa-e4ca-4356-a64d-38d07b7562eb\",\"type\":\"LinearScale\"},\"y_range\":{\"id\":\"38264d37-2042-4a6a-937a-3e2a1145186d\",\"type\":\"DataRange1d\"},\"y_scale\":{\"id\":\"6b59115f-57e2-4e36-aef6-01ac0cf10c39\",\"type\":\"LinearScale\"}},\"id\":\"9b7bcb19-3b10-404c-99fb-ed264d235aad\",\"subtype\":\"Figure\",\"type\":\"Plot\"},{\"attributes\":{\"line_color\":\"red\",\"line_width\":2,\"x\":{\"field\":\"x\"},\"y\":{\"field\":\"y\"}},\"id\":\"a3ad1254-c9f0-4360-a28e-53a894b9c0bc\",\"type\":\"Line\"},{\"attributes\":{},\"id\":\"77510434-e4d2-4a71-9803-d25472d8b1eb\",\"type\":\"UnionRenderers\"},{\"attributes\":{},\"id\":\"74973598-794a-4f60-a3b8-013ae213c9bc\",\"type\":\"ResetTool\"},{\"attributes\":{},\"id\":\"f50bbb08-4a6e-4c11-b13b-ce866d1f15ea\",\"type\":\"DatetimeTickFormatter\"},{\"attributes\":{},\"id\":\"62a409aa-e4ca-4356-a64d-38d07b7562eb\",\"type\":\"LinearScale\"},{\"attributes\":{},\"id\":\"f5e29d98-4a90-4814-977a-8a56d8bc7011\",\"type\":\"WheelZoomTool\"},{\"attributes\":{},\"id\":\"b32f827e-e39e-4d7e-83ea-cc685665a11c\",\"type\":\"BasicTickFormatter\"},{\"attributes\":{},\"id\":\"6a5dac9e-e428-4c09-ba59-b15db0570aa6\",\"type\":\"HelpTool\"},{\"attributes\":{\"base\":60,\"mantissas\":[1,2,5,10,15,20,30],\"max_interval\":1800000.0,\"min_interval\":1000.0,\"num_minor_ticks\":0},\"id\":\"585e1caa-cb17-43de-b228-c5ffd7084309\",\"type\":\"AdaptiveTicker\"},{\"attributes\":{},\"id\":\"c82486a6-a122-491e-ae22-cdd236359afa\",\"type\":\"YearsTicker\"},{\"attributes\":{\"months\":[0,2,4,6,8,10]},\"id\":\"31e5242c-871a-4d31-9c82-aebeea155478\",\"type\":\"MonthsTicker\"},{\"attributes\":{\"callback\":null,\"data\":{\"x\":{\"__ndarray__\":\"AADAVPEgdUIAAIC6QyF1QgAAQCCWIXVCAAAAhughdUIAAEC33yJ1QgAAAB0yI3VCAADAgoQjdUIAAIDo1iN1QgAAQE4pJHVCAABA5XIldUIAAABLxSV1QgAAwLAXJnVCAACAFmomdUIAAMBHYSd1QgAAgK2zJ3VCAABAEwYodUIAAAB5WCh1QgAAwN6qKHVCAAAAEKIpdUIAAMB19Cl1QgAAgNtGKnVCAABAQZkqdUIAAACn6yp1QgAAQNjiK3VCAAAAPjUsdUIAAMCjhyx1QgAAgAnaLHVCAABAbywtdUIAAEAGdi51QgAAAGzILnVCAADA0RovdUIAAIA3bS91QgAAwGhkMHVCAACAzrYwdUIAAEA0CTF1QgAAAJpbMXVCAADA/60xdUIAAAAxpTJ1QgAAwJb3MnVCAACA/EkzdUIAAEBinDN1QgAAAMjuM3VCAABA+eU0dUIAAABfODV1QgAAwMSKNXVCAACAKt01dUIAAECQLzZ1QgAAgMEmN3VCAABAJ3k3dUIAAACNyzd1QgAAwPIdOHVCAACAWHA4dUIAAMCJZzl1QgAAgO+5OXVCAABAVQw6dUIAAAC7Xjp1QgAAAFKoO3VCAADAt/o7dUIAAIAdTTx1QgAAQIOfPHVCAAAA6fE8dUIAAEAa6T11QgAAAIA7PnVCAADA5Y0+dUIAAIBL4D51QgAAQLEyP3VCAACA4ilAdUIAAEBIfEB1QgAAAK7OQHVCAADAEyFBdUIAAIB5c0F1QgAAwKpqQnVCAACAEL1CdUIAAEB2D0N1QgAAANxhQ3VCAADAQbRDdUIAAABzq0R1QgAAwNj9RHVCAACAPlBFdUIAAECkokV1QgAAAAr1RXVCAABAO+xGdUIAAAChPkd1QgAAwAaRR3VCAACAbONHdUIAAEDSNUh1QgAAgAMtSXVCAABAaX9JdUIAAADP0Ul1QgAAwDQkSnVCAACAmnZKdUIAAMDLbUt1QgAAgDHAS3VCAABAlxJMdUIAAAD9ZEx1QgAAwGK3THVCAAAAlK5NdUIAAMD5AE51QgAAgF9TTnVCAABAxaVOdUIAAAAr+E51QgAAAMJBUHVCAADAJ5RQdUIAAICN5lB1QgAAQPM4UXVCAACAJDBSdUIAAECKglJ1QgAAAPDUUnVCAADAVSdTdUIAAIC7eVN1QgAAwOxwVHVCAACAUsNUdUIAAEC4FVV1QgAAAB5oVXVCAADAg7pVdUIAAAC1sVZ1QgAAwBoEV3VCAACAgFZXdUIAAEDmqFd1QgAAAEz7V3VCAABAffJYdUIAAADjRFl1QgAAwEiXWXVCAACArulZdUIAAEAUPFp1QgAAQKuFW3VCAAAAEdhbdUIAAMB2Klx1QgAAgNx8XHVCAADADXRddUIAAIBzxl11QgAAQNkYXnVCAAAAP2tedUIAAMCkvV51QgAAANa0X3VCAADAOwdgdUIAAIChWWB1QgAAQAesYHVCAAAAbf5gdUIAAECe9WF1QgAAAARIYnVCAADAaZpidUIAAIDP7GJ1QgAAQDU/Y3VCAACAZjZkdUIAAEDMiGR1QgAAADLbZHVCAADAly1ldUIAAID9f2V1QgAAwC53ZnVCAACAlMlmdUIAAED6G2d1QgAAAGBuZ3VCAADAxcBndUIAAAD3t2h1QgAAwFwKaXVCAACAwlxpdUIAAEAor2l1QgAAAI4BanVCAABAv/hqdUIAAAAlS2t1QgAAwIqda3VCAACA8O9rdUIAAEBWQmx1QgAAgIc5bXVCAABA7YttdUIAAABT3m11QgAAwLgwbnVCAACAHoNudUIAAIC1zG91QgAAQBsfcHVCAAAAgXFwdUIAAMDmw3B1QgAAABi7cXVCAADAfQ1ydUIAAIDjX3J1QgAAQEmycnVCAAAArwRzdUIAAEDg+3N1QgAAAEZOdHVCAADAq6B0dUIAAIAR83R1QgAAQHdFdXVCAACAqDx2dUIAAEAOj3Z1QgAAAHThdnVCAADA2TN3dUIAAIA/hnd1QgAAwHB9eHVCAACA1s94dUIAAEA8Inl1QgAAAKJ0eXVCAADAB8d5dUIAAAA5vnp1QgAAwJ4Qe3VCAACABGN7dUIAAEBqtXt1QgAAANAHfHVCAABAAf98dUIAAABnUX11QgAAwMyjfXVCAACAMvZ9dUIAAECYSH51QgAAgMk/f3VCAABAL5J/dUIAAACV5H91QgAAwPo2gHVCAACAYImAdUIAAMCRgIF1QgAAgPfSgXVCAABAXSWCdUIAAADDd4J1QgAAwCjKgnVCAAAAWsGDdUIAAMC/E4R1QgAAgCVmhHVCAABAi7iEdUIAAADxCoV1QgAAQCIChnVCAAAAiFSGdUIAAMDtpoZ1QgAAgFP5hnVCAABAuUuHdUIAAIDqQoh1QgAAQFCViHVCAAAAtueIdUIAAICBjIl1QgAAwLKDinVCAACAGNaKdUIAAEB+KIt1QgAAAOR6i3VCAADASc2LdUIAAAB7xIx1QgAAwOAWjXVCAACARmmNdUIAAECsu411QgAAABIOjnVCAABAQwWPdUIAAACpV491QgAAwA6qj3VCAACAdPyPdUIAAEDaTpB1QgAAgAtGkXVCAABAcZiRdUIAAADX6pF1QgAAwDw9knVCAACAoo+SdUIAAIA52ZN1QgAAQJ8rlHVCAAAABX6UdUIAAMBq0JR1Qg==\",\"dtype\":\"float64\",\"shape\":[251]},\"y\":{\"__ndarray__\":\"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\",\"dtype\":\"float64\",\"shape\":[251]}},\"selected\":{\"id\":\"006390b6-ab3a-4348-959e-8c2156ebe90f\",\"type\":\"Selection\"},\"selection_policy\":{\"id\":\"77510434-e4d2-4a71-9803-d25472d8b1eb\",\"type\":\"UnionRenderers\"}},\"id\":\"f13cb2c1-c124-4288-93a4-cdd3d30de82b\",\"type\":\"ColumnDataSource\"},{\"attributes\":{\"days\":[1,2,3,4,5,6,7,8,9,10,11,12,13,14,15,16,17,18,19,20,21,22,23,24,25,26,27,28,29,30,31]},\"id\":\"25a81ce3-fc52-4f75-870d-2ca4dfbcc02f\",\"type\":\"DaysTicker\"},{\"attributes\":{\"days\":[1,8,15,22]},\"id\":\"9dd6492b-8bc0-4efd-b824-fa27da4f7f4c\",\"type\":\"DaysTicker\"},{\"attributes\":{\"callback\":null},\"id\":\"38264d37-2042-4a6a-937a-3e2a1145186d\",\"type\":\"DataRange1d\"},{\"attributes\":{\"months\":[0,4,8]},\"id\":\"563647ef-1da8-442e-ac1e-580ddf9dd9dc\",\"type\":\"MonthsTicker\"},{\"attributes\":{\"base\":24,\"mantissas\":[1,2,4,6,8,12],\"max_interval\":43200000.0,\"min_interval\":3600000.0,\"num_minor_ticks\":0},\"id\":\"428a4736-9a13-4737-a23c-42e0da4f08e9\",\"type\":\"AdaptiveTicker\"},{\"attributes\":{\"dimension\":1,\"plot\":{\"id\":\"9b7bcb19-3b10-404c-99fb-ed264d235aad\",\"subtype\":\"Figure\",\"type\":\"Plot\"},\"ticker\":{\"id\":\"07fd3154-a67f-4560-8886-ad294f5899b2\",\"type\":\"BasicTicker\"}},\"id\":\"9b181982-8a24-4335-8ded-bc153e8cbc11\",\"type\":\"Grid\"},{\"attributes\":{\"mantissas\":[1,2,5],\"max_interval\":500.0,\"num_minor_ticks\":0},\"id\":\"b41ee185-ffd7-43f6-a792-95af5e901d1c\",\"type\":\"AdaptiveTicker\"},{\"attributes\":{\"days\":[1,4,7,10,13,16,19,22,25,28]},\"id\":\"7eb00401-c035-470b-b1e4-0eeeb20969d6\",\"type\":\"DaysTicker\"},{\"attributes\":{},\"id\":\"006390b6-ab3a-4348-959e-8c2156ebe90f\",\"type\":\"Selection\"},{\"attributes\":{\"days\":[1,15]},\"id\":\"22d867c2-bfe6-4dd1-a8bb-10c72991b77c\",\"type\":\"DaysTicker\"},{\"attributes\":{},\"id\":\"6b59115f-57e2-4e36-aef6-01ac0cf10c39\",\"type\":\"LinearScale\"},{\"attributes\":{},\"id\":\"b0533ed6-fbc3-40bb-ab5d-decb79e7ecb7\",\"type\":\"PanTool\"},{\"attributes\":{\"plot\":{\"id\":\"9b7bcb19-3b10-404c-99fb-ed264d235aad\",\"subtype\":\"Figure\",\"type\":\"Plot\"},\"ticker\":{\"id\":\"430ba78f-5be8-47f4-b3ea-0e05ea90fb39\",\"type\":\"DatetimeTicker\"}},\"id\":\"956ab3c6-0de6-42c5-9456-08c35fdd31dc\",\"type\":\"Grid\"},{\"attributes\":{\"callback\":null},\"id\":\"5c3e4bff-7584-4596-b9fb-9d4ff5928b25\",\"type\":\"DataRange1d\"},{\"attributes\":{\"bottom_units\":\"screen\",\"fill_alpha\":{\"value\":0.5},\"fill_color\":{\"value\":\"lightgrey\"},\"left_units\":\"screen\",\"level\":\"overlay\",\"line_alpha\":{\"value\":1.0},\"line_color\":{\"value\":\"black\"},\"line_dash\":[4,4],\"line_width\":{\"value\":2},\"plot\":null,\"render_mode\":\"css\",\"right_units\":\"screen\",\"top_units\":\"screen\"},\"id\":\"bb26badf-cfd6-4e92-bd16-b0152956a7ea\",\"type\":\"BoxAnnotation\"},{\"attributes\":{\"active_drag\":\"auto\",\"active_inspect\":\"auto\",\"active_multi\":null,\"active_scroll\":\"auto\",\"active_tap\":\"auto\",\"tools\":[{\"id\":\"b0533ed6-fbc3-40bb-ab5d-decb79e7ecb7\",\"type\":\"PanTool\"},{\"id\":\"f5e29d98-4a90-4814-977a-8a56d8bc7011\",\"type\":\"WheelZoomTool\"},{\"id\":\"a6edf5e4-2bf2-4f10-9dc5-89cc52fe118c\",\"type\":\"BoxZoomTool\"},{\"id\":\"90795592-6a46-49e5-af77-04f24ad784aa\",\"type\":\"SaveTool\"},{\"id\":\"74973598-794a-4f60-a3b8-013ae213c9bc\",\"type\":\"ResetTool\"},{\"id\":\"6a5dac9e-e428-4c09-ba59-b15db0570aa6\",\"type\":\"HelpTool\"},{\"id\":\"9806b152-6520-450a-aa59-8cfa4f10a57d\",\"type\":\"HoverTool\"}]},\"id\":\"004e95ec-953b-47fa-9da3-f745c3c16d60\",\"type\":\"Toolbar\"},{\"attributes\":{\"axis_label\":\"Time\",\"formatter\":{\"id\":\"f50bbb08-4a6e-4c11-b13b-ce866d1f15ea\",\"type\":\"DatetimeTickFormatter\"},\"plot\":{\"id\":\"9b7bcb19-3b10-404c-99fb-ed264d235aad\",\"subtype\":\"Figure\",\"type\":\"Plot\"},\"ticker\":{\"id\":\"430ba78f-5be8-47f4-b3ea-0e05ea90fb39\",\"type\":\"DatetimeTicker\"}},\"id\":\"5e6a54e5-7755-40a9-8adf-811090541d9e\",\"type\":\"DatetimeAxis\"},{\"attributes\":{\"line_alpha\":0.1,\"line_color\":\"#1f77b4\",\"line_width\":2,\"x\":{\"field\":\"x\"},\"y\":{\"field\":\"y\"}},\"id\":\"b35d3c33-724f-4239-999a-e95449660d45\",\"type\":\"Line\"},{\"attributes\":{\"axis_label\":\"Logarathmic_Stock_Value\",\"formatter\":{\"id\":\"b32f827e-e39e-4d7e-83ea-cc685665a11c\",\"type\":\"BasicTickFormatter\"},\"plot\":{\"id\":\"9b7bcb19-3b10-404c-99fb-ed264d235aad\",\"subtype\":\"Figure\",\"type\":\"Plot\"},\"ticker\":{\"id\":\"07fd3154-a67f-4560-8886-ad294f5899b2\",\"type\":\"BasicTicker\"}},\"id\":\"ad7583b7-470c-4be7-89d2-68f9705d8d9c\",\"type\":\"LinearAxis\"},{\"attributes\":{\"overlay\":{\"id\":\"bb26badf-cfd6-4e92-bd16-b0152956a7ea\",\"type\":\"BoxAnnotation\"}},\"id\":\"a6edf5e4-2bf2-4f10-9dc5-89cc52fe118c\",\"type\":\"BoxZoomTool\"},{\"attributes\":{},\"id\":\"90795592-6a46-49e5-af77-04f24ad784aa\",\"type\":\"SaveTool\"},{\"attributes\":{},\"id\":\"07fd3154-a67f-4560-8886-ad294f5899b2\",\"type\":\"BasicTicker\"},{\"attributes\":{\"months\":[0,1,2,3,4,5,6,7,8,9,10,11]},\"id\":\"8cfd8129-23c0-4395-bb18-036b516257d3\",\"type\":\"MonthsTicker\"},{\"attributes\":{\"callback\":null,\"renderers\":\"auto\"},\"id\":\"9806b152-6520-450a-aa59-8cfa4f10a57d\",\"type\":\"HoverTool\"},{\"attributes\":{\"num_minor_ticks\":5,\"tickers\":[{\"id\":\"b41ee185-ffd7-43f6-a792-95af5e901d1c\",\"type\":\"AdaptiveTicker\"},{\"id\":\"585e1caa-cb17-43de-b228-c5ffd7084309\",\"type\":\"AdaptiveTicker\"},{\"id\":\"428a4736-9a13-4737-a23c-42e0da4f08e9\",\"type\":\"AdaptiveTicker\"},{\"id\":\"25a81ce3-fc52-4f75-870d-2ca4dfbcc02f\",\"type\":\"DaysTicker\"},{\"id\":\"7eb00401-c035-470b-b1e4-0eeeb20969d6\",\"type\":\"DaysTicker\"},{\"id\":\"9dd6492b-8bc0-4efd-b824-fa27da4f7f4c\",\"type\":\"DaysTicker\"},{\"id\":\"22d867c2-bfe6-4dd1-a8bb-10c72991b77c\",\"type\":\"DaysTicker\"},{\"id\":\"8cfd8129-23c0-4395-bb18-036b516257d3\",\"type\":\"MonthsTicker\"},{\"id\":\"31e5242c-871a-4d31-9c82-aebeea155478\",\"type\":\"MonthsTicker\"},{\"id\":\"563647ef-1da8-442e-ac1e-580ddf9dd9dc\",\"type\":\"MonthsTicker\"},{\"id\":\"00b245ff-2686-4b50-9538-755067475c3e\",\"type\":\"MonthsTicker\"},{\"id\":\"c82486a6-a122-491e-ae22-cdd236359afa\",\"type\":\"YearsTicker\"}]},\"id\":\"430ba78f-5be8-47f4-b3ea-0e05ea90fb39\",\"type\":\"DatetimeTicker\"},{\"attributes\":{\"months\":[0,6]},\"id\":\"00b245ff-2686-4b50-9538-755067475c3e\",\"type\":\"MonthsTicker\"}],\"root_ids\":[\"9b7bcb19-3b10-404c-99fb-ed264d235aad\"]},\"title\":\"Bokeh Application\",\"version\":\"0.13.0\"}};\n",
       "  var render_items = [{\"docid\":\"9342f23b-7036-4b7f-8edd-6795c4db9155\",\"roots\":{\"9b7bcb19-3b10-404c-99fb-ed264d235aad\":\"9d40944a-3289-43bd-ac5e-738569ba795b\"}}];\n",
       "  root.Bokeh.embed.embed_items_notebook(docs_json, render_items);\n",
       "\n",
       "  }\n",
       "  if (root.Bokeh !== undefined) {\n",
       "    embed_document(root);\n",
       "  } else {\n",
       "    var attempts = 0;\n",
       "    var timer = setInterval(function(root) {\n",
       "      if (root.Bokeh !== undefined) {\n",
       "        embed_document(root);\n",
       "        clearInterval(timer);\n",
       "      }\n",
       "      attempts++;\n",
       "      if (attempts > 100) {\n",
       "        console.log(\"Bokeh: ERROR: Unable to run BokehJS code because BokehJS library is missing\")\n",
       "        clearInterval(timer);\n",
       "      }\n",
       "    }, 10, root)\n",
       "  }\n",
       "})(window);"
      ],
      "application/vnd.bokehjs_exec.v0+json": ""
     },
     "metadata": {
      "application/vnd.bokehjs_exec.v0+json": {
       "id": "9b7bcb19-3b10-404c-99fb-ed264d235aad"
      }
     },
     "output_type": "display_data"
    },
    {
     "name": "stdout",
     "output_type": "stream",
     "text": [
      "mean1= 4.780842874743766 , mean2= 4.824794260350212\n",
      "variance1= 0.0025877880431240913 , variance2= 0.0005774330126954057\n",
      "ADF-Statistics: -2.62709786999\n",
      "P-value: 0.0875250131431\n",
      "Critical Values:\n",
      "1% : -3.45678085971\n",
      "5% : -2.87317150656\n",
      "10% : -2.572968544\n"
     ]
    }
   ],
   "source": [
    "log = np.log(data_open)\n",
    "plotting_curve('log(Stock_Value) vs Time', 'Logarathmic_Stock_Value', log.index, log,'red')\n",
    "statistics_check(log)\n",
    "dickey_Fuller(log)"
   ]
  },
  {
   "cell_type": "markdown",
   "metadata": {},
   "source": [
    "#### According to above results of statistics check our mean is almost same but variance varied alot. According to Dickey Fuller, ADF-statistic value is less than 10% so we are 90% confident that our series is stationary"
   ]
  },
  {
   "cell_type": "markdown",
   "metadata": {},
   "source": [
    "### Differencing"
   ]
  },
  {
   "cell_type": "code",
   "execution_count": 16,
   "metadata": {},
   "outputs": [
    {
     "data": {
      "text/html": [
       "\n",
       "\n",
       "\n",
       "\n",
       "\n",
       "\n",
       "  <div class=\"bk-root\" id=\"eea1bf54-d8e7-46ce-b1a0-a14e1cf72793\"></div>\n"
      ]
     },
     "metadata": {},
     "output_type": "display_data"
    },
    {
     "data": {
      "application/javascript": [
       "(function(root) {\n",
       "  function embed_document(root) {\n",
       "    \n",
       "  var docs_json = {\"2cafccd3-9f5f-4e36-be10-7cdb651b6329\":{\"roots\":{\"references\":[{\"attributes\":{\"base\":24,\"mantissas\":[1,2,4,6,8,12],\"max_interval\":43200000.0,\"min_interval\":3600000.0,\"num_minor_ticks\":0},\"id\":\"21dabc64-88a1-47e5-8ad5-cc71bab016e8\",\"type\":\"AdaptiveTicker\"},{\"attributes\":{},\"id\":\"3c7a647f-eacc-4061-9175-b82082717d56\",\"type\":\"DatetimeTickFormatter\"},{\"attributes\":{\"source\":{\"id\":\"be245c89-2aef-4294-8c03-53093da4d674\",\"type\":\"ColumnDataSource\"}},\"id\":\"7287b296-c496-45dd-b9a5-2cfc5e586071\",\"type\":\"CDSView\"},{\"attributes\":{\"callback\":null,\"renderers\":\"auto\"},\"id\":\"cf998be7-678a-4170-afd0-baf40d31a0d4\",\"type\":\"HoverTool\"},{\"attributes\":{},\"id\":\"77401449-38b1-4b31-8820-ca1c077bded9\",\"type\":\"BasicTicker\"},{\"attributes\":{},\"id\":\"85a39c7d-8574-48da-b0ea-ae504b82be1c\",\"type\":\"LinearScale\"},{\"attributes\":{\"plot\":{\"id\":\"ff7df53a-fa7a-47f2-ae51-42c5a0656fce\",\"subtype\":\"Figure\",\"type\":\"Plot\"},\"ticker\":{\"id\":\"bb7b4bf2-28b1-4e5d-a3d0-55ea2a60218d\",\"type\":\"DatetimeTicker\"}},\"id\":\"4e0a040a-7302-4cf8-9459-4f5236042cb8\",\"type\":\"Grid\"},{\"attributes\":{\"dimension\":1,\"plot\":{\"id\":\"ff7df53a-fa7a-47f2-ae51-42c5a0656fce\",\"subtype\":\"Figure\",\"type\":\"Plot\"},\"ticker\":{\"id\":\"77401449-38b1-4b31-8820-ca1c077bded9\",\"type\":\"BasicTicker\"}},\"id\":\"6069456f-b194-4141-ac39-9ec8b1c71fc9\",\"type\":\"Grid\"},{\"attributes\":{\"callback\":null},\"id\":\"c1b2fe1a-a9a4-4d67-9c4e-947cbb780d84\",\"type\":\"DataRange1d\"},{\"attributes\":{\"months\":[0,6]},\"id\":\"4d1fe709-baa9-4cd8-b20b-87051ea51e95\",\"type\":\"MonthsTicker\"},{\"attributes\":{},\"id\":\"0fc06c97-2e80-4de9-a39e-970df552e935\",\"type\":\"BasicTickFormatter\"},{\"attributes\":{\"plot\":null,\"text\":\"Level-1 Difference vs Time\"},\"id\":\"e5297913-32ba-4433-970e-d5f037b7c74f\",\"type\":\"Title\"},{\"attributes\":{\"months\":[0,4,8]},\"id\":\"f6b15b24-5c7c-4bf0-9571-46da192924f6\",\"type\":\"MonthsTicker\"},{\"attributes\":{\"bottom_units\":\"screen\",\"fill_alpha\":{\"value\":0.5},\"fill_color\":{\"value\":\"lightgrey\"},\"left_units\":\"screen\",\"level\":\"overlay\",\"line_alpha\":{\"value\":1.0},\"line_color\":{\"value\":\"black\"},\"line_dash\":[4,4],\"line_width\":{\"value\":2},\"plot\":null,\"render_mode\":\"css\",\"right_units\":\"screen\",\"top_units\":\"screen\"},\"id\":\"5726a4c5-954a-409a-aa12-7d8bab69a76e\",\"type\":\"BoxAnnotation\"},{\"attributes\":{\"active_drag\":\"auto\",\"active_inspect\":\"auto\",\"active_multi\":null,\"active_scroll\":\"auto\",\"active_tap\":\"auto\",\"tools\":[{\"id\":\"9efa4cdd-062c-4a11-81eb-9a61daf60fc8\",\"type\":\"PanTool\"},{\"id\":\"3ad8fcf1-37f9-4d4b-9912-69452fc4d207\",\"type\":\"WheelZoomTool\"},{\"id\":\"6432121c-f339-499c-8eeb-e900847af9d7\",\"type\":\"BoxZoomTool\"},{\"id\":\"272434d4-cd8c-44a8-81d7-f2c1ef50dcdb\",\"type\":\"SaveTool\"},{\"id\":\"b05cc178-c687-4a22-9d5f-988683a0c19d\",\"type\":\"ResetTool\"},{\"id\":\"c7487ace-6e5e-4cc4-b23f-10345186cdf8\",\"type\":\"HelpTool\"},{\"id\":\"cf998be7-678a-4170-afd0-baf40d31a0d4\",\"type\":\"HoverTool\"}]},\"id\":\"715c5970-906d-46dc-9322-fd8e96006ee5\",\"type\":\"Toolbar\"},{\"attributes\":{},\"id\":\"753989f6-ae76-450e-9791-321170d9217c\",\"type\":\"UnionRenderers\"},{\"attributes\":{\"days\":[1,2,3,4,5,6,7,8,9,10,11,12,13,14,15,16,17,18,19,20,21,22,23,24,25,26,27,28,29,30,31]},\"id\":\"9205d835-ac68-4220-a728-30c31dbd37fb\",\"type\":\"DaysTicker\"},{\"attributes\":{},\"id\":\"3ad8fcf1-37f9-4d4b-9912-69452fc4d207\",\"type\":\"WheelZoomTool\"},{\"attributes\":{\"line_color\":\"blue\",\"line_width\":2,\"x\":{\"field\":\"x\"},\"y\":{\"field\":\"y\"}},\"id\":\"6e1e0509-2a50-44b7-aa8c-1590278b10c5\",\"type\":\"Line\"},{\"attributes\":{\"axis_label\":\"Level-1 Diff\",\"formatter\":{\"id\":\"0fc06c97-2e80-4de9-a39e-970df552e935\",\"type\":\"BasicTickFormatter\"},\"plot\":{\"id\":\"ff7df53a-fa7a-47f2-ae51-42c5a0656fce\",\"subtype\":\"Figure\",\"type\":\"Plot\"},\"ticker\":{\"id\":\"77401449-38b1-4b31-8820-ca1c077bded9\",\"type\":\"BasicTicker\"}},\"id\":\"84ac7a20-78a8-4521-a6fb-b764d944142b\",\"type\":\"LinearAxis\"},{\"attributes\":{\"overlay\":{\"id\":\"5726a4c5-954a-409a-aa12-7d8bab69a76e\",\"type\":\"BoxAnnotation\"}},\"id\":\"6432121c-f339-499c-8eeb-e900847af9d7\",\"type\":\"BoxZoomTool\"},{\"attributes\":{\"days\":[1,4,7,10,13,16,19,22,25,28]},\"id\":\"774d88a7-8991-4422-96ac-a47fbb543abb\",\"type\":\"DaysTicker\"},{\"attributes\":{\"days\":[1,8,15,22]},\"id\":\"5faa8d76-9700-4553-94e7-dea5915b8a52\",\"type\":\"DaysTicker\"},{\"attributes\":{},\"id\":\"272434d4-cd8c-44a8-81d7-f2c1ef50dcdb\",\"type\":\"SaveTool\"},{\"attributes\":{\"axis_label\":\"Time\",\"formatter\":{\"id\":\"3c7a647f-eacc-4061-9175-b82082717d56\",\"type\":\"DatetimeTickFormatter\"},\"plot\":{\"id\":\"ff7df53a-fa7a-47f2-ae51-42c5a0656fce\",\"subtype\":\"Figure\",\"type\":\"Plot\"},\"ticker\":{\"id\":\"bb7b4bf2-28b1-4e5d-a3d0-55ea2a60218d\",\"type\":\"DatetimeTicker\"}},\"id\":\"8290ba37-e438-44c9-9c2a-8b6dd06d4726\",\"type\":\"DatetimeAxis\"},{\"attributes\":{},\"id\":\"b05cc178-c687-4a22-9d5f-988683a0c19d\",\"type\":\"ResetTool\"},{\"attributes\":{\"base\":60,\"mantissas\":[1,2,5,10,15,20,30],\"max_interval\":1800000.0,\"min_interval\":1000.0,\"num_minor_ticks\":0},\"id\":\"93ef0fe2-69b6-4516-8408-3ec3b0c506ab\",\"type\":\"AdaptiveTicker\"},{\"attributes\":{\"below\":[{\"id\":\"8290ba37-e438-44c9-9c2a-8b6dd06d4726\",\"type\":\"DatetimeAxis\"}],\"left\":[{\"id\":\"84ac7a20-78a8-4521-a6fb-b764d944142b\",\"type\":\"LinearAxis\"}],\"plot_height\":300,\"plot_width\":450,\"renderers\":[{\"id\":\"8290ba37-e438-44c9-9c2a-8b6dd06d4726\",\"type\":\"DatetimeAxis\"},{\"id\":\"4e0a040a-7302-4cf8-9459-4f5236042cb8\",\"type\":\"Grid\"},{\"id\":\"84ac7a20-78a8-4521-a6fb-b764d944142b\",\"type\":\"LinearAxis\"},{\"id\":\"6069456f-b194-4141-ac39-9ec8b1c71fc9\",\"type\":\"Grid\"},{\"id\":\"5726a4c5-954a-409a-aa12-7d8bab69a76e\",\"type\":\"BoxAnnotation\"},{\"id\":\"49882de9-d191-4906-9b3a-533c00b523ce\",\"type\":\"GlyphRenderer\"}],\"title\":{\"id\":\"e5297913-32ba-4433-970e-d5f037b7c74f\",\"type\":\"Title\"},\"toolbar\":{\"id\":\"715c5970-906d-46dc-9322-fd8e96006ee5\",\"type\":\"Toolbar\"},\"x_range\":{\"id\":\"c1b2fe1a-a9a4-4d67-9c4e-947cbb780d84\",\"type\":\"DataRange1d\"},\"x_scale\":{\"id\":\"b0f92ec8-0220-4e83-a586-7893427472c2\",\"type\":\"LinearScale\"},\"y_range\":{\"id\":\"aed2ac6f-ae64-4db3-932e-b34b5f929a42\",\"type\":\"DataRange1d\"},\"y_scale\":{\"id\":\"85a39c7d-8574-48da-b0ea-ae504b82be1c\",\"type\":\"LinearScale\"}},\"id\":\"ff7df53a-fa7a-47f2-ae51-42c5a0656fce\",\"subtype\":\"Figure\",\"type\":\"Plot\"},{\"attributes\":{\"days\":[1,15]},\"id\":\"fe6a293d-2a80-43c3-8b61-0729b996f3b4\",\"type\":\"DaysTicker\"},{\"attributes\":{\"months\":[0,1,2,3,4,5,6,7,8,9,10,11]},\"id\":\"de6377b2-5268-4b1d-b204-21f311018cd0\",\"type\":\"MonthsTicker\"},{\"attributes\":{\"months\":[0,2,4,6,8,10]},\"id\":\"d53e78f4-52b1-4558-8cdd-3e1950290f3b\",\"type\":\"MonthsTicker\"},{\"attributes\":{},\"id\":\"c7487ace-6e5e-4cc4-b23f-10345186cdf8\",\"type\":\"HelpTool\"},{\"attributes\":{},\"id\":\"7fa67601-3d05-49c9-9ba3-689441373e64\",\"type\":\"YearsTicker\"},{\"attributes\":{},\"id\":\"2d433ae3-c7b5-4963-a342-4dcbdae3683e\",\"type\":\"Selection\"},{\"attributes\":{\"mantissas\":[1,2,5],\"max_interval\":500.0,\"num_minor_ticks\":0},\"id\":\"b83c284e-c2b8-4514-bf86-bdcd80911d2d\",\"type\":\"AdaptiveTicker\"},{\"attributes\":{\"num_minor_ticks\":5,\"tickers\":[{\"id\":\"b83c284e-c2b8-4514-bf86-bdcd80911d2d\",\"type\":\"AdaptiveTicker\"},{\"id\":\"93ef0fe2-69b6-4516-8408-3ec3b0c506ab\",\"type\":\"AdaptiveTicker\"},{\"id\":\"21dabc64-88a1-47e5-8ad5-cc71bab016e8\",\"type\":\"AdaptiveTicker\"},{\"id\":\"9205d835-ac68-4220-a728-30c31dbd37fb\",\"type\":\"DaysTicker\"},{\"id\":\"774d88a7-8991-4422-96ac-a47fbb543abb\",\"type\":\"DaysTicker\"},{\"id\":\"5faa8d76-9700-4553-94e7-dea5915b8a52\",\"type\":\"DaysTicker\"},{\"id\":\"fe6a293d-2a80-43c3-8b61-0729b996f3b4\",\"type\":\"DaysTicker\"},{\"id\":\"de6377b2-5268-4b1d-b204-21f311018cd0\",\"type\":\"MonthsTicker\"},{\"id\":\"d53e78f4-52b1-4558-8cdd-3e1950290f3b\",\"type\":\"MonthsTicker\"},{\"id\":\"f6b15b24-5c7c-4bf0-9571-46da192924f6\",\"type\":\"MonthsTicker\"},{\"id\":\"4d1fe709-baa9-4cd8-b20b-87051ea51e95\",\"type\":\"MonthsTicker\"},{\"id\":\"7fa67601-3d05-49c9-9ba3-689441373e64\",\"type\":\"YearsTicker\"}]},\"id\":\"bb7b4bf2-28b1-4e5d-a3d0-55ea2a60218d\",\"type\":\"DatetimeTicker\"},{\"attributes\":{\"line_alpha\":0.1,\"line_color\":\"#1f77b4\",\"line_width\":2,\"x\":{\"field\":\"x\"},\"y\":{\"field\":\"y\"}},\"id\":\"fd1463d0-c54e-4477-beea-48ab527379a5\",\"type\":\"Line\"},{\"attributes\":{},\"id\":\"b0f92ec8-0220-4e83-a586-7893427472c2\",\"type\":\"LinearScale\"},{\"attributes\":{\"callback\":null,\"data\":{\"x\":{\"__ndarray__\":\"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\",\"dtype\":\"float64\",\"shape\":[251]},\"y\":{\"__ndarray__\":\"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\",\"dtype\":\"float64\",\"shape\":[251]}},\"selected\":{\"id\":\"2d433ae3-c7b5-4963-a342-4dcbdae3683e\",\"type\":\"Selection\"},\"selection_policy\":{\"id\":\"753989f6-ae76-450e-9791-321170d9217c\",\"type\":\"UnionRenderers\"}},\"id\":\"be245c89-2aef-4294-8c03-53093da4d674\",\"type\":\"ColumnDataSource\"},{\"attributes\":{\"callback\":null},\"id\":\"aed2ac6f-ae64-4db3-932e-b34b5f929a42\",\"type\":\"DataRange1d\"},{\"attributes\":{\"data_source\":{\"id\":\"be245c89-2aef-4294-8c03-53093da4d674\",\"type\":\"ColumnDataSource\"},\"glyph\":{\"id\":\"6e1e0509-2a50-44b7-aa8c-1590278b10c5\",\"type\":\"Line\"},\"hover_glyph\":null,\"muted_glyph\":null,\"nonselection_glyph\":{\"id\":\"fd1463d0-c54e-4477-beea-48ab527379a5\",\"type\":\"Line\"},\"selection_glyph\":null,\"view\":{\"id\":\"7287b296-c496-45dd-b9a5-2cfc5e586071\",\"type\":\"CDSView\"}},\"id\":\"49882de9-d191-4906-9b3a-533c00b523ce\",\"type\":\"GlyphRenderer\"},{\"attributes\":{},\"id\":\"9efa4cdd-062c-4a11-81eb-9a61daf60fc8\",\"type\":\"PanTool\"}],\"root_ids\":[\"ff7df53a-fa7a-47f2-ae51-42c5a0656fce\"]},\"title\":\"Bokeh Application\",\"version\":\"0.13.0\"}};\n",
       "  var render_items = [{\"docid\":\"2cafccd3-9f5f-4e36-be10-7cdb651b6329\",\"roots\":{\"ff7df53a-fa7a-47f2-ae51-42c5a0656fce\":\"eea1bf54-d8e7-46ce-b1a0-a14e1cf72793\"}}];\n",
       "  root.Bokeh.embed.embed_items_notebook(docs_json, render_items);\n",
       "\n",
       "  }\n",
       "  if (root.Bokeh !== undefined) {\n",
       "    embed_document(root);\n",
       "  } else {\n",
       "    var attempts = 0;\n",
       "    var timer = setInterval(function(root) {\n",
       "      if (root.Bokeh !== undefined) {\n",
       "        embed_document(root);\n",
       "        clearInterval(timer);\n",
       "      }\n",
       "      attempts++;\n",
       "      if (attempts > 100) {\n",
       "        console.log(\"Bokeh: ERROR: Unable to run BokehJS code because BokehJS library is missing\")\n",
       "        clearInterval(timer);\n",
       "      }\n",
       "    }, 10, root)\n",
       "  }\n",
       "})(window);"
      ],
      "application/vnd.bokehjs_exec.v0+json": ""
     },
     "metadata": {
      "application/vnd.bokehjs_exec.v0+json": {
       "id": "ff7df53a-fa7a-47f2-ae51-42c5a0656fce"
      }
     },
     "output_type": "display_data"
    },
    {
     "name": "stdout",
     "output_type": "stream",
     "text": [
      "mean1= -0.018879944000000023 , mean2= -0.02088712903225801\n",
      "variance1= 4.095756084239686 , variance2= 2.1598548121462913\n",
      "ADF-Statistics: -9.55376589278\n",
      "P-value: 2.53086820874e-16\n",
      "Critical Values:\n",
      "1% : -3.45721523727\n",
      "5% : -2.87336184157\n",
      "10% : -2.57307007601\n"
     ]
    }
   ],
   "source": [
    "#Lets check with level-1 differencing and check the stationary using above approach\n",
    "first_diff = data_open-data_open.shift()\n",
    "plotting_curve('Level-1 Difference vs Time', 'Level-1 Diff',first_diff.index, first_diff,'blue')\n",
    "first_diff.dropna(inplace=True) #dropping nan values \n",
    "statistics_check(first_diff)\n",
    "dickey_Fuller(first_diff)"
   ]
  },
  {
   "cell_type": "markdown",
   "metadata": {},
   "source": [
    "#### By one level differencing ADF-Statistics value is smaller than 1%, so we are 99% sure series is stationary but variance is not constant"
   ]
  },
  {
   "cell_type": "code",
   "execution_count": 17,
   "metadata": {},
   "outputs": [
    {
     "data": {
      "text/html": [
       "\n",
       "\n",
       "\n",
       "\n",
       "\n",
       "\n",
       "  <div class=\"bk-root\" id=\"38e3b277-a82f-4bab-a559-f868d061bfdf\"></div>\n"
      ]
     },
     "metadata": {},
     "output_type": "display_data"
    },
    {
     "data": {
      "application/javascript": [
       "(function(root) {\n",
       "  function embed_document(root) {\n",
       "    \n",
       "  var docs_json = {\"eeba0508-4264-49c8-9c89-3484f8bd64de\":{\"roots\":{\"references\":[{\"attributes\":{},\"id\":\"aeaed277-72fa-4758-b494-0e1ac633e5a4\",\"type\":\"BasicTickFormatter\"},{\"attributes\":{},\"id\":\"cf9b4790-abbe-45bb-a708-be476f77c7ae\",\"type\":\"Selection\"},{\"attributes\":{\"base\":24,\"mantissas\":[1,2,4,6,8,12],\"max_interval\":43200000.0,\"min_interval\":3600000.0,\"num_minor_ticks\":0},\"id\":\"6d6bca28-5612-47e7-b7a1-b7424a63d4be\",\"type\":\"AdaptiveTicker\"},{\"attributes\":{\"base\":60,\"mantissas\":[1,2,5,10,15,20,30],\"max_interval\":1800000.0,\"min_interval\":1000.0,\"num_minor_ticks\":0},\"id\":\"4e168b77-7ccf-4f06-bc81-35a2a0c17b43\",\"type\":\"AdaptiveTicker\"},{\"attributes\":{\"months\":[0,4,8]},\"id\":\"7dc77b4c-36b4-4bb5-aff9-15b9e66f00f9\",\"type\":\"MonthsTicker\"},{\"attributes\":{\"months\":[0,6]},\"id\":\"f7ee8625-ed9c-482d-8d82-52dca7c29c03\",\"type\":\"MonthsTicker\"},{\"attributes\":{\"months\":[0,2,4,6,8,10]},\"id\":\"e50da1a3-235b-4263-8b5f-449ce83d8090\",\"type\":\"MonthsTicker\"},{\"attributes\":{\"callback\":null,\"data\":{\"x\":{\"__ndarray__\":\"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\",\"dtype\":\"float64\",\"shape\":[251]},\"y\":{\"__ndarray__\":\"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\",\"dtype\":\"float64\",\"shape\":[251]}},\"selected\":{\"id\":\"cf9b4790-abbe-45bb-a708-be476f77c7ae\",\"type\":\"Selection\"},\"selection_policy\":{\"id\":\"871550a5-f374-4740-9ef1-b64e8ca52727\",\"type\":\"UnionRenderers\"}},\"id\":\"0a15aa02-7cb5-4259-b53f-8e2b7c85483f\",\"type\":\"ColumnDataSource\"},{\"attributes\":{},\"id\":\"f57dfd5f-a094-40be-ae42-f91e20825876\",\"type\":\"SaveTool\"},{\"attributes\":{},\"id\":\"5896b508-15a0-4f3f-89e5-fd99f9b46926\",\"type\":\"DatetimeTickFormatter\"},{\"attributes\":{\"source\":{\"id\":\"0a15aa02-7cb5-4259-b53f-8e2b7c85483f\",\"type\":\"ColumnDataSource\"}},\"id\":\"7ffc26f4-fd41-42b5-b8e4-3b4d0859e563\",\"type\":\"CDSView\"},{\"attributes\":{},\"id\":\"6f052bab-eb9a-4a78-8a64-3a19ee8475a2\",\"type\":\"PanTool\"},{\"attributes\":{\"overlay\":{\"id\":\"7910734b-ee69-4c64-8898-bda2150ce4cb\",\"type\":\"BoxAnnotation\"}},\"id\":\"40b3fd16-2ada-444d-a47b-3cd77bafb97a\",\"type\":\"BoxZoomTool\"},{\"attributes\":{},\"id\":\"268c9fb0-9653-4ec3-8026-349cbda5d3ab\",\"type\":\"WheelZoomTool\"},{\"attributes\":{},\"id\":\"fa2a7e14-9c54-40a4-a604-da4f346b17d4\",\"type\":\"ResetTool\"},{\"attributes\":{\"mantissas\":[1,2,5],\"max_interval\":500.0,\"num_minor_ticks\":0},\"id\":\"2938eef8-f65e-42ac-8982-065f6e4301cb\",\"type\":\"AdaptiveTicker\"},{\"attributes\":{},\"id\":\"48cbe7f7-8f99-44fa-9f85-06baf628c8ed\",\"type\":\"HelpTool\"},{\"attributes\":{\"bottom_units\":\"screen\",\"fill_alpha\":{\"value\":0.5},\"fill_color\":{\"value\":\"lightgrey\"},\"left_units\":\"screen\",\"level\":\"overlay\",\"line_alpha\":{\"value\":1.0},\"line_color\":{\"value\":\"black\"},\"line_dash\":[4,4],\"line_width\":{\"value\":2},\"plot\":null,\"render_mode\":\"css\",\"right_units\":\"screen\",\"top_units\":\"screen\"},\"id\":\"7910734b-ee69-4c64-8898-bda2150ce4cb\",\"type\":\"BoxAnnotation\"},{\"attributes\":{\"num_minor_ticks\":5,\"tickers\":[{\"id\":\"2938eef8-f65e-42ac-8982-065f6e4301cb\",\"type\":\"AdaptiveTicker\"},{\"id\":\"4e168b77-7ccf-4f06-bc81-35a2a0c17b43\",\"type\":\"AdaptiveTicker\"},{\"id\":\"6d6bca28-5612-47e7-b7a1-b7424a63d4be\",\"type\":\"AdaptiveTicker\"},{\"id\":\"9198039f-4417-43d3-8adf-a54623a41a88\",\"type\":\"DaysTicker\"},{\"id\":\"11df32ac-4ea8-4c29-9130-3fbce8278657\",\"type\":\"DaysTicker\"},{\"id\":\"37ee8a31-16fa-4837-b136-425955088c9a\",\"type\":\"DaysTicker\"},{\"id\":\"5f657349-e7fa-46fe-bb6a-949acdffe8e7\",\"type\":\"DaysTicker\"},{\"id\":\"f0b5ba8d-562c-432f-a26a-f50eb1208454\",\"type\":\"MonthsTicker\"},{\"id\":\"e50da1a3-235b-4263-8b5f-449ce83d8090\",\"type\":\"MonthsTicker\"},{\"id\":\"7dc77b4c-36b4-4bb5-aff9-15b9e66f00f9\",\"type\":\"MonthsTicker\"},{\"id\":\"f7ee8625-ed9c-482d-8d82-52dca7c29c03\",\"type\":\"MonthsTicker\"},{\"id\":\"c325be47-4ef5-48d9-84da-1920a425a8c6\",\"type\":\"YearsTicker\"}]},\"id\":\"a7b4f911-50dc-4558-bcf0-ce4a93da69fe\",\"type\":\"DatetimeTicker\"},{\"attributes\":{\"plot\":{\"id\":\"f47c1f90-6db1-4c46-811b-bcc96442f537\",\"subtype\":\"Figure\",\"type\":\"Plot\"},\"ticker\":{\"id\":\"a7b4f911-50dc-4558-bcf0-ce4a93da69fe\",\"type\":\"DatetimeTicker\"}},\"id\":\"9f80e6ff-1dc4-4855-a5f4-234973fe922b\",\"type\":\"Grid\"},{\"attributes\":{\"axis_label\":\"Level-2 Diff\",\"formatter\":{\"id\":\"aeaed277-72fa-4758-b494-0e1ac633e5a4\",\"type\":\"BasicTickFormatter\"},\"plot\":{\"id\":\"f47c1f90-6db1-4c46-811b-bcc96442f537\",\"subtype\":\"Figure\",\"type\":\"Plot\"},\"ticker\":{\"id\":\"ac81632c-77e4-42bd-9935-6ef53f556bfa\",\"type\":\"BasicTicker\"}},\"id\":\"b8c140d4-7bd7-4721-b332-aa9d574fe577\",\"type\":\"LinearAxis\"},{\"attributes\":{\"dimension\":1,\"plot\":{\"id\":\"f47c1f90-6db1-4c46-811b-bcc96442f537\",\"subtype\":\"Figure\",\"type\":\"Plot\"},\"ticker\":{\"id\":\"ac81632c-77e4-42bd-9935-6ef53f556bfa\",\"type\":\"BasicTicker\"}},\"id\":\"130187b1-31cd-4d8d-9aef-93cfa4e052b6\",\"type\":\"Grid\"},{\"attributes\":{\"callback\":null,\"renderers\":\"auto\"},\"id\":\"ea6848eb-2985-4905-9ce5-ff6facfa3577\",\"type\":\"HoverTool\"},{\"attributes\":{},\"id\":\"ac81632c-77e4-42bd-9935-6ef53f556bfa\",\"type\":\"BasicTicker\"},{\"attributes\":{\"line_alpha\":0.1,\"line_color\":\"#1f77b4\",\"line_width\":2,\"x\":{\"field\":\"x\"},\"y\":{\"field\":\"y\"}},\"id\":\"4cd11fbb-bbab-47d4-b8e2-fea68e2e1cc5\",\"type\":\"Line\"},{\"attributes\":{\"days\":[1,4,7,10,13,16,19,22,25,28]},\"id\":\"11df32ac-4ea8-4c29-9130-3fbce8278657\",\"type\":\"DaysTicker\"},{\"attributes\":{\"days\":[1,2,3,4,5,6,7,8,9,10,11,12,13,14,15,16,17,18,19,20,21,22,23,24,25,26,27,28,29,30,31]},\"id\":\"9198039f-4417-43d3-8adf-a54623a41a88\",\"type\":\"DaysTicker\"},{\"attributes\":{\"callback\":null},\"id\":\"0e456125-6cb7-44ec-becf-6501adb78bac\",\"type\":\"DataRange1d\"},{\"attributes\":{\"data_source\":{\"id\":\"0a15aa02-7cb5-4259-b53f-8e2b7c85483f\",\"type\":\"ColumnDataSource\"},\"glyph\":{\"id\":\"775e5c36-509a-4b7d-8bd5-cedf1aaf47d0\",\"type\":\"Line\"},\"hover_glyph\":null,\"muted_glyph\":null,\"nonselection_glyph\":{\"id\":\"4cd11fbb-bbab-47d4-b8e2-fea68e2e1cc5\",\"type\":\"Line\"},\"selection_glyph\":null,\"view\":{\"id\":\"7ffc26f4-fd41-42b5-b8e4-3b4d0859e563\",\"type\":\"CDSView\"}},\"id\":\"a6b2fce2-5f7e-407c-81c7-cff3d1a25aca\",\"type\":\"GlyphRenderer\"},{\"attributes\":{\"plot\":null,\"text\":\"Level-2 Difference vs Time\"},\"id\":\"c7d89780-2e38-4d89-a91c-a8cfb5cfccf5\",\"type\":\"Title\"},{\"attributes\":{},\"id\":\"871550a5-f374-4740-9ef1-b64e8ca52727\",\"type\":\"UnionRenderers\"},{\"attributes\":{},\"id\":\"13cdbda2-5f63-4d27-97fa-d1d675a57f96\",\"type\":\"LinearScale\"},{\"attributes\":{\"days\":[1,8,15,22]},\"id\":\"37ee8a31-16fa-4837-b136-425955088c9a\",\"type\":\"DaysTicker\"},{\"attributes\":{\"axis_label\":\"Time\",\"formatter\":{\"id\":\"5896b508-15a0-4f3f-89e5-fd99f9b46926\",\"type\":\"DatetimeTickFormatter\"},\"plot\":{\"id\":\"f47c1f90-6db1-4c46-811b-bcc96442f537\",\"subtype\":\"Figure\",\"type\":\"Plot\"},\"ticker\":{\"id\":\"a7b4f911-50dc-4558-bcf0-ce4a93da69fe\",\"type\":\"DatetimeTicker\"}},\"id\":\"d1fe884c-c131-407a-8e77-3374ee8c650d\",\"type\":\"DatetimeAxis\"},{\"attributes\":{\"months\":[0,1,2,3,4,5,6,7,8,9,10,11]},\"id\":\"f0b5ba8d-562c-432f-a26a-f50eb1208454\",\"type\":\"MonthsTicker\"},{\"attributes\":{},\"id\":\"c325be47-4ef5-48d9-84da-1920a425a8c6\",\"type\":\"YearsTicker\"},{\"attributes\":{},\"id\":\"a9cc83a4-b077-41ae-a9d3-e5e12c68e766\",\"type\":\"LinearScale\"},{\"attributes\":{\"days\":[1,15]},\"id\":\"5f657349-e7fa-46fe-bb6a-949acdffe8e7\",\"type\":\"DaysTicker\"},{\"attributes\":{\"line_color\":\"orange\",\"line_width\":2,\"x\":{\"field\":\"x\"},\"y\":{\"field\":\"y\"}},\"id\":\"775e5c36-509a-4b7d-8bd5-cedf1aaf47d0\",\"type\":\"Line\"},{\"attributes\":{\"below\":[{\"id\":\"d1fe884c-c131-407a-8e77-3374ee8c650d\",\"type\":\"DatetimeAxis\"}],\"left\":[{\"id\":\"b8c140d4-7bd7-4721-b332-aa9d574fe577\",\"type\":\"LinearAxis\"}],\"plot_height\":300,\"plot_width\":450,\"renderers\":[{\"id\":\"d1fe884c-c131-407a-8e77-3374ee8c650d\",\"type\":\"DatetimeAxis\"},{\"id\":\"9f80e6ff-1dc4-4855-a5f4-234973fe922b\",\"type\":\"Grid\"},{\"id\":\"b8c140d4-7bd7-4721-b332-aa9d574fe577\",\"type\":\"LinearAxis\"},{\"id\":\"130187b1-31cd-4d8d-9aef-93cfa4e052b6\",\"type\":\"Grid\"},{\"id\":\"7910734b-ee69-4c64-8898-bda2150ce4cb\",\"type\":\"BoxAnnotation\"},{\"id\":\"a6b2fce2-5f7e-407c-81c7-cff3d1a25aca\",\"type\":\"GlyphRenderer\"}],\"title\":{\"id\":\"c7d89780-2e38-4d89-a91c-a8cfb5cfccf5\",\"type\":\"Title\"},\"toolbar\":{\"id\":\"808d3232-242b-4bd2-ac62-5fa765c478d1\",\"type\":\"Toolbar\"},\"x_range\":{\"id\":\"9d16bd8e-b053-4c8d-9906-86b1ca46deaa\",\"type\":\"DataRange1d\"},\"x_scale\":{\"id\":\"a9cc83a4-b077-41ae-a9d3-e5e12c68e766\",\"type\":\"LinearScale\"},\"y_range\":{\"id\":\"0e456125-6cb7-44ec-becf-6501adb78bac\",\"type\":\"DataRange1d\"},\"y_scale\":{\"id\":\"13cdbda2-5f63-4d27-97fa-d1d675a57f96\",\"type\":\"LinearScale\"}},\"id\":\"f47c1f90-6db1-4c46-811b-bcc96442f537\",\"subtype\":\"Figure\",\"type\":\"Plot\"},{\"attributes\":{\"active_drag\":\"auto\",\"active_inspect\":\"auto\",\"active_multi\":null,\"active_scroll\":\"auto\",\"active_tap\":\"auto\",\"tools\":[{\"id\":\"6f052bab-eb9a-4a78-8a64-3a19ee8475a2\",\"type\":\"PanTool\"},{\"id\":\"268c9fb0-9653-4ec3-8026-349cbda5d3ab\",\"type\":\"WheelZoomTool\"},{\"id\":\"40b3fd16-2ada-444d-a47b-3cd77bafb97a\",\"type\":\"BoxZoomTool\"},{\"id\":\"f57dfd5f-a094-40be-ae42-f91e20825876\",\"type\":\"SaveTool\"},{\"id\":\"fa2a7e14-9c54-40a4-a604-da4f346b17d4\",\"type\":\"ResetTool\"},{\"id\":\"48cbe7f7-8f99-44fa-9f85-06baf628c8ed\",\"type\":\"HelpTool\"},{\"id\":\"ea6848eb-2985-4905-9ce5-ff6facfa3577\",\"type\":\"HoverTool\"}]},\"id\":\"808d3232-242b-4bd2-ac62-5fa765c478d1\",\"type\":\"Toolbar\"},{\"attributes\":{\"callback\":null},\"id\":\"9d16bd8e-b053-4c8d-9906-86b1ca46deaa\",\"type\":\"DataRange1d\"}],\"root_ids\":[\"f47c1f90-6db1-4c46-811b-bcc96442f537\"]},\"title\":\"Bokeh Application\",\"version\":\"0.13.0\"}};\n",
       "  var render_items = [{\"docid\":\"eeba0508-4264-49c8-9c89-3484f8bd64de\",\"roots\":{\"f47c1f90-6db1-4c46-811b-bcc96442f537\":\"38e3b277-a82f-4bab-a559-f868d061bfdf\"}}];\n",
       "  root.Bokeh.embed.embed_items_notebook(docs_json, render_items);\n",
       "\n",
       "  }\n",
       "  if (root.Bokeh !== undefined) {\n",
       "    embed_document(root);\n",
       "  } else {\n",
       "    var attempts = 0;\n",
       "    var timer = setInterval(function(root) {\n",
       "      if (root.Bokeh !== undefined) {\n",
       "        embed_document(root);\n",
       "        clearInterval(timer);\n",
       "      }\n",
       "      attempts++;\n",
       "      if (attempts > 100) {\n",
       "        console.log(\"Bokeh: ERROR: Unable to run BokehJS code because BokehJS library is missing\")\n",
       "        clearInterval(timer);\n",
       "      }\n",
       "    }, 10, root)\n",
       "  }\n",
       "})(window);"
      ],
      "application/vnd.bokehjs_exec.v0+json": ""
     },
     "metadata": {
      "application/vnd.bokehjs_exec.v0+json": {
       "id": "f47c1f90-6db1-4c46-811b-bcc96442f537"
      }
     },
     "output_type": "display_data"
    },
    {
     "name": "stdout",
     "output_type": "stream",
     "text": [
      "mean1= 0.01338712903225807 , mean2= -0.03145168548387094\n",
      "variance1= 8.450775270678054 , variance2= 3.686264123132979\n",
      "ADF-Statistics: -5.67950562389\n",
      "P-value: 8.55070188254e-07\n",
      "Critical Values:\n",
      "1% : -3.45801077372\n",
      "5% : -2.87371036171\n",
      "10% : -2.57325599639\n"
     ]
    }
   ],
   "source": [
    "#Lets check with double differencing and check the stationary using above approach\n",
    "second_diff = data_open-data_open.shift(periods=2)\n",
    "plotting_curve('Level-2 Difference vs Time', 'Level-2 Diff',second_diff.index, second_diff,'orange')\n",
    "second_diff.dropna(inplace=True)\n",
    "statistics_check(second_diff)\n",
    "dickey_Fuller(second_diff)"
   ]
  },
  {
   "cell_type": "markdown",
   "metadata": {},
   "source": [
    "#### It is clearly visible that second level differencing will not work, lets try to use both transformation and first level differencing"
   ]
  },
  {
   "cell_type": "code",
   "execution_count": 18,
   "metadata": {},
   "outputs": [
    {
     "data": {
      "text/html": [
       "\n",
       "\n",
       "\n",
       "\n",
       "\n",
       "\n",
       "  <div class=\"bk-root\" id=\"5d0e4642-8511-4d2e-aca7-e97f1422d5e6\"></div>\n"
      ]
     },
     "metadata": {},
     "output_type": "display_data"
    },
    {
     "data": {
      "application/javascript": [
       "(function(root) {\n",
       "  function embed_document(root) {\n",
       "    \n",
       "  var docs_json = {\"2d0c225c-8cb8-4e7f-baf5-4ba53522cc4d\":{\"roots\":{\"references\":[{\"attributes\":{},\"id\":\"cd1a5de4-7139-4e3c-8c8d-efa08850b5de\",\"type\":\"SaveTool\"},{\"attributes\":{\"overlay\":{\"id\":\"81425333-451a-42cd-8901-3912e970c999\",\"type\":\"BoxAnnotation\"}},\"id\":\"adf201d6-76d8-4a6c-9bed-187aa6f4d36a\",\"type\":\"BoxZoomTool\"},{\"attributes\":{},\"id\":\"07b03a5a-370f-460a-b11b-109f7aaa9a76\",\"type\":\"ResetTool\"},{\"attributes\":{},\"id\":\"6cbf418e-2f90-4593-b9fe-f878bd6c2300\",\"type\":\"HelpTool\"},{\"attributes\":{\"bottom_units\":\"screen\",\"fill_alpha\":{\"value\":0.5},\"fill_color\":{\"value\":\"lightgrey\"},\"left_units\":\"screen\",\"level\":\"overlay\",\"line_alpha\":{\"value\":1.0},\"line_color\":{\"value\":\"black\"},\"line_dash\":[4,4],\"line_width\":{\"value\":2},\"plot\":null,\"render_mode\":\"css\",\"right_units\":\"screen\",\"top_units\":\"screen\"},\"id\":\"81425333-451a-42cd-8901-3912e970c999\",\"type\":\"BoxAnnotation\"},{\"attributes\":{},\"id\":\"05abc896-a966-4c2b-b7cb-a87c0de4516a\",\"type\":\"PanTool\"},{\"attributes\":{\"source\":{\"id\":\"4f1a48ee-8167-4291-8d7c-0f1496cbf02c\",\"type\":\"ColumnDataSource\"}},\"id\":\"9b64206f-6e15-4b6f-9315-97520408495f\",\"type\":\"CDSView\"},{\"attributes\":{},\"id\":\"42518522-cba0-47e9-962d-5a2218d4de76\",\"type\":\"WheelZoomTool\"},{\"attributes\":{},\"id\":\"5d7b080b-1d4e-4e86-b127-1d4f0bd3934e\",\"type\":\"BasicTicker\"},{\"attributes\":{\"axis_label\":\"Time\",\"formatter\":{\"id\":\"e76c09c5-e618-4f02-b38f-178f1af98387\",\"type\":\"DatetimeTickFormatter\"},\"plot\":{\"id\":\"31e8acd5-a402-4981-9a83-29379f5366a4\",\"subtype\":\"Figure\",\"type\":\"Plot\"},\"ticker\":{\"id\":\"5a54aefa-eb61-4a0f-85ca-f9d8edcf5772\",\"type\":\"DatetimeTicker\"}},\"id\":\"b70e76cd-0c6d-4064-a2d3-a556ac9062e4\",\"type\":\"DatetimeAxis\"},{\"attributes\":{\"line_alpha\":0.1,\"line_color\":\"#1f77b4\",\"line_width\":2,\"x\":{\"field\":\"x\"},\"y\":{\"field\":\"y\"}},\"id\":\"7ad9897c-e16c-403c-98a6-6e1a6073777d\",\"type\":\"Line\"},{\"attributes\":{\"dimension\":1,\"plot\":{\"id\":\"31e8acd5-a402-4981-9a83-29379f5366a4\",\"subtype\":\"Figure\",\"type\":\"Plot\"},\"ticker\":{\"id\":\"5d7b080b-1d4e-4e86-b127-1d4f0bd3934e\",\"type\":\"BasicTicker\"}},\"id\":\"b871874a-5584-4538-941c-d5288bb8a564\",\"type\":\"Grid\"},{\"attributes\":{\"data_source\":{\"id\":\"4f1a48ee-8167-4291-8d7c-0f1496cbf02c\",\"type\":\"ColumnDataSource\"},\"glyph\":{\"id\":\"d1c12e8f-7b86-4781-ba3a-5a7281c640f8\",\"type\":\"Line\"},\"hover_glyph\":null,\"muted_glyph\":null,\"nonselection_glyph\":{\"id\":\"7ad9897c-e16c-403c-98a6-6e1a6073777d\",\"type\":\"Line\"},\"selection_glyph\":null,\"view\":{\"id\":\"9b64206f-6e15-4b6f-9315-97520408495f\",\"type\":\"CDSView\"}},\"id\":\"d74e86fb-4538-4689-aec9-7912b2dd7f05\",\"type\":\"GlyphRenderer\"},{\"attributes\":{},\"id\":\"e76c09c5-e618-4f02-b38f-178f1af98387\",\"type\":\"DatetimeTickFormatter\"},{\"attributes\":{\"callback\":null,\"data\":{\"x\":{\"__ndarray__\":\"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\",\"dtype\":\"float64\",\"shape\":[251]},\"y\":{\"__ndarray__\":\"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\",\"dtype\":\"float64\",\"shape\":[251]}},\"selected\":{\"id\":\"9676b1eb-8919-49b6-b0ff-f917bd500509\",\"type\":\"Selection\"},\"selection_policy\":{\"id\":\"538c25d1-a8ee-4e8a-bc42-579996636ec0\",\"type\":\"UnionRenderers\"}},\"id\":\"4f1a48ee-8167-4291-8d7c-0f1496cbf02c\",\"type\":\"ColumnDataSource\"},{\"attributes\":{},\"id\":\"a9e4f5c4-be47-4111-b973-009c4fd394dd\",\"type\":\"YearsTicker\"},{\"attributes\":{\"axis_label\":\"Log(Level-1 Difference)\",\"formatter\":{\"id\":\"fa0d3799-b5c0-489c-9483-fbdc16834634\",\"type\":\"BasicTickFormatter\"},\"plot\":{\"id\":\"31e8acd5-a402-4981-9a83-29379f5366a4\",\"subtype\":\"Figure\",\"type\":\"Plot\"},\"ticker\":{\"id\":\"5d7b080b-1d4e-4e86-b127-1d4f0bd3934e\",\"type\":\"BasicTicker\"}},\"id\":\"3368a409-92d2-4cbe-ac16-401f60c62b08\",\"type\":\"LinearAxis\"},{\"attributes\":{\"months\":[0,4,8]},\"id\":\"f2ec2e60-e6f4-4605-83d8-80a35dc3f8b1\",\"type\":\"MonthsTicker\"},{\"attributes\":{\"base\":24,\"mantissas\":[1,2,4,6,8,12],\"max_interval\":43200000.0,\"min_interval\":3600000.0,\"num_minor_ticks\":0},\"id\":\"39f6dde9-2a58-41c4-9798-0acf54fd5d2f\",\"type\":\"AdaptiveTicker\"},{\"attributes\":{\"line_color\":\"green\",\"line_width\":2,\"x\":{\"field\":\"x\"},\"y\":{\"field\":\"y\"}},\"id\":\"d1c12e8f-7b86-4781-ba3a-5a7281c640f8\",\"type\":\"Line\"},{\"attributes\":{\"num_minor_ticks\":5,\"tickers\":[{\"id\":\"8f76d969-8149-4f90-82f0-92c584ced759\",\"type\":\"AdaptiveTicker\"},{\"id\":\"ded78065-c2ee-485d-97b6-7c22bd7c9fd3\",\"type\":\"AdaptiveTicker\"},{\"id\":\"39f6dde9-2a58-41c4-9798-0acf54fd5d2f\",\"type\":\"AdaptiveTicker\"},{\"id\":\"254ba64a-a648-4591-ba93-58b10023ca7d\",\"type\":\"DaysTicker\"},{\"id\":\"20fc508c-eedc-4f50-b7c6-8f18c3fe6a32\",\"type\":\"DaysTicker\"},{\"id\":\"20063d31-e476-4195-9c6f-b948a968cf07\",\"type\":\"DaysTicker\"},{\"id\":\"bac11f96-caee-41ea-89d8-716bd05c4b66\",\"type\":\"DaysTicker\"},{\"id\":\"c49a71a0-d131-4a3a-80b2-c8c3ca624b43\",\"type\":\"MonthsTicker\"},{\"id\":\"f91577f8-1848-4bd4-86b4-b428e15348e2\",\"type\":\"MonthsTicker\"},{\"id\":\"f2ec2e60-e6f4-4605-83d8-80a35dc3f8b1\",\"type\":\"MonthsTicker\"},{\"id\":\"7a220684-a935-4bf1-a547-b37a637205a9\",\"type\":\"MonthsTicker\"},{\"id\":\"a9e4f5c4-be47-4111-b973-009c4fd394dd\",\"type\":\"YearsTicker\"}]},\"id\":\"5a54aefa-eb61-4a0f-85ca-f9d8edcf5772\",\"type\":\"DatetimeTicker\"},{\"attributes\":{\"active_drag\":\"auto\",\"active_inspect\":\"auto\",\"active_multi\":null,\"active_scroll\":\"auto\",\"active_tap\":\"auto\",\"tools\":[{\"id\":\"05abc896-a966-4c2b-b7cb-a87c0de4516a\",\"type\":\"PanTool\"},{\"id\":\"42518522-cba0-47e9-962d-5a2218d4de76\",\"type\":\"WheelZoomTool\"},{\"id\":\"adf201d6-76d8-4a6c-9bed-187aa6f4d36a\",\"type\":\"BoxZoomTool\"},{\"id\":\"cd1a5de4-7139-4e3c-8c8d-efa08850b5de\",\"type\":\"SaveTool\"},{\"id\":\"07b03a5a-370f-460a-b11b-109f7aaa9a76\",\"type\":\"ResetTool\"},{\"id\":\"6cbf418e-2f90-4593-b9fe-f878bd6c2300\",\"type\":\"HelpTool\"},{\"id\":\"0431d047-76c2-4f5f-9e0b-538dff47e526\",\"type\":\"HoverTool\"}]},\"id\":\"2ce77127-d47c-47d7-a488-77320848f2df\",\"type\":\"Toolbar\"},{\"attributes\":{},\"id\":\"538c25d1-a8ee-4e8a-bc42-579996636ec0\",\"type\":\"UnionRenderers\"},{\"attributes\":{\"plot\":{\"id\":\"31e8acd5-a402-4981-9a83-29379f5366a4\",\"subtype\":\"Figure\",\"type\":\"Plot\"},\"ticker\":{\"id\":\"5a54aefa-eb61-4a0f-85ca-f9d8edcf5772\",\"type\":\"DatetimeTicker\"}},\"id\":\"c51fb537-8408-46c3-9f10-7cfc5d14bd96\",\"type\":\"Grid\"},{\"attributes\":{\"days\":[1,4,7,10,13,16,19,22,25,28]},\"id\":\"20fc508c-eedc-4f50-b7c6-8f18c3fe6a32\",\"type\":\"DaysTicker\"},{\"attributes\":{\"months\":[0,2,4,6,8,10]},\"id\":\"f91577f8-1848-4bd4-86b4-b428e15348e2\",\"type\":\"MonthsTicker\"},{\"attributes\":{},\"id\":\"011bb781-306c-468e-abdd-da8dad49806f\",\"type\":\"LinearScale\"},{\"attributes\":{\"days\":[1,2,3,4,5,6,7,8,9,10,11,12,13,14,15,16,17,18,19,20,21,22,23,24,25,26,27,28,29,30,31]},\"id\":\"254ba64a-a648-4591-ba93-58b10023ca7d\",\"type\":\"DaysTicker\"},{\"attributes\":{\"months\":[0,1,2,3,4,5,6,7,8,9,10,11]},\"id\":\"c49a71a0-d131-4a3a-80b2-c8c3ca624b43\",\"type\":\"MonthsTicker\"},{\"attributes\":{\"days\":[1,8,15,22]},\"id\":\"20063d31-e476-4195-9c6f-b948a968cf07\",\"type\":\"DaysTicker\"},{\"attributes\":{\"days\":[1,15]},\"id\":\"bac11f96-caee-41ea-89d8-716bd05c4b66\",\"type\":\"DaysTicker\"},{\"attributes\":{\"callback\":null,\"renderers\":\"auto\"},\"id\":\"0431d047-76c2-4f5f-9e0b-538dff47e526\",\"type\":\"HoverTool\"},{\"attributes\":{\"below\":[{\"id\":\"b70e76cd-0c6d-4064-a2d3-a556ac9062e4\",\"type\":\"DatetimeAxis\"}],\"left\":[{\"id\":\"3368a409-92d2-4cbe-ac16-401f60c62b08\",\"type\":\"LinearAxis\"}],\"plot_height\":300,\"plot_width\":450,\"renderers\":[{\"id\":\"b70e76cd-0c6d-4064-a2d3-a556ac9062e4\",\"type\":\"DatetimeAxis\"},{\"id\":\"c51fb537-8408-46c3-9f10-7cfc5d14bd96\",\"type\":\"Grid\"},{\"id\":\"3368a409-92d2-4cbe-ac16-401f60c62b08\",\"type\":\"LinearAxis\"},{\"id\":\"b871874a-5584-4538-941c-d5288bb8a564\",\"type\":\"Grid\"},{\"id\":\"81425333-451a-42cd-8901-3912e970c999\",\"type\":\"BoxAnnotation\"},{\"id\":\"d74e86fb-4538-4689-aec9-7912b2dd7f05\",\"type\":\"GlyphRenderer\"}],\"title\":{\"id\":\"6c1e3859-f5be-463e-b3fa-cb88e44fc849\",\"type\":\"Title\"},\"toolbar\":{\"id\":\"2ce77127-d47c-47d7-a488-77320848f2df\",\"type\":\"Toolbar\"},\"x_range\":{\"id\":\"09c04a26-9e28-4f5c-b664-7653ea7c1538\",\"type\":\"DataRange1d\"},\"x_scale\":{\"id\":\"ef117617-3e35-4d82-8d56-19193946be70\",\"type\":\"LinearScale\"},\"y_range\":{\"id\":\"065cc24d-3566-471b-80c5-f1a25489baf1\",\"type\":\"DataRange1d\"},\"y_scale\":{\"id\":\"011bb781-306c-468e-abdd-da8dad49806f\",\"type\":\"LinearScale\"}},\"id\":\"31e8acd5-a402-4981-9a83-29379f5366a4\",\"subtype\":\"Figure\",\"type\":\"Plot\"},{\"attributes\":{\"base\":60,\"mantissas\":[1,2,5,10,15,20,30],\"max_interval\":1800000.0,\"min_interval\":1000.0,\"num_minor_ticks\":0},\"id\":\"ded78065-c2ee-485d-97b6-7c22bd7c9fd3\",\"type\":\"AdaptiveTicker\"},{\"attributes\":{\"plot\":null,\"text\":\"Log+level-1 Differencing vs Time\"},\"id\":\"6c1e3859-f5be-463e-b3fa-cb88e44fc849\",\"type\":\"Title\"},{\"attributes\":{},\"id\":\"fa0d3799-b5c0-489c-9483-fbdc16834634\",\"type\":\"BasicTickFormatter\"},{\"attributes\":{\"callback\":null},\"id\":\"09c04a26-9e28-4f5c-b664-7653ea7c1538\",\"type\":\"DataRange1d\"},{\"attributes\":{},\"id\":\"9676b1eb-8919-49b6-b0ff-f917bd500509\",\"type\":\"Selection\"},{\"attributes\":{},\"id\":\"ef117617-3e35-4d82-8d56-19193946be70\",\"type\":\"LinearScale\"},{\"attributes\":{\"callback\":null},\"id\":\"065cc24d-3566-471b-80c5-f1a25489baf1\",\"type\":\"DataRange1d\"},{\"attributes\":{\"months\":[0,6]},\"id\":\"7a220684-a935-4bf1-a547-b37a637205a9\",\"type\":\"MonthsTicker\"},{\"attributes\":{\"mantissas\":[1,2,5],\"max_interval\":500.0,\"num_minor_ticks\":0},\"id\":\"8f76d969-8149-4f90-82f0-92c584ced759\",\"type\":\"AdaptiveTicker\"}],\"root_ids\":[\"31e8acd5-a402-4981-9a83-29379f5366a4\"]},\"title\":\"Bokeh Application\",\"version\":\"0.13.0\"}};\n",
       "  var render_items = [{\"docid\":\"2d0c225c-8cb8-4e7f-baf5-4ba53522cc4d\",\"roots\":{\"31e8acd5-a402-4981-9a83-29379f5366a4\":\"5d0e4642-8511-4d2e-aca7-e97f1422d5e6\"}}];\n",
       "  root.Bokeh.embed.embed_items_notebook(docs_json, render_items);\n",
       "\n",
       "  }\n",
       "  if (root.Bokeh !== undefined) {\n",
       "    embed_document(root);\n",
       "  } else {\n",
       "    var attempts = 0;\n",
       "    var timer = setInterval(function(root) {\n",
       "      if (root.Bokeh !== undefined) {\n",
       "        embed_document(root);\n",
       "        clearInterval(timer);\n",
       "      }\n",
       "      attempts++;\n",
       "      if (attempts > 100) {\n",
       "        console.log(\"Bokeh: ERROR: Unable to run BokehJS code because BokehJS library is missing\")\n",
       "        clearInterval(timer);\n",
       "      }\n",
       "    }, 10, root)\n",
       "  }\n",
       "})(window);"
      ],
      "application/vnd.bokehjs_exec.v0+json": ""
     },
     "metadata": {
      "application/vnd.bokehjs_exec.v0+json": {
       "id": "31e8acd5-a402-4981-9a83-29379f5366a4"
      }
     },
     "output_type": "display_data"
    },
    {
     "name": "stdout",
     "output_type": "stream",
     "text": [
      "mean1= -0.00015145602427388383 , mean2= -0.0001690300911883724\n",
      "variance1= 0.00029007595306230783 , variance2= 0.00014173171663207232\n",
      "ADF-Statistics: -9.51156972515\n",
      "P-value: 3.2388846587e-16\n",
      "Critical Values:\n",
      "1% : -3.45721523727\n",
      "5% : -2.87336184157\n",
      "10% : -2.57307007601\n"
     ]
    }
   ],
   "source": [
    "#log transformation and then level-1 differencing\n",
    "log_diff1 = log-log.shift()\n",
    "plotting_curve('Log+level-1 Differencing vs Time', 'Log(Level-1 Difference)',log_diff1.index, log_diff1,'green')\n",
    "second_diff.dropna(inplace=True)\n",
    "log_diff1.dropna(inplace=True)\n",
    "statistics_check(log_diff1)\n",
    "dickey_Fuller(log_diff1)"
   ]
  },
  {
   "cell_type": "markdown",
   "metadata": {},
   "source": [
    "### This series look like stationary as p-value is negligible, ADF-Statistic value is less than 1% of critical value, so 99% surety of the stationarity, lets try decomposing"
   ]
  },
  {
   "cell_type": "markdown",
   "metadata": {},
   "source": [
    "### Decomposing"
   ]
  },
  {
   "cell_type": "code",
   "execution_count": 19,
   "metadata": {},
   "outputs": [],
   "source": [
    "def decompostion(series, color):\n",
    "    decomposition_series = seasonal_decompose(series, freq=30)\n",
    "    seasonal = decomposition_series.seasonal\n",
    "    residual = decomposition_series.resid\n",
    "    trend = decomposition_series.trend\n",
    "    plotting_curve('Residual vs Time', 'Residual_Value',residual.index, residual,color)\n",
    "    residual.dropna(inplace = True)\n",
    "    statistics_check(residual)\n",
    "    dickey_Fuller(residual)"
   ]
  },
  {
   "cell_type": "code",
   "execution_count": 20,
   "metadata": {},
   "outputs": [
    {
     "data": {
      "text/html": [
       "\n",
       "\n",
       "\n",
       "\n",
       "\n",
       "\n",
       "  <div class=\"bk-root\" id=\"ea3e0b60-e0b0-46b5-acf1-fbb1fc7c9d9a\"></div>\n"
      ]
     },
     "metadata": {},
     "output_type": "display_data"
    },
    {
     "data": {
      "application/javascript": [
       "(function(root) {\n",
       "  function embed_document(root) {\n",
       "    \n",
       "  var docs_json = {\"292a74b2-27fd-4fb4-b4d5-baba12ae5cc4\":{\"roots\":{\"references\":[{\"attributes\":{\"months\":[0,1,2,3,4,5,6,7,8,9,10,11]},\"id\":\"82fe39e8-fbad-4dd2-9e19-ef2536f94ba9\",\"type\":\"MonthsTicker\"},{\"attributes\":{},\"id\":\"82ff1d64-7bfc-4ac5-84b4-ced164d1947d\",\"type\":\"WheelZoomTool\"},{\"attributes\":{\"overlay\":{\"id\":\"fb920e1e-a5df-4a3c-92d9-d77e7f6dfd30\",\"type\":\"BoxAnnotation\"}},\"id\":\"faed1d93-4485-4260-9bf6-e200c30bc560\",\"type\":\"BoxZoomTool\"},{\"attributes\":{},\"id\":\"3faf9c67-6612-4587-a25a-acc9ef3a5e81\",\"type\":\"SaveTool\"},{\"attributes\":{\"source\":{\"id\":\"ab04751d-5eb8-46d8-861b-2e43873bb83b\",\"type\":\"ColumnDataSource\"}},\"id\":\"4f18a962-1b46-4977-b8e9-7a3a11ca388f\",\"type\":\"CDSView\"},{\"attributes\":{},\"id\":\"98e695d6-d8cd-4b48-8bdf-093f13ef5316\",\"type\":\"ResetTool\"},{\"attributes\":{},\"id\":\"435a956e-e235-4570-84f2-32d7c8b9f2a5\",\"type\":\"HelpTool\"},{\"attributes\":{},\"id\":\"5f20ab70-19bb-477f-ba71-b98cdbd3ce0b\",\"type\":\"Selection\"},{\"attributes\":{\"months\":[0,6]},\"id\":\"fe1bfa7e-14e8-47fe-827b-3c889474c014\",\"type\":\"MonthsTicker\"},{\"attributes\":{},\"id\":\"9113e34d-3a3a-498d-821c-cd658b3069f5\",\"type\":\"DatetimeTickFormatter\"},{\"attributes\":{\"days\":[1,15]},\"id\":\"f763b4e8-e4fc-4951-8fd1-034cebdb6dd2\",\"type\":\"DaysTicker\"},{\"attributes\":{\"days\":[1,8,15,22]},\"id\":\"a7149fdc-6b80-4c6c-aed3-23e9a5153e19\",\"type\":\"DaysTicker\"},{\"attributes\":{\"mantissas\":[1,2,5],\"max_interval\":500.0,\"num_minor_ticks\":0},\"id\":\"ddc4b5b3-393d-4ba3-be09-bb3ff347bfe6\",\"type\":\"AdaptiveTicker\"},{\"attributes\":{\"line_alpha\":0.1,\"line_color\":\"#1f77b4\",\"line_width\":2,\"x\":{\"field\":\"x\"},\"y\":{\"field\":\"y\"}},\"id\":\"c3a28587-34b2-49f8-b21a-5b427189bb6b\",\"type\":\"Line\"},{\"attributes\":{\"days\":[1,2,3,4,5,6,7,8,9,10,11,12,13,14,15,16,17,18,19,20,21,22,23,24,25,26,27,28,29,30,31]},\"id\":\"e07438e1-2d97-4108-96e1-9647e3ea398b\",\"type\":\"DaysTicker\"},{\"attributes\":{\"callback\":null,\"renderers\":\"auto\"},\"id\":\"2f0cb23b-7b22-4fd4-b472-2d84a4bb5bfb\",\"type\":\"HoverTool\"},{\"attributes\":{\"months\":[0,2,4,6,8,10]},\"id\":\"2081ee61-eab9-44fa-95c1-50faa33219d7\",\"type\":\"MonthsTicker\"},{\"attributes\":{\"below\":[{\"id\":\"236d8fa9-43b8-4dae-8fa8-050dc5e73f47\",\"type\":\"DatetimeAxis\"}],\"left\":[{\"id\":\"93feb624-75ef-4778-9f7a-ed3aa354d911\",\"type\":\"LinearAxis\"}],\"plot_height\":300,\"plot_width\":450,\"renderers\":[{\"id\":\"236d8fa9-43b8-4dae-8fa8-050dc5e73f47\",\"type\":\"DatetimeAxis\"},{\"id\":\"556b56bb-9ca4-4229-9112-bb2466f15b2a\",\"type\":\"Grid\"},{\"id\":\"93feb624-75ef-4778-9f7a-ed3aa354d911\",\"type\":\"LinearAxis\"},{\"id\":\"d7874195-cafa-4745-8b02-1222dba9e8ef\",\"type\":\"Grid\"},{\"id\":\"fb920e1e-a5df-4a3c-92d9-d77e7f6dfd30\",\"type\":\"BoxAnnotation\"},{\"id\":\"ed0b9fd9-6c78-417c-9eef-46fe7af84508\",\"type\":\"GlyphRenderer\"}],\"title\":{\"id\":\"95cde10f-d154-4a46-a516-c9e08da6796d\",\"type\":\"Title\"},\"toolbar\":{\"id\":\"7e6b0fab-9543-499d-b5cf-cafdd3a4c3e9\",\"type\":\"Toolbar\"},\"x_range\":{\"id\":\"074da1a3-d868-4178-8d09-1c8334b6d4e3\",\"type\":\"DataRange1d\"},\"x_scale\":{\"id\":\"a2ff95a3-d26c-4705-b228-c65cf0b578f3\",\"type\":\"LinearScale\"},\"y_range\":{\"id\":\"dd9dfdb1-e1a7-4d08-95e8-d69689164764\",\"type\":\"DataRange1d\"},\"y_scale\":{\"id\":\"56c3564a-f7fc-4679-8a24-770d072a154d\",\"type\":\"LinearScale\"}},\"id\":\"c45c57a7-74d9-4456-b9ac-704c4e250439\",\"subtype\":\"Figure\",\"type\":\"Plot\"},{\"attributes\":{},\"id\":\"97c6391e-a438-49fb-b307-5f200fd0e965\",\"type\":\"UnionRenderers\"},{\"attributes\":{\"plot\":null,\"text\":\"Residual vs Time\"},\"id\":\"95cde10f-d154-4a46-a516-c9e08da6796d\",\"type\":\"Title\"},{\"attributes\":{\"base\":60,\"mantissas\":[1,2,5,10,15,20,30],\"max_interval\":1800000.0,\"min_interval\":1000.0,\"num_minor_ticks\":0},\"id\":\"980a3d45-1d8b-4870-9143-0eb7b37650cd\",\"type\":\"AdaptiveTicker\"},{\"attributes\":{\"callback\":null},\"id\":\"074da1a3-d868-4178-8d09-1c8334b6d4e3\",\"type\":\"DataRange1d\"},{\"attributes\":{\"active_drag\":\"auto\",\"active_inspect\":\"auto\",\"active_multi\":null,\"active_scroll\":\"auto\",\"active_tap\":\"auto\",\"tools\":[{\"id\":\"6080f31b-d844-44bd-94c0-346b571e7ba4\",\"type\":\"PanTool\"},{\"id\":\"82ff1d64-7bfc-4ac5-84b4-ced164d1947d\",\"type\":\"WheelZoomTool\"},{\"id\":\"faed1d93-4485-4260-9bf6-e200c30bc560\",\"type\":\"BoxZoomTool\"},{\"id\":\"3faf9c67-6612-4587-a25a-acc9ef3a5e81\",\"type\":\"SaveTool\"},{\"id\":\"98e695d6-d8cd-4b48-8bdf-093f13ef5316\",\"type\":\"ResetTool\"},{\"id\":\"435a956e-e235-4570-84f2-32d7c8b9f2a5\",\"type\":\"HelpTool\"},{\"id\":\"2f0cb23b-7b22-4fd4-b472-2d84a4bb5bfb\",\"type\":\"HoverTool\"}]},\"id\":\"7e6b0fab-9543-499d-b5cf-cafdd3a4c3e9\",\"type\":\"Toolbar\"},{\"attributes\":{\"months\":[0,4,8]},\"id\":\"8c472b23-a8a3-4c1d-8e5a-e810e152ce1a\",\"type\":\"MonthsTicker\"},{\"attributes\":{},\"id\":\"a2ff95a3-d26c-4705-b228-c65cf0b578f3\",\"type\":\"LinearScale\"},{\"attributes\":{\"callback\":null},\"id\":\"dd9dfdb1-e1a7-4d08-95e8-d69689164764\",\"type\":\"DataRange1d\"},{\"attributes\":{},\"id\":\"b9d65b32-6dbb-4b28-86b8-19c4a2cb9565\",\"type\":\"YearsTicker\"},{\"attributes\":{\"days\":[1,4,7,10,13,16,19,22,25,28]},\"id\":\"e7320dcb-50f9-493f-a1b5-66d66a9949ab\",\"type\":\"DaysTicker\"},{\"attributes\":{},\"id\":\"56c3564a-f7fc-4679-8a24-770d072a154d\",\"type\":\"LinearScale\"},{\"attributes\":{\"plot\":{\"id\":\"c45c57a7-74d9-4456-b9ac-704c4e250439\",\"subtype\":\"Figure\",\"type\":\"Plot\"},\"ticker\":{\"id\":\"11c50e5f-7bd5-473d-ad93-0ac05086622f\",\"type\":\"DatetimeTicker\"}},\"id\":\"556b56bb-9ca4-4229-9112-bb2466f15b2a\",\"type\":\"Grid\"},{\"attributes\":{\"axis_label\":\"Time\",\"formatter\":{\"id\":\"9113e34d-3a3a-498d-821c-cd658b3069f5\",\"type\":\"DatetimeTickFormatter\"},\"plot\":{\"id\":\"c45c57a7-74d9-4456-b9ac-704c4e250439\",\"subtype\":\"Figure\",\"type\":\"Plot\"},\"ticker\":{\"id\":\"11c50e5f-7bd5-473d-ad93-0ac05086622f\",\"type\":\"DatetimeTicker\"}},\"id\":\"236d8fa9-43b8-4dae-8fa8-050dc5e73f47\",\"type\":\"DatetimeAxis\"},{\"attributes\":{\"num_minor_ticks\":5,\"tickers\":[{\"id\":\"ddc4b5b3-393d-4ba3-be09-bb3ff347bfe6\",\"type\":\"AdaptiveTicker\"},{\"id\":\"980a3d45-1d8b-4870-9143-0eb7b37650cd\",\"type\":\"AdaptiveTicker\"},{\"id\":\"765cd8d6-4b4a-41ac-9a2f-e785244b988f\",\"type\":\"AdaptiveTicker\"},{\"id\":\"e07438e1-2d97-4108-96e1-9647e3ea398b\",\"type\":\"DaysTicker\"},{\"id\":\"e7320dcb-50f9-493f-a1b5-66d66a9949ab\",\"type\":\"DaysTicker\"},{\"id\":\"a7149fdc-6b80-4c6c-aed3-23e9a5153e19\",\"type\":\"DaysTicker\"},{\"id\":\"f763b4e8-e4fc-4951-8fd1-034cebdb6dd2\",\"type\":\"DaysTicker\"},{\"id\":\"82fe39e8-fbad-4dd2-9e19-ef2536f94ba9\",\"type\":\"MonthsTicker\"},{\"id\":\"2081ee61-eab9-44fa-95c1-50faa33219d7\",\"type\":\"MonthsTicker\"},{\"id\":\"8c472b23-a8a3-4c1d-8e5a-e810e152ce1a\",\"type\":\"MonthsTicker\"},{\"id\":\"fe1bfa7e-14e8-47fe-827b-3c889474c014\",\"type\":\"MonthsTicker\"},{\"id\":\"b9d65b32-6dbb-4b28-86b8-19c4a2cb9565\",\"type\":\"YearsTicker\"}]},\"id\":\"11c50e5f-7bd5-473d-ad93-0ac05086622f\",\"type\":\"DatetimeTicker\"},{\"attributes\":{\"axis_label\":\"Residual_Value\",\"formatter\":{\"id\":\"6d58c20f-3172-4f48-b003-ff701b0a5b56\",\"type\":\"BasicTickFormatter\"},\"plot\":{\"id\":\"c45c57a7-74d9-4456-b9ac-704c4e250439\",\"subtype\":\"Figure\",\"type\":\"Plot\"},\"ticker\":{\"id\":\"e88619ed-c579-4739-ad64-0bc77f40a854\",\"type\":\"BasicTicker\"}},\"id\":\"93feb624-75ef-4778-9f7a-ed3aa354d911\",\"type\":\"LinearAxis\"},{\"attributes\":{\"base\":24,\"mantissas\":[1,2,4,6,8,12],\"max_interval\":43200000.0,\"min_interval\":3600000.0,\"num_minor_ticks\":0},\"id\":\"765cd8d6-4b4a-41ac-9a2f-e785244b988f\",\"type\":\"AdaptiveTicker\"},{\"attributes\":{},\"id\":\"e88619ed-c579-4739-ad64-0bc77f40a854\",\"type\":\"BasicTicker\"},{\"attributes\":{},\"id\":\"6d58c20f-3172-4f48-b003-ff701b0a5b56\",\"type\":\"BasicTickFormatter\"},{\"attributes\":{\"dimension\":1,\"plot\":{\"id\":\"c45c57a7-74d9-4456-b9ac-704c4e250439\",\"subtype\":\"Figure\",\"type\":\"Plot\"},\"ticker\":{\"id\":\"e88619ed-c579-4739-ad64-0bc77f40a854\",\"type\":\"BasicTicker\"}},\"id\":\"d7874195-cafa-4745-8b02-1222dba9e8ef\",\"type\":\"Grid\"},{\"attributes\":{\"line_color\":\"darkblue\",\"line_width\":2,\"x\":{\"field\":\"x\"},\"y\":{\"field\":\"y\"}},\"id\":\"a0142cd3-6918-4d1b-ab74-dfdb442cc635\",\"type\":\"Line\"},{\"attributes\":{\"callback\":null,\"data\":{\"x\":{\"__ndarray__\":\"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\",\"dtype\":\"float64\",\"shape\":[251]},\"y\":{\"__ndarray__\":\"AAAAAAAA+H8AAAAAAAD4fwAAAAAAAPh/AAAAAAAA+H8AAAAAAAD4fwAAAAAAAPh/AAAAAAAA+H8AAAAAAAD4fwAAAAAAAPh/AAAAAAAA+H8AAAAAAAD4fwAAAAAAAPh/AAAAAAAA+H8AAAAAAAD4fwAAAAAAAPh/7plNAFQTBcB03JKMuLfwvxgeXjCABug/yMMG4ye/5T9O0Djo/OkDwMjCBYsd2eI/9ti/oGSbCEDGVAtsP64AQHT7NzHSSva/hBVcLd2h+L8q4jv7agMLwGzyPe5SJRLAwI4B2CkKEMAKEbrlbS30v0T0ZPMWNeI/bDXkHGHD7T+d2fpZSHnwv6R1XjUMrAFAQCanAA2EyD8IE390eMbQv7THQHkkjes/Akvhozrw6r9U2zIwK0vyv7AOIl7QIaI/EPaPijLy5z84xDyPWR7DP+Sp5zFEfd6/XkZ2S+7p67+Ule0b30r0v3gGRq7Uyva/XIRgV0F59L+M9MEwskv5P8zhzU/6ovI/yJirdkxG7j8kYsY2H775P1na/rBVDhFAdpPRtnn0AUCmJh6qrUAIQIbUUYzUDwNA+TYwNpkv6D8WxqrS0TACQKLEGzANDO8/8OtOnnZuuj9rPpVXmX/mP+JWW0dDuP8/+9fOCd3GCUCMxbsd8vPUPxzen+40wgTAOJ86LirF/79h8UvEdhgPwJPEMH92kg/AwGRTKPJ9EMDqR9R9ykoOwAVPkMzxvAPA3E/BrkuZCcC8WuDfqPMIwHIO6VD5Ieu/vMu6AGFA279gWySbxBLBP5BqiRnMNe8/pKPCIEwe+z8wC1tjl8PXP5g2tP3Pk+0/yBAq/5De5T+QkLIInwvbP5A9QN6p4tA/7IWTMvtp+z9mpg/uiawCQIz5RHipdfs/XocC2ThgCEAUwcQhyUv9v15q15I1xue//zyBoZAK8j8q3kh01fPXv0Svm/0V7uU/UOjZKAD8xr8Yp81hTj/CP0AuFlcWos0/SEOiC31X9D++73GXRknyP9qyDcB/0fo//t80G+/75z9ZQa7Z/SHqP4B1c0NHeXU/AE4oYTptkb+OYObCuJPoPxwO+RF829M/RO/T3EkQ3z+sNxY8Bc3zPyDAZLT0FtY/SdejfwCy7D8mmxcChW0AQAwM//pNFPs/Eu4gGquxAEAgUbkz6+zHP1xlyKCuAP2/lA/mr3XT97+0D8K43DL5v7Q/zRP+bPa/Dr2y2rRm1r/2t1uRwS4BQAhxVeg6zAVAP9AJAEVw/z8b3mkdr+sJQFgqkdXo1xbAGWtYdOUEIsDX02/6OaEUwHCKwggPoei/ZF6N//qKAEC/SJH/+GsAQFo+z0xyB/w/P/AHQV/j/T/ZlPhgBKPpP+vIQklDcec/kPYHKnHv7z/kmIWcyTsCQAdJx0h89fI/UcIBNVLB8T8AZaiEAjuav8C3YITags+/3AJ82MWfxb90FMR5HYHzv3oL+h2rNQLAXHbPljTC/b+cG7VW9Dbxv1yozE5sEvy/ULPZKddp2L+c0dNoLFzDv+ewDRdMMem/kG8c+MK8oT+sItzQVA7wP1EGX7bSUvQ//3C0Zj8a+z8lBYXXHP0CwOB5gntGUb2/bHuTNlQx5z/GwpQzbqrrP0TSn/VTRgRAECKjL5nH4D/8H6ovOjDkP7REp0FVk+I/BODQegR42L9OUvzq53vZv5WIKoKYe+6/cEE2VsFD7795Z0QKrj70v7yr1ChzxgTAmHjoAJ9HA8DU/3irUvr4v+AiSQi5Zt6/t+Wf9zWf4r80mydYSez2v3T1k6FGdvG/IEe62cDmxj9kc+oScWf7P+T6xIC/u/0/qI0dWOpf579aGl4kntoNwPQEpMjR9Pa/ovprxLT/CsDKxEKb4GwHwN7NruRlJO6/gJdbs0I8A8BKFGKinhn/v4gAalRj1dk/++nWji8cCUAygdLh3GcKQMQzcX2V0QZAZNJTQU5DAED/GNsSDIwIQA3etznbUAJAoBWIGBbnBUALIE1OGswTQJs6spBErwtAxElGbwG6BEAkZojAmhYDQIQPz1UjKABAUSSLzmGL8j9sdF+/qXXzP3D7zIsXC+i/ydVU7oUr4z+0T//t8gj+v3TJh0c1yPa/rsTFwH9xBMA4Vv0oWRvlv8DFgIeocba/UCjHo0Pj0r9AxirzaOaAPzJtzpUsTtE/5EcouS3Dzz8sTOnyk6b7P9GP/593GfA/v3H1nl1l9D92gPb3PSf8P+IcY3Oy9f4/bFxnLsqM7T+jk/5chtT0P74R8dvD2RLArgEtk8FoEcCB0wVyWvcHwNNagYrlsgvABJmOjbqF0L/U9pDlAtP3v4oGqGvVBfG/4M1m8ekp2b85NRU5Qyz3vziShMD6BcQ/IrOqbmiH5j8AC90+41CSP0hzSRf0OfU/pLY8VVgE8z+Mc9bcWoT0PwA9b6nnLJu/cFqvFUl83L8AcqS48zeAP87a0rUX2QzABTMO7UaxEcCaqs/WmEsCwDKA0QNUKdc/eVH83aiU7D/YUiDCdkzmPwAAAAAAAPh/AAAAAAAA+H8AAAAAAAD4fwAAAAAAAPh/AAAAAAAA+H8AAAAAAAD4fwAAAAAAAPh/AAAAAAAA+H8AAAAAAAD4fwAAAAAAAPh/AAAAAAAA+H8AAAAAAAD4fwAAAAAAAPh/AAAAAAAA+H8AAAAAAAD4fw==\",\"dtype\":\"float64\",\"shape\":[251]}},\"selected\":{\"id\":\"5f20ab70-19bb-477f-ba71-b98cdbd3ce0b\",\"type\":\"Selection\"},\"selection_policy\":{\"id\":\"97c6391e-a438-49fb-b307-5f200fd0e965\",\"type\":\"UnionRenderers\"}},\"id\":\"ab04751d-5eb8-46d8-861b-2e43873bb83b\",\"type\":\"ColumnDataSource\"},{\"attributes\":{\"data_source\":{\"id\":\"ab04751d-5eb8-46d8-861b-2e43873bb83b\",\"type\":\"ColumnDataSource\"},\"glyph\":{\"id\":\"a0142cd3-6918-4d1b-ab74-dfdb442cc635\",\"type\":\"Line\"},\"hover_glyph\":null,\"muted_glyph\":null,\"nonselection_glyph\":{\"id\":\"c3a28587-34b2-49f8-b21a-5b427189bb6b\",\"type\":\"Line\"},\"selection_glyph\":null,\"view\":{\"id\":\"4f18a962-1b46-4977-b8e9-7a3a11ca388f\",\"type\":\"CDSView\"}},\"id\":\"ed0b9fd9-6c78-417c-9eef-46fe7af84508\",\"type\":\"GlyphRenderer\"},{\"attributes\":{\"bottom_units\":\"screen\",\"fill_alpha\":{\"value\":0.5},\"fill_color\":{\"value\":\"lightgrey\"},\"left_units\":\"screen\",\"level\":\"overlay\",\"line_alpha\":{\"value\":1.0},\"line_color\":{\"value\":\"black\"},\"line_dash\":[4,4],\"line_width\":{\"value\":2},\"plot\":null,\"render_mode\":\"css\",\"right_units\":\"screen\",\"top_units\":\"screen\"},\"id\":\"fb920e1e-a5df-4a3c-92d9-d77e7f6dfd30\",\"type\":\"BoxAnnotation\"},{\"attributes\":{},\"id\":\"6080f31b-d844-44bd-94c0-346b571e7ba4\",\"type\":\"PanTool\"}],\"root_ids\":[\"c45c57a7-74d9-4456-b9ac-704c4e250439\"]},\"title\":\"Bokeh Application\",\"version\":\"0.13.0\"}};\n",
       "  var render_items = [{\"docid\":\"292a74b2-27fd-4fb4-b4d5-baba12ae5cc4\",\"roots\":{\"c45c57a7-74d9-4456-b9ac-704c4e250439\":\"ea3e0b60-e0b0-46b5-acf1-fbb1fc7c9d9a\"}}];\n",
       "  root.Bokeh.embed.embed_items_notebook(docs_json, render_items);\n",
       "\n",
       "  }\n",
       "  if (root.Bokeh !== undefined) {\n",
       "    embed_document(root);\n",
       "  } else {\n",
       "    var attempts = 0;\n",
       "    var timer = setInterval(function(root) {\n",
       "      if (root.Bokeh !== undefined) {\n",
       "        embed_document(root);\n",
       "        clearInterval(timer);\n",
       "      }\n",
       "      attempts++;\n",
       "      if (attempts > 100) {\n",
       "        console.log(\"Bokeh: ERROR: Unable to run BokehJS code because BokehJS library is missing\")\n",
       "        clearInterval(timer);\n",
       "      }\n",
       "    }, 10, root)\n",
       "  }\n",
       "})(window);"
      ],
      "application/vnd.bokehjs_exec.v0+json": ""
     },
     "metadata": {
      "application/vnd.bokehjs_exec.v0+json": {
       "id": "c45c57a7-74d9-4456-b9ac-704c4e250439"
      }
     },
     "output_type": "display_data"
    },
    {
     "name": "stdout",
     "output_type": "stream",
     "text": [
      "mean1= -0.044202067325034025 , mean2= -0.04346440074494597\n",
      "variance1= 4.646575286470345 , variance2= 3.4550663333806675\n",
      "ADF-Statistics: -5.58227771876\n",
      "P-value: 1.38791026427e-06\n",
      "Critical Values:\n",
      "1% : -3.46099220133\n",
      "5% : -2.87501574096\n",
      "10% : -2.57395242884\n"
     ]
    }
   ],
   "source": [
    "decompostion(data_open, 'darkblue') #original series"
   ]
  },
  {
   "cell_type": "code",
   "execution_count": 21,
   "metadata": {},
   "outputs": [
    {
     "data": {
      "text/html": [
       "\n",
       "\n",
       "\n",
       "\n",
       "\n",
       "\n",
       "  <div class=\"bk-root\" id=\"741458e9-194a-4ac6-ba38-6e00e18c49b4\"></div>\n"
      ]
     },
     "metadata": {},
     "output_type": "display_data"
    },
    {
     "data": {
      "application/javascript": [
       "(function(root) {\n",
       "  function embed_document(root) {\n",
       "    \n",
       "  var docs_json = {\"e3fec2bc-6231-43b2-8d0b-7f9e7e86d03e\":{\"roots\":{\"references\":[{\"attributes\":{\"mantissas\":[1,2,5],\"max_interval\":500.0,\"num_minor_ticks\":0},\"id\":\"01693ba7-24e0-4a6f-8958-48ae608fc884\",\"type\":\"AdaptiveTicker\"},{\"attributes\":{},\"id\":\"29a208e8-e0d7-43c0-b9d0-c5834b0c2e0c\",\"type\":\"Selection\"},{\"attributes\":{\"months\":[0,1,2,3,4,5,6,7,8,9,10,11]},\"id\":\"fb25b023-6035-4242-aa03-f4ac73ebcd8f\",\"type\":\"MonthsTicker\"},{\"attributes\":{\"base\":60,\"mantissas\":[1,2,5,10,15,20,30],\"max_interval\":1800000.0,\"min_interval\":1000.0,\"num_minor_ticks\":0},\"id\":\"e2e7837e-8f5e-499c-b960-9e06514c1d57\",\"type\":\"AdaptiveTicker\"},{\"attributes\":{},\"id\":\"8b281f2e-3d71-4d97-a70a-d323b11b3720\",\"type\":\"SaveTool\"},{\"attributes\":{\"line_color\":\"darkgreen\",\"line_width\":2,\"x\":{\"field\":\"x\"},\"y\":{\"field\":\"y\"}},\"id\":\"63408291-de8e-4ded-8aaa-2d71af083505\",\"type\":\"Line\"},{\"attributes\":{\"days\":[1,15]},\"id\":\"fc823fb3-e2c0-40ab-9579-94516e4e6256\",\"type\":\"DaysTicker\"},{\"attributes\":{\"overlay\":{\"id\":\"34bc7bab-a894-4462-801a-3631c9f3ed26\",\"type\":\"BoxAnnotation\"}},\"id\":\"3ca9840f-34b3-4d58-ab4a-c21cddc96722\",\"type\":\"BoxZoomTool\"},{\"attributes\":{\"days\":[1,8,15,22]},\"id\":\"743bcea0-4d35-4994-97b4-9fd46c13fcb3\",\"type\":\"DaysTicker\"},{\"attributes\":{},\"id\":\"7536ee6a-fbf9-42f8-a95b-ed882ca8865c\",\"type\":\"HelpTool\"},{\"attributes\":{\"base\":24,\"mantissas\":[1,2,4,6,8,12],\"max_interval\":43200000.0,\"min_interval\":3600000.0,\"num_minor_ticks\":0},\"id\":\"2d65ba62-8240-425d-afa5-b39913df80ce\",\"type\":\"AdaptiveTicker\"},{\"attributes\":{\"dimension\":1,\"plot\":{\"id\":\"3deb270a-3913-4f53-bc2a-a2a560b9b878\",\"subtype\":\"Figure\",\"type\":\"Plot\"},\"ticker\":{\"id\":\"b63b73b2-6a75-4964-ba6a-cd309a4c90b8\",\"type\":\"BasicTicker\"}},\"id\":\"be3e6eda-3d66-403a-bf93-098a03dafe7f\",\"type\":\"Grid\"},{\"attributes\":{\"source\":{\"id\":\"389543de-2b58-4352-9467-dfbcc9e76e66\",\"type\":\"ColumnDataSource\"}},\"id\":\"434e6231-6017-4e8b-9344-6fd4a81486ed\",\"type\":\"CDSView\"},{\"attributes\":{\"bottom_units\":\"screen\",\"fill_alpha\":{\"value\":0.5},\"fill_color\":{\"value\":\"lightgrey\"},\"left_units\":\"screen\",\"level\":\"overlay\",\"line_alpha\":{\"value\":1.0},\"line_color\":{\"value\":\"black\"},\"line_dash\":[4,4],\"line_width\":{\"value\":2},\"plot\":null,\"render_mode\":\"css\",\"right_units\":\"screen\",\"top_units\":\"screen\"},\"id\":\"34bc7bab-a894-4462-801a-3631c9f3ed26\",\"type\":\"BoxAnnotation\"},{\"attributes\":{\"data_source\":{\"id\":\"389543de-2b58-4352-9467-dfbcc9e76e66\",\"type\":\"ColumnDataSource\"},\"glyph\":{\"id\":\"63408291-de8e-4ded-8aaa-2d71af083505\",\"type\":\"Line\"},\"hover_glyph\":null,\"muted_glyph\":null,\"nonselection_glyph\":{\"id\":\"da602a22-4b59-48ac-ac52-5fd5b6a4611c\",\"type\":\"Line\"},\"selection_glyph\":null,\"view\":{\"id\":\"434e6231-6017-4e8b-9344-6fd4a81486ed\",\"type\":\"CDSView\"}},\"id\":\"1de4da12-041d-4854-80e0-4aa0687fa3f1\",\"type\":\"GlyphRenderer\"},{\"attributes\":{\"months\":[0,2,4,6,8,10]},\"id\":\"ca1bf3ff-8c88-4b17-ba30-73962f12c71e\",\"type\":\"MonthsTicker\"},{\"attributes\":{\"callback\":null,\"data\":{\"x\":{\"__ndarray__\":\"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\",\"dtype\":\"float64\",\"shape\":[251]},\"y\":{\"__ndarray__\":\"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\",\"dtype\":\"float64\",\"shape\":[251]}},\"selected\":{\"id\":\"29a208e8-e0d7-43c0-b9d0-c5834b0c2e0c\",\"type\":\"Selection\"},\"selection_policy\":{\"id\":\"a3aa10d9-5e66-422d-a04f-ab517ffc63ad\",\"type\":\"UnionRenderers\"}},\"id\":\"389543de-2b58-4352-9467-dfbcc9e76e66\",\"type\":\"ColumnDataSource\"},{\"attributes\":{\"line_alpha\":0.1,\"line_color\":\"#1f77b4\",\"line_width\":2,\"x\":{\"field\":\"x\"},\"y\":{\"field\":\"y\"}},\"id\":\"da602a22-4b59-48ac-ac52-5fd5b6a4611c\",\"type\":\"Line\"},{\"attributes\":{},\"id\":\"8dc2291f-1574-4128-a222-37fa5c1e17b0\",\"type\":\"PanTool\"},{\"attributes\":{},\"id\":\"b23315f1-9a2a-4592-b3eb-d9ea881fd5e3\",\"type\":\"YearsTicker\"},{\"attributes\":{\"callback\":null},\"id\":\"39d2db95-25ef-4d29-897c-5e4d52508449\",\"type\":\"DataRange1d\"},{\"attributes\":{},\"id\":\"c0efa7da-1c49-4efa-a576-eceae1c25b56\",\"type\":\"WheelZoomTool\"},{\"attributes\":{\"axis_label\":\"Time\",\"formatter\":{\"id\":\"984745fc-048b-4f76-bff2-f4c36650ea47\",\"type\":\"DatetimeTickFormatter\"},\"plot\":{\"id\":\"3deb270a-3913-4f53-bc2a-a2a560b9b878\",\"subtype\":\"Figure\",\"type\":\"Plot\"},\"ticker\":{\"id\":\"caf57d17-56a0-4947-b359-2a49839257a6\",\"type\":\"DatetimeTicker\"}},\"id\":\"d25b3ca3-905b-45d2-981e-02801bbba1e5\",\"type\":\"DatetimeAxis\"},{\"attributes\":{\"num_minor_ticks\":5,\"tickers\":[{\"id\":\"01693ba7-24e0-4a6f-8958-48ae608fc884\",\"type\":\"AdaptiveTicker\"},{\"id\":\"e2e7837e-8f5e-499c-b960-9e06514c1d57\",\"type\":\"AdaptiveTicker\"},{\"id\":\"2d65ba62-8240-425d-afa5-b39913df80ce\",\"type\":\"AdaptiveTicker\"},{\"id\":\"d8456520-b733-4759-8329-cb51463023bf\",\"type\":\"DaysTicker\"},{\"id\":\"d8d514e0-366b-4b82-81c5-15b4735b600a\",\"type\":\"DaysTicker\"},{\"id\":\"743bcea0-4d35-4994-97b4-9fd46c13fcb3\",\"type\":\"DaysTicker\"},{\"id\":\"fc823fb3-e2c0-40ab-9579-94516e4e6256\",\"type\":\"DaysTicker\"},{\"id\":\"fb25b023-6035-4242-aa03-f4ac73ebcd8f\",\"type\":\"MonthsTicker\"},{\"id\":\"ca1bf3ff-8c88-4b17-ba30-73962f12c71e\",\"type\":\"MonthsTicker\"},{\"id\":\"f5150e1c-24a3-481f-be6e-1628810f2fa2\",\"type\":\"MonthsTicker\"},{\"id\":\"1460eeba-3f0e-40ef-8231-3774615d1222\",\"type\":\"MonthsTicker\"},{\"id\":\"b23315f1-9a2a-4592-b3eb-d9ea881fd5e3\",\"type\":\"YearsTicker\"}]},\"id\":\"caf57d17-56a0-4947-b359-2a49839257a6\",\"type\":\"DatetimeTicker\"},{\"attributes\":{},\"id\":\"af097878-a418-4903-a1a7-66b4f3814c59\",\"type\":\"ResetTool\"},{\"attributes\":{},\"id\":\"b63b73b2-6a75-4964-ba6a-cd309a4c90b8\",\"type\":\"BasicTicker\"},{\"attributes\":{\"axis_label\":\"Residual_Value\",\"formatter\":{\"id\":\"c57e219f-2290-4a36-a804-10f3606973a6\",\"type\":\"BasicTickFormatter\"},\"plot\":{\"id\":\"3deb270a-3913-4f53-bc2a-a2a560b9b878\",\"subtype\":\"Figure\",\"type\":\"Plot\"},\"ticker\":{\"id\":\"b63b73b2-6a75-4964-ba6a-cd309a4c90b8\",\"type\":\"BasicTicker\"}},\"id\":\"b54e55fc-7459-4c60-b154-71efd32964c4\",\"type\":\"LinearAxis\"},{\"attributes\":{\"plot\":{\"id\":\"3deb270a-3913-4f53-bc2a-a2a560b9b878\",\"subtype\":\"Figure\",\"type\":\"Plot\"},\"ticker\":{\"id\":\"caf57d17-56a0-4947-b359-2a49839257a6\",\"type\":\"DatetimeTicker\"}},\"id\":\"6ed636be-f039-4d4a-b2f4-5ed41f8e532b\",\"type\":\"Grid\"},{\"attributes\":{\"plot\":null,\"text\":\"Residual vs Time\"},\"id\":\"b5cc12b5-272d-49cb-8140-b5e1afcb558b\",\"type\":\"Title\"},{\"attributes\":{},\"id\":\"a3aa10d9-5e66-422d-a04f-ab517ffc63ad\",\"type\":\"UnionRenderers\"},{\"attributes\":{},\"id\":\"2de8a42c-1b3b-4ee6-a3fe-c4b6c4f9c8d8\",\"type\":\"LinearScale\"},{\"attributes\":{},\"id\":\"b5cef2fb-18c2-4267-9e1e-4113d3f226c2\",\"type\":\"LinearScale\"},{\"attributes\":{\"months\":[0,6]},\"id\":\"1460eeba-3f0e-40ef-8231-3774615d1222\",\"type\":\"MonthsTicker\"},{\"attributes\":{},\"id\":\"984745fc-048b-4f76-bff2-f4c36650ea47\",\"type\":\"DatetimeTickFormatter\"},{\"attributes\":{\"active_drag\":\"auto\",\"active_inspect\":\"auto\",\"active_multi\":null,\"active_scroll\":\"auto\",\"active_tap\":\"auto\",\"tools\":[{\"id\":\"8dc2291f-1574-4128-a222-37fa5c1e17b0\",\"type\":\"PanTool\"},{\"id\":\"c0efa7da-1c49-4efa-a576-eceae1c25b56\",\"type\":\"WheelZoomTool\"},{\"id\":\"3ca9840f-34b3-4d58-ab4a-c21cddc96722\",\"type\":\"BoxZoomTool\"},{\"id\":\"8b281f2e-3d71-4d97-a70a-d323b11b3720\",\"type\":\"SaveTool\"},{\"id\":\"af097878-a418-4903-a1a7-66b4f3814c59\",\"type\":\"ResetTool\"},{\"id\":\"7536ee6a-fbf9-42f8-a95b-ed882ca8865c\",\"type\":\"HelpTool\"},{\"id\":\"fcd239d6-31f3-41f6-ade4-d716bf0d268c\",\"type\":\"HoverTool\"}]},\"id\":\"c4313998-b7de-47ba-a01c-91c077c0e751\",\"type\":\"Toolbar\"},{\"attributes\":{\"callback\":null,\"renderers\":\"auto\"},\"id\":\"fcd239d6-31f3-41f6-ade4-d716bf0d268c\",\"type\":\"HoverTool\"},{\"attributes\":{\"callback\":null},\"id\":\"da006a5a-9661-4e0e-a805-6412ae14aaa4\",\"type\":\"DataRange1d\"},{\"attributes\":{},\"id\":\"c57e219f-2290-4a36-a804-10f3606973a6\",\"type\":\"BasicTickFormatter\"},{\"attributes\":{\"days\":[1,2,3,4,5,6,7,8,9,10,11,12,13,14,15,16,17,18,19,20,21,22,23,24,25,26,27,28,29,30,31]},\"id\":\"d8456520-b733-4759-8329-cb51463023bf\",\"type\":\"DaysTicker\"},{\"attributes\":{\"below\":[{\"id\":\"d25b3ca3-905b-45d2-981e-02801bbba1e5\",\"type\":\"DatetimeAxis\"}],\"left\":[{\"id\":\"b54e55fc-7459-4c60-b154-71efd32964c4\",\"type\":\"LinearAxis\"}],\"plot_height\":300,\"plot_width\":450,\"renderers\":[{\"id\":\"d25b3ca3-905b-45d2-981e-02801bbba1e5\",\"type\":\"DatetimeAxis\"},{\"id\":\"6ed636be-f039-4d4a-b2f4-5ed41f8e532b\",\"type\":\"Grid\"},{\"id\":\"b54e55fc-7459-4c60-b154-71efd32964c4\",\"type\":\"LinearAxis\"},{\"id\":\"be3e6eda-3d66-403a-bf93-098a03dafe7f\",\"type\":\"Grid\"},{\"id\":\"34bc7bab-a894-4462-801a-3631c9f3ed26\",\"type\":\"BoxAnnotation\"},{\"id\":\"1de4da12-041d-4854-80e0-4aa0687fa3f1\",\"type\":\"GlyphRenderer\"}],\"title\":{\"id\":\"b5cc12b5-272d-49cb-8140-b5e1afcb558b\",\"type\":\"Title\"},\"toolbar\":{\"id\":\"c4313998-b7de-47ba-a01c-91c077c0e751\",\"type\":\"Toolbar\"},\"x_range\":{\"id\":\"da006a5a-9661-4e0e-a805-6412ae14aaa4\",\"type\":\"DataRange1d\"},\"x_scale\":{\"id\":\"b5cef2fb-18c2-4267-9e1e-4113d3f226c2\",\"type\":\"LinearScale\"},\"y_range\":{\"id\":\"39d2db95-25ef-4d29-897c-5e4d52508449\",\"type\":\"DataRange1d\"},\"y_scale\":{\"id\":\"2de8a42c-1b3b-4ee6-a3fe-c4b6c4f9c8d8\",\"type\":\"LinearScale\"}},\"id\":\"3deb270a-3913-4f53-bc2a-a2a560b9b878\",\"subtype\":\"Figure\",\"type\":\"Plot\"},{\"attributes\":{\"months\":[0,4,8]},\"id\":\"f5150e1c-24a3-481f-be6e-1628810f2fa2\",\"type\":\"MonthsTicker\"},{\"attributes\":{\"days\":[1,4,7,10,13,16,19,22,25,28]},\"id\":\"d8d514e0-366b-4b82-81c5-15b4735b600a\",\"type\":\"DaysTicker\"}],\"root_ids\":[\"3deb270a-3913-4f53-bc2a-a2a560b9b878\"]},\"title\":\"Bokeh Application\",\"version\":\"0.13.0\"}};\n",
       "  var render_items = [{\"docid\":\"e3fec2bc-6231-43b2-8d0b-7f9e7e86d03e\",\"roots\":{\"3deb270a-3913-4f53-bc2a-a2a560b9b878\":\"741458e9-194a-4ac6-ba38-6e00e18c49b4\"}}];\n",
       "  root.Bokeh.embed.embed_items_notebook(docs_json, render_items);\n",
       "\n",
       "  }\n",
       "  if (root.Bokeh !== undefined) {\n",
       "    embed_document(root);\n",
       "  } else {\n",
       "    var attempts = 0;\n",
       "    var timer = setInterval(function(root) {\n",
       "      if (root.Bokeh !== undefined) {\n",
       "        embed_document(root);\n",
       "        clearInterval(timer);\n",
       "      }\n",
       "      attempts++;\n",
       "      if (attempts > 100) {\n",
       "        console.log(\"Bokeh: ERROR: Unable to run BokehJS code because BokehJS library is missing\")\n",
       "        clearInterval(timer);\n",
       "      }\n",
       "    }, 10, root)\n",
       "  }\n",
       "})(window);"
      ],
      "application/vnd.bokehjs_exec.v0+json": ""
     },
     "metadata": {
      "application/vnd.bokehjs_exec.v0+json": {
       "id": "3deb270a-3913-4f53-bc2a-a2a560b9b878"
      }
     },
     "output_type": "display_data"
    },
    {
     "name": "stdout",
     "output_type": "stream",
     "text": [
      "mean1= -0.00037142879004081097 , mean2= -0.00036652968894928514\n",
      "variance1= 0.00032925936885564556 , variance2= 0.00022760408375513302\n",
      "ADF-Statistics: -5.64277806454\n",
      "P-value: 1.02744078788e-06\n",
      "Critical Values:\n",
      "1% : -3.46099220133\n",
      "5% : -2.87501574096\n",
      "10% : -2.57395242884\n"
     ]
    }
   ],
   "source": [
    "decompostion(log, 'darkgreen') #series after transformation using log"
   ]
  },
  {
   "cell_type": "code",
   "execution_count": 22,
   "metadata": {},
   "outputs": [
    {
     "data": {
      "text/html": [
       "\n",
       "\n",
       "\n",
       "\n",
       "\n",
       "\n",
       "  <div class=\"bk-root\" id=\"7805c1ff-1e7b-4ea0-a801-7a342e2d5366\"></div>\n"
      ]
     },
     "metadata": {},
     "output_type": "display_data"
    },
    {
     "data": {
      "application/javascript": [
       "(function(root) {\n",
       "  function embed_document(root) {\n",
       "    \n",
       "  var docs_json = {\"59cd2436-dc8c-4f23-857a-63a3adc89284\":{\"roots\":{\"references\":[{\"attributes\":{\"active_drag\":\"auto\",\"active_inspect\":\"auto\",\"active_multi\":null,\"active_scroll\":\"auto\",\"active_tap\":\"auto\",\"tools\":[{\"id\":\"90929b6b-c2e2-4002-ba95-e2373f41de5f\",\"type\":\"PanTool\"},{\"id\":\"fc61eaee-1f33-4de7-96e2-9b6f1798fcba\",\"type\":\"WheelZoomTool\"},{\"id\":\"61832f7e-c667-4ccf-af9c-63b25ce89aa5\",\"type\":\"BoxZoomTool\"},{\"id\":\"8556f85c-2546-4255-a486-fd0a0b656ca5\",\"type\":\"SaveTool\"},{\"id\":\"627f49b9-6e27-4c5e-836b-643025610fdc\",\"type\":\"ResetTool\"},{\"id\":\"c0f93bfc-4915-491a-ad08-7bd6ebe61974\",\"type\":\"HelpTool\"},{\"id\":\"ee1e852a-d019-45a1-a82a-f4ee12980800\",\"type\":\"HoverTool\"}]},\"id\":\"02588c33-5471-4c62-afd9-2941c0970dca\",\"type\":\"Toolbar\"},{\"attributes\":{},\"id\":\"b3ad65ed-5c3f-4a6f-8051-b168373e19cd\",\"type\":\"DatetimeTickFormatter\"},{\"attributes\":{\"bottom_units\":\"screen\",\"fill_alpha\":{\"value\":0.5},\"fill_color\":{\"value\":\"lightgrey\"},\"left_units\":\"screen\",\"level\":\"overlay\",\"line_alpha\":{\"value\":1.0},\"line_color\":{\"value\":\"black\"},\"line_dash\":[4,4],\"line_width\":{\"value\":2},\"plot\":null,\"render_mode\":\"css\",\"right_units\":\"screen\",\"top_units\":\"screen\"},\"id\":\"e6e689de-6321-4bd7-9b0c-7b42acc61bcc\",\"type\":\"BoxAnnotation\"},{\"attributes\":{\"callback\":null,\"renderers\":\"auto\"},\"id\":\"ee1e852a-d019-45a1-a82a-f4ee12980800\",\"type\":\"HoverTool\"},{\"attributes\":{\"data_source\":{\"id\":\"87f7a129-ecaa-41a0-9d08-17976c48b847\",\"type\":\"ColumnDataSource\"},\"glyph\":{\"id\":\"1e9b1c8a-c79f-48a8-8fce-ca9d58b3a8e5\",\"type\":\"Line\"},\"hover_glyph\":null,\"muted_glyph\":null,\"nonselection_glyph\":{\"id\":\"49509f37-2126-46b0-ac66-5c53241381d0\",\"type\":\"Line\"},\"selection_glyph\":null,\"view\":{\"id\":\"134d8055-085b-4b0c-8f5c-dc91df23548a\",\"type\":\"CDSView\"}},\"id\":\"e710cd9b-765a-4b19-930b-d6bbe7525961\",\"type\":\"GlyphRenderer\"},{\"attributes\":{},\"id\":\"90929b6b-c2e2-4002-ba95-e2373f41de5f\",\"type\":\"PanTool\"},{\"attributes\":{\"axis_label\":\"Residual_Value\",\"formatter\":{\"id\":\"b3ecaf0e-168d-4a5a-8866-be23d9f6472a\",\"type\":\"BasicTickFormatter\"},\"plot\":{\"id\":\"b802872d-072d-4908-a09f-f2e4d0d975fc\",\"subtype\":\"Figure\",\"type\":\"Plot\"},\"ticker\":{\"id\":\"4df4b1b6-32d2-4728-927e-c7a6973f83f6\",\"type\":\"BasicTicker\"}},\"id\":\"e823dd5c-49bb-4efa-a0ca-ce8cab34d33e\",\"type\":\"LinearAxis\"},{\"attributes\":{\"mantissas\":[1,2,5],\"max_interval\":500.0,\"num_minor_ticks\":0},\"id\":\"cbc682e6-9d77-45db-93b0-bcf29114f13a\",\"type\":\"AdaptiveTicker\"},{\"attributes\":{},\"id\":\"fc61eaee-1f33-4de7-96e2-9b6f1798fcba\",\"type\":\"WheelZoomTool\"},{\"attributes\":{\"dimension\":1,\"plot\":{\"id\":\"b802872d-072d-4908-a09f-f2e4d0d975fc\",\"subtype\":\"Figure\",\"type\":\"Plot\"},\"ticker\":{\"id\":\"4df4b1b6-32d2-4728-927e-c7a6973f83f6\",\"type\":\"BasicTicker\"}},\"id\":\"93b34ef4-cfe0-426b-8c1d-7a0331fee1c0\",\"type\":\"Grid\"},{\"attributes\":{},\"id\":\"c730aa00-b892-4aa6-be34-cb26302c7deb\",\"type\":\"LinearScale\"},{\"attributes\":{\"overlay\":{\"id\":\"e6e689de-6321-4bd7-9b0c-7b42acc61bcc\",\"type\":\"BoxAnnotation\"}},\"id\":\"61832f7e-c667-4ccf-af9c-63b25ce89aa5\",\"type\":\"BoxZoomTool\"},{\"attributes\":{},\"id\":\"8556f85c-2546-4255-a486-fd0a0b656ca5\",\"type\":\"SaveTool\"},{\"attributes\":{\"callback\":null},\"id\":\"57db472c-e208-40a7-a860-b7e6899a22cd\",\"type\":\"DataRange1d\"},{\"attributes\":{\"below\":[{\"id\":\"6f8af9f8-f1d4-40e9-a206-8394280fc1d5\",\"type\":\"DatetimeAxis\"}],\"left\":[{\"id\":\"e823dd5c-49bb-4efa-a0ca-ce8cab34d33e\",\"type\":\"LinearAxis\"}],\"plot_height\":300,\"plot_width\":450,\"renderers\":[{\"id\":\"6f8af9f8-f1d4-40e9-a206-8394280fc1d5\",\"type\":\"DatetimeAxis\"},{\"id\":\"c833d355-862f-417a-b377-d8858884fe06\",\"type\":\"Grid\"},{\"id\":\"e823dd5c-49bb-4efa-a0ca-ce8cab34d33e\",\"type\":\"LinearAxis\"},{\"id\":\"93b34ef4-cfe0-426b-8c1d-7a0331fee1c0\",\"type\":\"Grid\"},{\"id\":\"e6e689de-6321-4bd7-9b0c-7b42acc61bcc\",\"type\":\"BoxAnnotation\"},{\"id\":\"e710cd9b-765a-4b19-930b-d6bbe7525961\",\"type\":\"GlyphRenderer\"}],\"title\":{\"id\":\"2c5a0044-ac56-484e-918b-bd3c9839c81e\",\"type\":\"Title\"},\"toolbar\":{\"id\":\"02588c33-5471-4c62-afd9-2941c0970dca\",\"type\":\"Toolbar\"},\"x_range\":{\"id\":\"81cb7d63-dac6-4b94-ba31-4cc54475af24\",\"type\":\"DataRange1d\"},\"x_scale\":{\"id\":\"f4866237-07a7-4222-b35d-d296cda9d933\",\"type\":\"LinearScale\"},\"y_range\":{\"id\":\"57db472c-e208-40a7-a860-b7e6899a22cd\",\"type\":\"DataRange1d\"},\"y_scale\":{\"id\":\"c730aa00-b892-4aa6-be34-cb26302c7deb\",\"type\":\"LinearScale\"}},\"id\":\"b802872d-072d-4908-a09f-f2e4d0d975fc\",\"subtype\":\"Figure\",\"type\":\"Plot\"},{\"attributes\":{},\"id\":\"627f49b9-6e27-4c5e-836b-643025610fdc\",\"type\":\"ResetTool\"},{\"attributes\":{},\"id\":\"c0f93bfc-4915-491a-ad08-7bd6ebe61974\",\"type\":\"HelpTool\"},{\"attributes\":{\"axis_label\":\"Time\",\"formatter\":{\"id\":\"b3ad65ed-5c3f-4a6f-8051-b168373e19cd\",\"type\":\"DatetimeTickFormatter\"},\"plot\":{\"id\":\"b802872d-072d-4908-a09f-f2e4d0d975fc\",\"subtype\":\"Figure\",\"type\":\"Plot\"},\"ticker\":{\"id\":\"fab5d2ec-5cae-4913-b223-530788bccf9e\",\"type\":\"DatetimeTicker\"}},\"id\":\"6f8af9f8-f1d4-40e9-a206-8394280fc1d5\",\"type\":\"DatetimeAxis\"},{\"attributes\":{\"days\":[1,8,15,22]},\"id\":\"86a65c5f-12c2-4d12-8921-7249f0375d94\",\"type\":\"DaysTicker\"},{\"attributes\":{},\"id\":\"b3ecaf0e-168d-4a5a-8866-be23d9f6472a\",\"type\":\"BasicTickFormatter\"},{\"attributes\":{\"days\":[1,4,7,10,13,16,19,22,25,28]},\"id\":\"dc695bb5-3be3-4d17-8676-b1b9617f535d\",\"type\":\"DaysTicker\"},{\"attributes\":{\"plot\":null,\"text\":\"Residual vs Time\"},\"id\":\"2c5a0044-ac56-484e-918b-bd3c9839c81e\",\"type\":\"Title\"},{\"attributes\":{\"days\":[1,15]},\"id\":\"0a9234d3-740c-44ca-a2c0-b367bb3f4e83\",\"type\":\"DaysTicker\"},{\"attributes\":{},\"id\":\"4df4b1b6-32d2-4728-927e-c7a6973f83f6\",\"type\":\"BasicTicker\"},{\"attributes\":{\"months\":[0,1,2,3,4,5,6,7,8,9,10,11]},\"id\":\"0157a84b-f7e2-4804-9ce7-7bfdf44079c7\",\"type\":\"MonthsTicker\"},{\"attributes\":{\"months\":[0,2,4,6,8,10]},\"id\":\"07e40551-9995-493a-a964-9ca4656f9f4c\",\"type\":\"MonthsTicker\"},{\"attributes\":{\"months\":[0,4,8]},\"id\":\"2c3cc2ba-fa07-498f-9cff-cb66e42ea5e4\",\"type\":\"MonthsTicker\"},{\"attributes\":{\"months\":[0,6]},\"id\":\"9d6fb99d-17e7-45bf-bb4a-1fa607ca4d7a\",\"type\":\"MonthsTicker\"},{\"attributes\":{\"base\":60,\"mantissas\":[1,2,5,10,15,20,30],\"max_interval\":1800000.0,\"min_interval\":1000.0,\"num_minor_ticks\":0},\"id\":\"c12947c7-3a11-46d1-b77a-8a35fde8de51\",\"type\":\"AdaptiveTicker\"},{\"attributes\":{},\"id\":\"1f1d0756-0897-44e9-b393-c3d37cf82ec7\",\"type\":\"UnionRenderers\"},{\"attributes\":{\"base\":24,\"mantissas\":[1,2,4,6,8,12],\"max_interval\":43200000.0,\"min_interval\":3600000.0,\"num_minor_ticks\":0},\"id\":\"2b793e0b-81ea-4bcf-b760-9eec1d197dbf\",\"type\":\"AdaptiveTicker\"},{\"attributes\":{\"days\":[1,2,3,4,5,6,7,8,9,10,11,12,13,14,15,16,17,18,19,20,21,22,23,24,25,26,27,28,29,30,31]},\"id\":\"aa4645a1-bc85-4b56-a8ec-98a4941a7408\",\"type\":\"DaysTicker\"},{\"attributes\":{},\"id\":\"2e717ec1-23f5-4aa3-9748-d2096933113c\",\"type\":\"YearsTicker\"},{\"attributes\":{},\"id\":\"cd4511ba-60d8-46c9-b757-d5b3ae3bd66c\",\"type\":\"Selection\"},{\"attributes\":{\"callback\":null,\"data\":{\"x\":{\"__ndarray__\":\"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\",\"dtype\":\"float64\",\"shape\":[250]},\"y\":{\"__ndarray__\":\"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\",\"dtype\":\"float64\",\"shape\":[250]}},\"selected\":{\"id\":\"cd4511ba-60d8-46c9-b757-d5b3ae3bd66c\",\"type\":\"Selection\"},\"selection_policy\":{\"id\":\"1f1d0756-0897-44e9-b393-c3d37cf82ec7\",\"type\":\"UnionRenderers\"}},\"id\":\"87f7a129-ecaa-41a0-9d08-17976c48b847\",\"type\":\"ColumnDataSource\"},{\"attributes\":{},\"id\":\"f4866237-07a7-4222-b35d-d296cda9d933\",\"type\":\"LinearScale\"},{\"attributes\":{\"line_color\":\"darkviolet\",\"line_width\":2,\"x\":{\"field\":\"x\"},\"y\":{\"field\":\"y\"}},\"id\":\"1e9b1c8a-c79f-48a8-8fce-ca9d58b3a8e5\",\"type\":\"Line\"},{\"attributes\":{\"line_alpha\":0.1,\"line_color\":\"#1f77b4\",\"line_width\":2,\"x\":{\"field\":\"x\"},\"y\":{\"field\":\"y\"}},\"id\":\"49509f37-2126-46b0-ac66-5c53241381d0\",\"type\":\"Line\"},{\"attributes\":{\"num_minor_ticks\":5,\"tickers\":[{\"id\":\"cbc682e6-9d77-45db-93b0-bcf29114f13a\",\"type\":\"AdaptiveTicker\"},{\"id\":\"c12947c7-3a11-46d1-b77a-8a35fde8de51\",\"type\":\"AdaptiveTicker\"},{\"id\":\"2b793e0b-81ea-4bcf-b760-9eec1d197dbf\",\"type\":\"AdaptiveTicker\"},{\"id\":\"aa4645a1-bc85-4b56-a8ec-98a4941a7408\",\"type\":\"DaysTicker\"},{\"id\":\"dc695bb5-3be3-4d17-8676-b1b9617f535d\",\"type\":\"DaysTicker\"},{\"id\":\"86a65c5f-12c2-4d12-8921-7249f0375d94\",\"type\":\"DaysTicker\"},{\"id\":\"0a9234d3-740c-44ca-a2c0-b367bb3f4e83\",\"type\":\"DaysTicker\"},{\"id\":\"0157a84b-f7e2-4804-9ce7-7bfdf44079c7\",\"type\":\"MonthsTicker\"},{\"id\":\"07e40551-9995-493a-a964-9ca4656f9f4c\",\"type\":\"MonthsTicker\"},{\"id\":\"2c3cc2ba-fa07-498f-9cff-cb66e42ea5e4\",\"type\":\"MonthsTicker\"},{\"id\":\"9d6fb99d-17e7-45bf-bb4a-1fa607ca4d7a\",\"type\":\"MonthsTicker\"},{\"id\":\"2e717ec1-23f5-4aa3-9748-d2096933113c\",\"type\":\"YearsTicker\"}]},\"id\":\"fab5d2ec-5cae-4913-b223-530788bccf9e\",\"type\":\"DatetimeTicker\"},{\"attributes\":{\"source\":{\"id\":\"87f7a129-ecaa-41a0-9d08-17976c48b847\",\"type\":\"ColumnDataSource\"}},\"id\":\"134d8055-085b-4b0c-8f5c-dc91df23548a\",\"type\":\"CDSView\"},{\"attributes\":{\"plot\":{\"id\":\"b802872d-072d-4908-a09f-f2e4d0d975fc\",\"subtype\":\"Figure\",\"type\":\"Plot\"},\"ticker\":{\"id\":\"fab5d2ec-5cae-4913-b223-530788bccf9e\",\"type\":\"DatetimeTicker\"}},\"id\":\"c833d355-862f-417a-b377-d8858884fe06\",\"type\":\"Grid\"},{\"attributes\":{\"callback\":null},\"id\":\"81cb7d63-dac6-4b94-ba31-4cc54475af24\",\"type\":\"DataRange1d\"}],\"root_ids\":[\"b802872d-072d-4908-a09f-f2e4d0d975fc\"]},\"title\":\"Bokeh Application\",\"version\":\"0.13.0\"}};\n",
       "  var render_items = [{\"docid\":\"59cd2436-dc8c-4f23-857a-63a3adc89284\",\"roots\":{\"b802872d-072d-4908-a09f-f2e4d0d975fc\":\"7805c1ff-1e7b-4ea0-a801-7a342e2d5366\"}}];\n",
       "  root.Bokeh.embed.embed_items_notebook(docs_json, render_items);\n",
       "\n",
       "  }\n",
       "  if (root.Bokeh !== undefined) {\n",
       "    embed_document(root);\n",
       "  } else {\n",
       "    var attempts = 0;\n",
       "    var timer = setInterval(function(root) {\n",
       "      if (root.Bokeh !== undefined) {\n",
       "        embed_document(root);\n",
       "        clearInterval(timer);\n",
       "      }\n",
       "      attempts++;\n",
       "      if (attempts > 100) {\n",
       "        console.log(\"Bokeh: ERROR: Unable to run BokehJS code because BokehJS library is missing\")\n",
       "        clearInterval(timer);\n",
       "      }\n",
       "    }, 10, root)\n",
       "  }\n",
       "})(window);"
      ],
      "application/vnd.bokehjs_exec.v0+json": ""
     },
     "metadata": {
      "application/vnd.bokehjs_exec.v0+json": {
       "id": "b802872d-072d-4908-a09f-f2e4d0d975fc"
      }
     },
     "output_type": "display_data"
    },
    {
     "name": "stdout",
     "output_type": "stream",
     "text": [
      "mean1= 0.00035648085478681756 , mean2= -9.439079307640481e-05\n",
      "variance1= 0.0002229968370318486 , variance2= 0.0001316474510045737\n",
      "ADF-Statistics: -10.237360024\n",
      "P-value: 4.84969860685e-18\n",
      "Critical Values:\n",
      "1% : -3.46099220133\n",
      "5% : -2.87501574096\n",
      "10% : -2.57395242884\n"
     ]
    }
   ],
   "source": [
    "decompostion(log_diff1, 'darkviolet') #series after transformation using log with one_level_diff"
   ]
  },
  {
   "cell_type": "markdown",
   "metadata": {},
   "source": [
    "### Conclusion of Decomposition: logarithmic series(2nd model) works best if we model season and trend seperately"
   ]
  },
  {
   "cell_type": "markdown",
   "metadata": {},
   "source": [
    "## Building a model to forecast the time series "
   ]
  },
  {
   "cell_type": "code",
   "execution_count": 23,
   "metadata": {},
   "outputs": [
    {
     "data": {
      "image/png": "[encoded data removed]",
      "text/plain": [
       "<matplotlib.figure.Figure at 0x1c107c1f28>"
      ]
     },
     "metadata": {},
     "output_type": "display_data"
    },
    {
     "data": {
      "image/png": "[encoded data removed]",
      "text/plain": [
       "<matplotlib.figure.Figure at 0x1c107c1c88>"
      ]
     },
     "metadata": {},
     "output_type": "display_data"
    }
   ],
   "source": [
    "data_acf_1 = plot_acf(log_diff1, lags = 100)\n",
    "data_acf_2 = plot_pacf(log_diff1, lags = 100)"
   ]
  },
  {
   "cell_type": "markdown",
   "metadata": {},
   "source": [
    "#### By these plots we find AR value should be 1, differencing level is 1 and MA value should also be 1"
   ]
  },
  {
   "cell_type": "markdown",
   "metadata": {},
   "source": [
    "### AR Model"
   ]
  },
  {
   "cell_type": "code",
   "execution_count": 24,
   "metadata": {},
   "outputs": [
    {
     "name": "stderr",
     "output_type": "stream",
     "text": [
      "/Users/sparshgarg/anaconda3/python/anaconda3/lib/python3.6/site-packages/statsmodels/base/model.py:496: ConvergenceWarning: Maximum Likelihood optimization failed to converge. Check mle_retvals\n",
      "  \"Check mle_retvals\", ConvergenceWarning)\n"
     ]
    },
    {
     "data": {
      "text/html": [
       "\n",
       "\n",
       "\n",
       "\n",
       "\n",
       "\n",
       "  <div class=\"bk-root\" id=\"bab17e2c-8274-4567-a882-29c50ac24194\"></div>\n"
      ]
     },
     "metadata": {},
     "output_type": "display_data"
    },
    {
     "data": {
      "application/javascript": [
       "(function(root) {\n",
       "  function embed_document(root) {\n",
       "    \n",
       "  var docs_json = {\"47560e7d-5ae9-465f-9681-390f34b6afb7\":{\"roots\":{\"references\":[{\"attributes\":{\"days\":[1,8,15,22]},\"id\":\"f69b408b-b15a-4e2c-ab96-8ef8ed01c06a\",\"type\":\"DaysTicker\"},{\"attributes\":{\"line_alpha\":0.1,\"line_color\":\"#1f77b4\",\"line_width\":2,\"x\":{\"field\":\"x\"},\"y\":{\"field\":\"y\"}},\"id\":\"bee1054c-ca95-42d6-ac1c-40146dd26fdf\",\"type\":\"Line\"},{\"attributes\":{\"days\":[1,15]},\"id\":\"611dcb85-53ce-49d8-9512-e74acaf0c722\",\"type\":\"DaysTicker\"},{\"attributes\":{\"plot\":null,\"text\":\"AR_Model\"},\"id\":\"f1074891-3474-4a26-b360-cbcb2f1eede9\",\"type\":\"Title\"},{\"attributes\":{\"months\":[0,2,4,6,8,10]},\"id\":\"badc2355-eddd-4141-a0b8-11fef68b4432\",\"type\":\"MonthsTicker\"},{\"attributes\":{},\"id\":\"0dd4a0f2-17ac-4db6-af7b-0115dea99270\",\"type\":\"WheelZoomTool\"},{\"attributes\":{},\"id\":\"69bbdcc7-f9e4-43f8-a3db-f3ba0f1ac8be\",\"type\":\"Selection\"},{\"attributes\":{},\"id\":\"ab096a59-f901-441b-ba2c-8ca2f8145004\",\"type\":\"BasicTicker\"},{\"attributes\":{\"below\":[{\"id\":\"83349322-c935-46f1-bed5-911d42be928e\",\"type\":\"DatetimeAxis\"}],\"left\":[{\"id\":\"43b352c3-1839-4b99-a365-cea0a2b41797\",\"type\":\"LinearAxis\"}],\"plot_width\":900,\"renderers\":[{\"id\":\"83349322-c935-46f1-bed5-911d42be928e\",\"type\":\"DatetimeAxis\"},{\"id\":\"45f509a5-d310-4ebe-b3d3-7099ba956731\",\"type\":\"Grid\"},{\"id\":\"43b352c3-1839-4b99-a365-cea0a2b41797\",\"type\":\"LinearAxis\"},{\"id\":\"c1391eac-ec4a-4a02-a787-47fb09f5ca72\",\"type\":\"Grid\"},{\"id\":\"73edaa89-ea7c-4ee8-bde7-d5ecaf4aa9e7\",\"type\":\"BoxAnnotation\"},{\"id\":\"29f803fc-3139-4ba7-8c79-f41327b2a6ed\",\"type\":\"Legend\"},{\"id\":\"0d383486-3013-49a6-b3f4-46c02c276192\",\"type\":\"GlyphRenderer\"},{\"id\":\"aa78c2b4-02bd-48df-bdb1-39ed3ee5e12b\",\"type\":\"GlyphRenderer\"}],\"title\":{\"id\":\"f1074891-3474-4a26-b360-cbcb2f1eede9\",\"type\":\"Title\"},\"toolbar\":{\"id\":\"572cc0d4-37d5-4aab-a99a-b6343380faea\",\"type\":\"Toolbar\"},\"x_range\":{\"id\":\"3cc8600c-8603-42d9-94f6-f051294caaa8\",\"type\":\"DataRange1d\"},\"x_scale\":{\"id\":\"cba5da04-67b6-450e-89c4-ad1831c70003\",\"type\":\"LinearScale\"},\"y_range\":{\"id\":\"bb6538ba-5899-4b4c-b443-05dd02da9ef9\",\"type\":\"DataRange1d\"},\"y_scale\":{\"id\":\"4ea3716f-ec29-4db0-8cd4-2bba97cdc212\",\"type\":\"LinearScale\"}},\"id\":\"c934b59a-7f3c-49ca-a20c-0bd36855fcab\",\"subtype\":\"Figure\",\"type\":\"Plot\"},{\"attributes\":{\"line_color\":\"orange\",\"line_width\":2,\"x\":{\"field\":\"x\"},\"y\":{\"field\":\"y\"}},\"id\":\"0e5f632a-d770-426a-ba0f-731fdab3a985\",\"type\":\"Line\"},{\"attributes\":{\"months\":[0,1,2,3,4,5,6,7,8,9,10,11]},\"id\":\"45a82b03-8192-4f50-9d0a-f04ccc91e2c4\",\"type\":\"MonthsTicker\"},{\"attributes\":{\"data_source\":{\"id\":\"f29ff97b-c001-49bc-a329-fde1292fceca\",\"type\":\"ColumnDataSource\"},\"glyph\":{\"id\":\"0e5f632a-d770-426a-ba0f-731fdab3a985\",\"type\":\"Line\"},\"hover_glyph\":null,\"muted_glyph\":null,\"nonselection_glyph\":{\"id\":\"f3c997e9-c06a-41de-b52a-9acc8c9de387\",\"type\":\"Line\"},\"selection_glyph\":null,\"view\":{\"id\":\"5f5d0cbc-74c9-49ed-831c-3480e74a6f53\",\"type\":\"CDSView\"}},\"id\":\"aa78c2b4-02bd-48df-bdb1-39ed3ee5e12b\",\"type\":\"GlyphRenderer\"},{\"attributes\":{\"label\":{\"value\":\"Expected\"},\"renderers\":[{\"id\":\"aa78c2b4-02bd-48df-bdb1-39ed3ee5e12b\",\"type\":\"GlyphRenderer\"}]},\"id\":\"3f5ed56a-5136-404e-99a1-f82b52c442f8\",\"type\":\"LegendItem\"},{\"attributes\":{\"items\":[{\"id\":\"96897668-2ac6-4501-bd3a-62e90c1ed1bb\",\"type\":\"LegendItem\"},{\"id\":\"3f5ed56a-5136-404e-99a1-f82b52c442f8\",\"type\":\"LegendItem\"}],\"location\":\"bottom_left\",\"plot\":{\"id\":\"c934b59a-7f3c-49ca-a20c-0bd36855fcab\",\"subtype\":\"Figure\",\"type\":\"Plot\"}},\"id\":\"29f803fc-3139-4ba7-8c79-f41327b2a6ed\",\"type\":\"Legend\"},{\"attributes\":{\"num_minor_ticks\":5,\"tickers\":[{\"id\":\"49f11969-7608-43bc-b9db-79bf5d78612c\",\"type\":\"AdaptiveTicker\"},{\"id\":\"63bee967-6556-485f-9785-af626ad176cc\",\"type\":\"AdaptiveTicker\"},{\"id\":\"7473f31b-88eb-46a0-9d56-278dd93471ab\",\"type\":\"AdaptiveTicker\"},{\"id\":\"5ec50d0a-810a-4c50-91fa-e65dc7e27bc6\",\"type\":\"DaysTicker\"},{\"id\":\"1ebc7a6d-c9f1-44fe-b5f1-89ca6e6425d8\",\"type\":\"DaysTicker\"},{\"id\":\"f69b408b-b15a-4e2c-ab96-8ef8ed01c06a\",\"type\":\"DaysTicker\"},{\"id\":\"611dcb85-53ce-49d8-9512-e74acaf0c722\",\"type\":\"DaysTicker\"},{\"id\":\"45a82b03-8192-4f50-9d0a-f04ccc91e2c4\",\"type\":\"MonthsTicker\"},{\"id\":\"badc2355-eddd-4141-a0b8-11fef68b4432\",\"type\":\"MonthsTicker\"},{\"id\":\"8253778c-985c-4ccf-a960-1b5afb7e76b7\",\"type\":\"MonthsTicker\"},{\"id\":\"fd6cebd2-18c1-4b1c-ac3f-8b5d19e90956\",\"type\":\"MonthsTicker\"},{\"id\":\"c92c2abc-a411-499d-9676-2df51fbb2cb2\",\"type\":\"YearsTicker\"}]},\"id\":\"810f3afc-1921-421d-9c57-71d6b4962535\",\"type\":\"DatetimeTicker\"},{\"attributes\":{\"label\":{\"value\":\"Actual\"},\"renderers\":[{\"id\":\"0d383486-3013-49a6-b3f4-46c02c276192\",\"type\":\"GlyphRenderer\"}]},\"id\":\"96897668-2ac6-4501-bd3a-62e90c1ed1bb\",\"type\":\"LegendItem\"},{\"attributes\":{\"months\":[0,4,8]},\"id\":\"8253778c-985c-4ccf-a960-1b5afb7e76b7\",\"type\":\"MonthsTicker\"},{\"attributes\":{\"callback\":null,\"renderers\":\"auto\"},\"id\":\"acc56f31-9fe7-47d9-a2d6-727aae8c588e\",\"type\":\"HoverTool\"},{\"attributes\":{},\"id\":\"73652dc9-8110-4ab8-9c93-6412fc18d6cd\",\"type\":\"Selection\"},{\"attributes\":{},\"id\":\"223f2c80-64b4-4d47-bdc7-e2b3176e9400\",\"type\":\"PanTool\"},{\"attributes\":{},\"id\":\"c66fe888-6a99-42c5-b7a8-b7e6046070e3\",\"type\":\"DatetimeTickFormatter\"},{\"attributes\":{},\"id\":\"4f7465a9-2d31-4e36-9359-b2317b656378\",\"type\":\"ResetTool\"},{\"attributes\":{\"callback\":null},\"id\":\"3cc8600c-8603-42d9-94f6-f051294caaa8\",\"type\":\"DataRange1d\"},{\"attributes\":{\"source\":{\"id\":\"93a20f13-4957-4e07-af51-2a0872d1098f\",\"type\":\"ColumnDataSource\"}},\"id\":\"929ecf53-5bb8-4151-a6c0-dfe3aac0f8f0\",\"type\":\"CDSView\"},{\"attributes\":{\"data_source\":{\"id\":\"93a20f13-4957-4e07-af51-2a0872d1098f\",\"type\":\"ColumnDataSource\"},\"glyph\":{\"id\":\"1a69e6cb-035d-43ff-b3c8-277f702a61ee\",\"type\":\"Line\"},\"hover_glyph\":null,\"muted_glyph\":null,\"nonselection_glyph\":{\"id\":\"bee1054c-ca95-42d6-ac1c-40146dd26fdf\",\"type\":\"Line\"},\"selection_glyph\":null,\"view\":{\"id\":\"929ecf53-5bb8-4151-a6c0-dfe3aac0f8f0\",\"type\":\"CDSView\"}},\"id\":\"0d383486-3013-49a6-b3f4-46c02c276192\",\"type\":\"GlyphRenderer\"},{\"attributes\":{\"bottom_units\":\"screen\",\"fill_alpha\":{\"value\":0.5},\"fill_color\":{\"value\":\"lightgrey\"},\"left_units\":\"screen\",\"level\":\"overlay\",\"line_alpha\":{\"value\":1.0},\"line_color\":{\"value\":\"black\"},\"line_dash\":[4,4],\"line_width\":{\"value\":2},\"plot\":null,\"render_mode\":\"css\",\"right_units\":\"screen\",\"top_units\":\"screen\"},\"id\":\"73edaa89-ea7c-4ee8-bde7-d5ecaf4aa9e7\",\"type\":\"BoxAnnotation\"},{\"attributes\":{\"dimension\":1,\"plot\":{\"id\":\"c934b59a-7f3c-49ca-a20c-0bd36855fcab\",\"subtype\":\"Figure\",\"type\":\"Plot\"},\"ticker\":{\"id\":\"ab096a59-f901-441b-ba2c-8ca2f8145004\",\"type\":\"BasicTicker\"}},\"id\":\"c1391eac-ec4a-4a02-a787-47fb09f5ca72\",\"type\":\"Grid\"},{\"attributes\":{},\"id\":\"c92c2abc-a411-499d-9676-2df51fbb2cb2\",\"type\":\"YearsTicker\"},{\"attributes\":{\"base\":24,\"mantissas\":[1,2,4,6,8,12],\"max_interval\":43200000.0,\"min_interval\":3600000.0,\"num_minor_ticks\":0},\"id\":\"7473f31b-88eb-46a0-9d56-278dd93471ab\",\"type\":\"AdaptiveTicker\"},{\"attributes\":{\"callback\":null},\"id\":\"bb6538ba-5899-4b4c-b443-05dd02da9ef9\",\"type\":\"DataRange1d\"},{\"attributes\":{},\"id\":\"4ea3716f-ec29-4db0-8cd4-2bba97cdc212\",\"type\":\"LinearScale\"},{\"attributes\":{\"axis_label\":\"Time\",\"formatter\":{\"id\":\"c66fe888-6a99-42c5-b7a8-b7e6046070e3\",\"type\":\"DatetimeTickFormatter\"},\"plot\":{\"id\":\"c934b59a-7f3c-49ca-a20c-0bd36855fcab\",\"subtype\":\"Figure\",\"type\":\"Plot\"},\"ticker\":{\"id\":\"810f3afc-1921-421d-9c57-71d6b4962535\",\"type\":\"DatetimeTicker\"}},\"id\":\"83349322-c935-46f1-bed5-911d42be928e\",\"type\":\"DatetimeAxis\"},{\"attributes\":{},\"id\":\"cba5da04-67b6-450e-89c4-ad1831c70003\",\"type\":\"LinearScale\"},{\"attributes\":{\"active_drag\":\"auto\",\"active_inspect\":\"auto\",\"active_multi\":null,\"active_scroll\":\"auto\",\"active_tap\":\"auto\",\"tools\":[{\"id\":\"223f2c80-64b4-4d47-bdc7-e2b3176e9400\",\"type\":\"PanTool\"},{\"id\":\"0dd4a0f2-17ac-4db6-af7b-0115dea99270\",\"type\":\"WheelZoomTool\"},{\"id\":\"42312052-099b-408f-bf76-c45f11329c85\",\"type\":\"BoxZoomTool\"},{\"id\":\"efcdf4d6-82b1-4859-bc01-322152199af4\",\"type\":\"SaveTool\"},{\"id\":\"4f7465a9-2d31-4e36-9359-b2317b656378\",\"type\":\"ResetTool\"},{\"id\":\"950064a5-0d14-434a-b913-a42741725a9f\",\"type\":\"HelpTool\"},{\"id\":\"acc56f31-9fe7-47d9-a2d6-727aae8c588e\",\"type\":\"HoverTool\"}]},\"id\":\"572cc0d4-37d5-4aab-a99a-b6343380faea\",\"type\":\"Toolbar\"},{\"attributes\":{\"plot\":{\"id\":\"c934b59a-7f3c-49ca-a20c-0bd36855fcab\",\"subtype\":\"Figure\",\"type\":\"Plot\"},\"ticker\":{\"id\":\"810f3afc-1921-421d-9c57-71d6b4962535\",\"type\":\"DatetimeTicker\"}},\"id\":\"45f509a5-d310-4ebe-b3d3-7099ba956731\",\"type\":\"Grid\"},{\"attributes\":{},\"id\":\"efcdf4d6-82b1-4859-bc01-322152199af4\",\"type\":\"SaveTool\"},{\"attributes\":{\"mantissas\":[1,2,5],\"max_interval\":500.0,\"num_minor_ticks\":0},\"id\":\"49f11969-7608-43bc-b9db-79bf5d78612c\",\"type\":\"AdaptiveTicker\"},{\"attributes\":{\"line_color\":\"green\",\"line_width\":2,\"x\":{\"field\":\"x\"},\"y\":{\"field\":\"y\"}},\"id\":\"1a69e6cb-035d-43ff-b3c8-277f702a61ee\",\"type\":\"Line\"},{\"attributes\":{\"days\":[1,4,7,10,13,16,19,22,25,28]},\"id\":\"1ebc7a6d-c9f1-44fe-b5f1-89ca6e6425d8\",\"type\":\"DaysTicker\"},{\"attributes\":{\"callback\":null,\"data\":{\"x\":{\"__ndarray__\":\"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\",\"dtype\":\"float64\",\"shape\":[250]},\"y\":{\"__ndarray__\":\"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\",\"dtype\":\"float64\",\"shape\":[250]}},\"selected\":{\"id\":\"69bbdcc7-f9e4-43f8-a3db-f3ba0f1ac8be\",\"type\":\"Selection\"},\"selection_policy\":{\"id\":\"b4a977d0-eb49-44d6-9d44-4291e6784c84\",\"type\":\"UnionRenderers\"}},\"id\":\"93a20f13-4957-4e07-af51-2a0872d1098f\",\"type\":\"ColumnDataSource\"},{\"attributes\":{\"months\":[0,6]},\"id\":\"fd6cebd2-18c1-4b1c-ac3f-8b5d19e90956\",\"type\":\"MonthsTicker\"},{\"attributes\":{\"overlay\":{\"id\":\"73edaa89-ea7c-4ee8-bde7-d5ecaf4aa9e7\",\"type\":\"BoxAnnotation\"}},\"id\":\"42312052-099b-408f-bf76-c45f11329c85\",\"type\":\"BoxZoomTool\"},{\"attributes\":{},\"id\":\"950064a5-0d14-434a-b913-a42741725a9f\",\"type\":\"HelpTool\"},{\"attributes\":{\"source\":{\"id\":\"f29ff97b-c001-49bc-a329-fde1292fceca\",\"type\":\"ColumnDataSource\"}},\"id\":\"5f5d0cbc-74c9-49ed-831c-3480e74a6f53\",\"type\":\"CDSView\"},{\"attributes\":{\"line_alpha\":0.1,\"line_color\":\"#1f77b4\",\"line_width\":2,\"x\":{\"field\":\"x\"},\"y\":{\"field\":\"y\"}},\"id\":\"f3c997e9-c06a-41de-b52a-9acc8c9de387\",\"type\":\"Line\"},{\"attributes\":{\"days\":[1,2,3,4,5,6,7,8,9,10,11,12,13,14,15,16,17,18,19,20,21,22,23,24,25,26,27,28,29,30,31]},\"id\":\"5ec50d0a-810a-4c50-91fa-e65dc7e27bc6\",\"type\":\"DaysTicker\"},{\"attributes\":{\"base\":60,\"mantissas\":[1,2,5,10,15,20,30],\"max_interval\":1800000.0,\"min_interval\":1000.0,\"num_minor_ticks\":0},\"id\":\"63bee967-6556-485f-9785-af626ad176cc\",\"type\":\"AdaptiveTicker\"},{\"attributes\":{},\"id\":\"e0add93d-d71f-456d-8bde-450bb4d9f274\",\"type\":\"UnionRenderers\"},{\"attributes\":{},\"id\":\"34bb5de0-c607-488d-9f9a-b8db72c17f78\",\"type\":\"BasicTickFormatter\"},{\"attributes\":{\"callback\":null,\"data\":{\"x\":{\"__ndarray__\":\"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\",\"dtype\":\"float64\",\"shape\":[250]},\"y\":{\"__ndarray__\":\"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\",\"dtype\":\"float64\",\"shape\":[250]}},\"selected\":{\"id\":\"73652dc9-8110-4ab8-9c93-6412fc18d6cd\",\"type\":\"Selection\"},\"selection_policy\":{\"id\":\"e0add93d-d71f-456d-8bde-450bb4d9f274\",\"type\":\"UnionRenderers\"}},\"id\":\"f29ff97b-c001-49bc-a329-fde1292fceca\",\"type\":\"ColumnDataSource\"},{\"attributes\":{},\"id\":\"b4a977d0-eb49-44d6-9d44-4291e6784c84\",\"type\":\"UnionRenderers\"},{\"attributes\":{\"axis_label\":\"Actual & Expectation\",\"formatter\":{\"id\":\"34bb5de0-c607-488d-9f9a-b8db72c17f78\",\"type\":\"BasicTickFormatter\"},\"plot\":{\"id\":\"c934b59a-7f3c-49ca-a20c-0bd36855fcab\",\"subtype\":\"Figure\",\"type\":\"Plot\"},\"ticker\":{\"id\":\"ab096a59-f901-441b-ba2c-8ca2f8145004\",\"type\":\"BasicTicker\"}},\"id\":\"43b352c3-1839-4b99-a365-cea0a2b41797\",\"type\":\"LinearAxis\"}],\"root_ids\":[\"c934b59a-7f3c-49ca-a20c-0bd36855fcab\"]},\"title\":\"Bokeh Application\",\"version\":\"0.13.0\"}};\n",
       "  var render_items = [{\"docid\":\"47560e7d-5ae9-465f-9681-390f34b6afb7\",\"roots\":{\"c934b59a-7f3c-49ca-a20c-0bd36855fcab\":\"bab17e2c-8274-4567-a882-29c50ac24194\"}}];\n",
       "  root.Bokeh.embed.embed_items_notebook(docs_json, render_items);\n",
       "\n",
       "  }\n",
       "  if (root.Bokeh !== undefined) {\n",
       "    embed_document(root);\n",
       "  } else {\n",
       "    var attempts = 0;\n",
       "    var timer = setInterval(function(root) {\n",
       "      if (root.Bokeh !== undefined) {\n",
       "        embed_document(root);\n",
       "        clearInterval(timer);\n",
       "      }\n",
       "      attempts++;\n",
       "      if (attempts > 100) {\n",
       "        console.log(\"Bokeh: ERROR: Unable to run BokehJS code because BokehJS library is missing\")\n",
       "        clearInterval(timer);\n",
       "      }\n",
       "    }, 10, root)\n",
       "  }\n",
       "})(window);"
      ],
      "application/vnd.bokehjs_exec.v0+json": ""
     },
     "metadata": {
      "application/vnd.bokehjs_exec.v0+json": {
       "id": "c934b59a-7f3c-49ca-a20c-0bd36855fcab"
      }
     },
     "output_type": "display_data"
    }
   ],
   "source": [
    "model = ARIMA(log, order=(9, 1, 0))  \n",
    "results_AR = model.fit(disp=-1)  \n",
    "double_plotting_curve('AR_Model', 'Actual & Expectation', log_diff1.index, log_diff1, 'green',\n",
    "                      log_diff1.index, results_AR.fittedvalues, 'orange')"
   ]
  },
  {
   "cell_type": "markdown",
   "metadata": {},
   "source": [
    "### RA Model"
   ]
  },
  {
   "cell_type": "code",
   "execution_count": 25,
   "metadata": {},
   "outputs": [
    {
     "data": {
      "text/html": [
       "\n",
       "\n",
       "\n",
       "\n",
       "\n",
       "\n",
       "  <div class=\"bk-root\" id=\"0c8fc08a-e521-4416-bb26-b40a0d0fabd0\"></div>\n"
      ]
     },
     "metadata": {},
     "output_type": "display_data"
    },
    {
     "data": {
      "application/javascript": [
       "(function(root) {\n",
       "  function embed_document(root) {\n",
       "    \n",
       "  var docs_json = {\"84aa9b3c-09a8-43dd-b87f-824bbc061976\":{\"roots\":{\"references\":[{\"attributes\":{},\"id\":\"1ae4028f-9dd6-4fc2-91ee-3e3772089682\",\"type\":\"LinearScale\"},{\"attributes\":{\"active_drag\":\"auto\",\"active_inspect\":\"auto\",\"active_multi\":null,\"active_scroll\":\"auto\",\"active_tap\":\"auto\",\"tools\":[{\"id\":\"50e264fc-8d52-4444-ab0d-6533f732326c\",\"type\":\"PanTool\"},{\"id\":\"ed2b6dc9-4ac4-491c-b227-71ec17501c8e\",\"type\":\"WheelZoomTool\"},{\"id\":\"ce65508d-688e-427e-83f7-b62079463bcd\",\"type\":\"BoxZoomTool\"},{\"id\":\"8d7a47c4-e370-4608-ad32-2a71b812a9ca\",\"type\":\"SaveTool\"},{\"id\":\"c87475a4-148f-42d8-a890-a5c9b3c1a484\",\"type\":\"ResetTool\"},{\"id\":\"ef28d8ac-87ff-475c-906e-262069dce793\",\"type\":\"HelpTool\"},{\"id\":\"90a61341-00bb-44a0-9431-9071606aec12\",\"type\":\"HoverTool\"}]},\"id\":\"25d50dc1-242a-47b4-8489-b64626880946\",\"type\":\"Toolbar\"},{\"attributes\":{\"overlay\":{\"id\":\"1c6d7aee-9f65-47bb-b89c-a5b0b975508e\",\"type\":\"BoxAnnotation\"}},\"id\":\"ce65508d-688e-427e-83f7-b62079463bcd\",\"type\":\"BoxZoomTool\"},{\"attributes\":{\"data_source\":{\"id\":\"d80d473a-8fd6-4e34-a59d-8ed0c052848e\",\"type\":\"ColumnDataSource\"},\"glyph\":{\"id\":\"492bd650-6b79-4c58-ac0f-3f3ea5f23d1c\",\"type\":\"Line\"},\"hover_glyph\":null,\"muted_glyph\":null,\"nonselection_glyph\":{\"id\":\"c3eecad3-567b-4bb2-bf0d-54988ad8a631\",\"type\":\"Line\"},\"selection_glyph\":null,\"view\":{\"id\":\"d223dad5-c740-4c9b-b18d-22551c08de11\",\"type\":\"CDSView\"}},\"id\":\"cb9fff63-d8f4-46ac-a884-907547ae248e\",\"type\":\"GlyphRenderer\"},{\"attributes\":{\"line_alpha\":0.1,\"line_color\":\"#1f77b4\",\"line_width\":2,\"x\":{\"field\":\"x\"},\"y\":{\"field\":\"y\"}},\"id\":\"8ebd74b1-7b94-40c1-a4fd-6545f68ba237\",\"type\":\"Line\"},{\"attributes\":{},\"id\":\"6a9d3725-5c9d-4356-bbde-0bd303059080\",\"type\":\"LinearScale\"},{\"attributes\":{},\"id\":\"c87475a4-148f-42d8-a890-a5c9b3c1a484\",\"type\":\"ResetTool\"},{\"attributes\":{\"line_color\":\"red\",\"line_width\":2,\"x\":{\"field\":\"x\"},\"y\":{\"field\":\"y\"}},\"id\":\"48ca8847-a888-4bf4-bc1a-30fce39c86af\",\"type\":\"Line\"},{\"attributes\":{\"source\":{\"id\":\"d80d473a-8fd6-4e34-a59d-8ed0c052848e\",\"type\":\"ColumnDataSource\"}},\"id\":\"d223dad5-c740-4c9b-b18d-22551c08de11\",\"type\":\"CDSView\"},{\"attributes\":{\"callback\":null},\"id\":\"cca8718a-fe8a-4546-bc69-bec08f3ac394\",\"type\":\"DataRange1d\"},{\"attributes\":{},\"id\":\"157e622f-7b89-43eb-bc4b-6f44f7c5c541\",\"type\":\"DatetimeTickFormatter\"},{\"attributes\":{},\"id\":\"b0cd4a32-eee6-4396-a0cd-cddb056dc91a\",\"type\":\"UnionRenderers\"},{\"attributes\":{\"plot\":null,\"text\":\"RA_Model\"},\"id\":\"23bc8716-7184-4adb-9399-85b1ddfe66b6\",\"type\":\"Title\"},{\"attributes\":{\"days\":[1,2,3,4,5,6,7,8,9,10,11,12,13,14,15,16,17,18,19,20,21,22,23,24,25,26,27,28,29,30,31]},\"id\":\"9d2888a3-50ff-49e3-b013-0971077b5696\",\"type\":\"DaysTicker\"},{\"attributes\":{\"callback\":null,\"renderers\":\"auto\"},\"id\":\"90a61341-00bb-44a0-9431-9071606aec12\",\"type\":\"HoverTool\"},{\"attributes\":{\"source\":{\"id\":\"b7bdd205-6861-4252-a6a4-55fc217e6aa0\",\"type\":\"ColumnDataSource\"}},\"id\":\"17fcf4eb-956b-4ecf-9494-2689fbf1f854\",\"type\":\"CDSView\"},{\"attributes\":{\"base\":24,\"mantissas\":[1,2,4,6,8,12],\"max_interval\":43200000.0,\"min_interval\":3600000.0,\"num_minor_ticks\":0},\"id\":\"192a3fdd-fbd4-4f89-98ca-61c895275e6d\",\"type\":\"AdaptiveTicker\"},{\"attributes\":{\"callback\":null},\"id\":\"1b9355d8-5616-4a16-8ce8-69cfd6387697\",\"type\":\"DataRange1d\"},{\"attributes\":{\"days\":[1,15]},\"id\":\"5812cd09-5388-46b3-83e9-f585298ff741\",\"type\":\"DaysTicker\"},{\"attributes\":{\"data_source\":{\"id\":\"b7bdd205-6861-4252-a6a4-55fc217e6aa0\",\"type\":\"ColumnDataSource\"},\"glyph\":{\"id\":\"48ca8847-a888-4bf4-bc1a-30fce39c86af\",\"type\":\"Line\"},\"hover_glyph\":null,\"muted_glyph\":null,\"nonselection_glyph\":{\"id\":\"8ebd74b1-7b94-40c1-a4fd-6545f68ba237\",\"type\":\"Line\"},\"selection_glyph\":null,\"view\":{\"id\":\"17fcf4eb-956b-4ecf-9494-2689fbf1f854\",\"type\":\"CDSView\"}},\"id\":\"8774ac8c-8261-4e51-bb10-49ceb9d922f0\",\"type\":\"GlyphRenderer\"},{\"attributes\":{},\"id\":\"5a62abc6-fa28-448d-b259-5cc15a85b966\",\"type\":\"YearsTicker\"},{\"attributes\":{\"months\":[0,6]},\"id\":\"28d16dc2-a7ed-49e2-b2c8-d7650da97bcc\",\"type\":\"MonthsTicker\"},{\"attributes\":{\"months\":[0,1,2,3,4,5,6,7,8,9,10,11]},\"id\":\"9733e01e-42bc-4de4-926a-da471c9b5ee7\",\"type\":\"MonthsTicker\"},{\"attributes\":{\"days\":[1,8,15,22]},\"id\":\"6b1a8b93-bd5d-415c-9206-39ebd9cf6164\",\"type\":\"DaysTicker\"},{\"attributes\":{\"days\":[1,4,7,10,13,16,19,22,25,28]},\"id\":\"124eb653-07de-40da-930e-2cc904a70084\",\"type\":\"DaysTicker\"},{\"attributes\":{},\"id\":\"73d250af-acf2-44b7-b99e-90ea55dbe80e\",\"type\":\"UnionRenderers\"},{\"attributes\":{\"label\":{\"value\":\"Actual\"},\"renderers\":[{\"id\":\"cb9fff63-d8f4-46ac-a884-907547ae248e\",\"type\":\"GlyphRenderer\"}]},\"id\":\"7bdd28b4-6c7e-4048-b9a5-9628965dbe45\",\"type\":\"LegendItem\"},{\"attributes\":{\"mantissas\":[1,2,5],\"max_interval\":500.0,\"num_minor_ticks\":0},\"id\":\"d2f89fc4-dbe5-427d-af74-abcc0457551d\",\"type\":\"AdaptiveTicker\"},{\"attributes\":{\"bottom_units\":\"screen\",\"fill_alpha\":{\"value\":0.5},\"fill_color\":{\"value\":\"lightgrey\"},\"left_units\":\"screen\",\"level\":\"overlay\",\"line_alpha\":{\"value\":1.0},\"line_color\":{\"value\":\"black\"},\"line_dash\":[4,4],\"line_width\":{\"value\":2},\"plot\":null,\"render_mode\":\"css\",\"right_units\":\"screen\",\"top_units\":\"screen\"},\"id\":\"1c6d7aee-9f65-47bb-b89c-a5b0b975508e\",\"type\":\"BoxAnnotation\"},{\"attributes\":{},\"id\":\"8d7a47c4-e370-4608-ad32-2a71b812a9ca\",\"type\":\"SaveTool\"},{\"attributes\":{},\"id\":\"d06468a0-8bad-4346-98a5-f7dbbea06d88\",\"type\":\"Selection\"},{\"attributes\":{\"items\":[{\"id\":\"7bdd28b4-6c7e-4048-b9a5-9628965dbe45\",\"type\":\"LegendItem\"},{\"id\":\"e4c7123a-9cd4-447d-94d6-f924c5e55527\",\"type\":\"LegendItem\"}],\"location\":\"bottom_left\",\"plot\":{\"id\":\"39a080f4-24b8-4aeb-a824-cc5504c0c043\",\"subtype\":\"Figure\",\"type\":\"Plot\"}},\"id\":\"7a1e6673-7702-4fd7-93ad-bc019bffecec\",\"type\":\"Legend\"},{\"attributes\":{\"plot\":{\"id\":\"39a080f4-24b8-4aeb-a824-cc5504c0c043\",\"subtype\":\"Figure\",\"type\":\"Plot\"},\"ticker\":{\"id\":\"73b26944-183b-496e-b74e-937d4acba353\",\"type\":\"DatetimeTicker\"}},\"id\":\"6a0f72f8-8c46-4217-ac48-c675bdfa7ec0\",\"type\":\"Grid\"},{\"attributes\":{},\"id\":\"ef28d8ac-87ff-475c-906e-262069dce793\",\"type\":\"HelpTool\"},{\"attributes\":{},\"id\":\"ed2b6dc9-4ac4-491c-b227-71ec17501c8e\",\"type\":\"WheelZoomTool\"},{\"attributes\":{},\"id\":\"28a22800-4695-44f2-b54c-b633cdb86b8f\",\"type\":\"BasicTickFormatter\"},{\"attributes\":{},\"id\":\"9c2764df-dc0c-47bd-95b4-72194c9f9544\",\"type\":\"Selection\"},{\"attributes\":{\"months\":[0,2,4,6,8,10]},\"id\":\"98a39e20-28f8-4b94-a79d-170bc8204712\",\"type\":\"MonthsTicker\"},{\"attributes\":{\"label\":{\"value\":\"Expected\"},\"renderers\":[{\"id\":\"8774ac8c-8261-4e51-bb10-49ceb9d922f0\",\"type\":\"GlyphRenderer\"}]},\"id\":\"e4c7123a-9cd4-447d-94d6-f924c5e55527\",\"type\":\"LegendItem\"},{\"attributes\":{\"months\":[0,4,8]},\"id\":\"8193655b-c0ed-4210-aaea-c1d563b2d792\",\"type\":\"MonthsTicker\"},{\"attributes\":{\"num_minor_ticks\":5,\"tickers\":[{\"id\":\"d2f89fc4-dbe5-427d-af74-abcc0457551d\",\"type\":\"AdaptiveTicker\"},{\"id\":\"32c097c8-3404-4a53-b74b-a7b03fab2c4d\",\"type\":\"AdaptiveTicker\"},{\"id\":\"192a3fdd-fbd4-4f89-98ca-61c895275e6d\",\"type\":\"AdaptiveTicker\"},{\"id\":\"9d2888a3-50ff-49e3-b013-0971077b5696\",\"type\":\"DaysTicker\"},{\"id\":\"124eb653-07de-40da-930e-2cc904a70084\",\"type\":\"DaysTicker\"},{\"id\":\"6b1a8b93-bd5d-415c-9206-39ebd9cf6164\",\"type\":\"DaysTicker\"},{\"id\":\"5812cd09-5388-46b3-83e9-f585298ff741\",\"type\":\"DaysTicker\"},{\"id\":\"9733e01e-42bc-4de4-926a-da471c9b5ee7\",\"type\":\"MonthsTicker\"},{\"id\":\"98a39e20-28f8-4b94-a79d-170bc8204712\",\"type\":\"MonthsTicker\"},{\"id\":\"8193655b-c0ed-4210-aaea-c1d563b2d792\",\"type\":\"MonthsTicker\"},{\"id\":\"28d16dc2-a7ed-49e2-b2c8-d7650da97bcc\",\"type\":\"MonthsTicker\"},{\"id\":\"5a62abc6-fa28-448d-b259-5cc15a85b966\",\"type\":\"YearsTicker\"}]},\"id\":\"73b26944-183b-496e-b74e-937d4acba353\",\"type\":\"DatetimeTicker\"},{\"attributes\":{\"callback\":null,\"data\":{\"x\":{\"__ndarray__\":\"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\",\"dtype\":\"float64\",\"shape\":[250]},\"y\":{\"__ndarray__\":\"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\",\"dtype\":\"float64\",\"shape\":[250]}},\"selected\":{\"id\":\"9c2764df-dc0c-47bd-95b4-72194c9f9544\",\"type\":\"Selection\"},\"selection_policy\":{\"id\":\"73d250af-acf2-44b7-b99e-90ea55dbe80e\",\"type\":\"UnionRenderers\"}},\"id\":\"d80d473a-8fd6-4e34-a59d-8ed0c052848e\",\"type\":\"ColumnDataSource\"},{\"attributes\":{\"line_color\":\"blue\",\"line_width\":2,\"x\":{\"field\":\"x\"},\"y\":{\"field\":\"y\"}},\"id\":\"492bd650-6b79-4c58-ac0f-3f3ea5f23d1c\",\"type\":\"Line\"},{\"attributes\":{},\"id\":\"50e264fc-8d52-4444-ab0d-6533f732326c\",\"type\":\"PanTool\"},{\"attributes\":{\"dimension\":1,\"plot\":{\"id\":\"39a080f4-24b8-4aeb-a824-cc5504c0c043\",\"subtype\":\"Figure\",\"type\":\"Plot\"},\"ticker\":{\"id\":\"4c7b333d-0af3-4d35-b6a7-4a599d844098\",\"type\":\"BasicTicker\"}},\"id\":\"4caac27a-bd90-4633-9b78-0edd90537c00\",\"type\":\"Grid\"},{\"attributes\":{\"below\":[{\"id\":\"b2533978-ec4a-41ab-baa1-5e6cc2b23f17\",\"type\":\"DatetimeAxis\"}],\"left\":[{\"id\":\"9804ad9a-cc05-4682-930d-55384730016e\",\"type\":\"LinearAxis\"}],\"plot_width\":900,\"renderers\":[{\"id\":\"b2533978-ec4a-41ab-baa1-5e6cc2b23f17\",\"type\":\"DatetimeAxis\"},{\"id\":\"6a0f72f8-8c46-4217-ac48-c675bdfa7ec0\",\"type\":\"Grid\"},{\"id\":\"9804ad9a-cc05-4682-930d-55384730016e\",\"type\":\"LinearAxis\"},{\"id\":\"4caac27a-bd90-4633-9b78-0edd90537c00\",\"type\":\"Grid\"},{\"id\":\"1c6d7aee-9f65-47bb-b89c-a5b0b975508e\",\"type\":\"BoxAnnotation\"},{\"id\":\"7a1e6673-7702-4fd7-93ad-bc019bffecec\",\"type\":\"Legend\"},{\"id\":\"cb9fff63-d8f4-46ac-a884-907547ae248e\",\"type\":\"GlyphRenderer\"},{\"id\":\"8774ac8c-8261-4e51-bb10-49ceb9d922f0\",\"type\":\"GlyphRenderer\"}],\"title\":{\"id\":\"23bc8716-7184-4adb-9399-85b1ddfe66b6\",\"type\":\"Title\"},\"toolbar\":{\"id\":\"25d50dc1-242a-47b4-8489-b64626880946\",\"type\":\"Toolbar\"},\"x_range\":{\"id\":\"cca8718a-fe8a-4546-bc69-bec08f3ac394\",\"type\":\"DataRange1d\"},\"x_scale\":{\"id\":\"6a9d3725-5c9d-4356-bbde-0bd303059080\",\"type\":\"LinearScale\"},\"y_range\":{\"id\":\"1b9355d8-5616-4a16-8ce8-69cfd6387697\",\"type\":\"DataRange1d\"},\"y_scale\":{\"id\":\"1ae4028f-9dd6-4fc2-91ee-3e3772089682\",\"type\":\"LinearScale\"}},\"id\":\"39a080f4-24b8-4aeb-a824-cc5504c0c043\",\"subtype\":\"Figure\",\"type\":\"Plot\"},{\"attributes\":{\"axis_label\":\"Actual & Expectation\",\"formatter\":{\"id\":\"28a22800-4695-44f2-b54c-b633cdb86b8f\",\"type\":\"BasicTickFormatter\"},\"plot\":{\"id\":\"39a080f4-24b8-4aeb-a824-cc5504c0c043\",\"subtype\":\"Figure\",\"type\":\"Plot\"},\"ticker\":{\"id\":\"4c7b333d-0af3-4d35-b6a7-4a599d844098\",\"type\":\"BasicTicker\"}},\"id\":\"9804ad9a-cc05-4682-930d-55384730016e\",\"type\":\"LinearAxis\"},{\"attributes\":{\"base\":60,\"mantissas\":[1,2,5,10,15,20,30],\"max_interval\":1800000.0,\"min_interval\":1000.0,\"num_minor_ticks\":0},\"id\":\"32c097c8-3404-4a53-b74b-a7b03fab2c4d\",\"type\":\"AdaptiveTicker\"},{\"attributes\":{},\"id\":\"4c7b333d-0af3-4d35-b6a7-4a599d844098\",\"type\":\"BasicTicker\"},{\"attributes\":{\"line_alpha\":0.1,\"line_color\":\"#1f77b4\",\"line_width\":2,\"x\":{\"field\":\"x\"},\"y\":{\"field\":\"y\"}},\"id\":\"c3eecad3-567b-4bb2-bf0d-54988ad8a631\",\"type\":\"Line\"},{\"attributes\":{\"callback\":null,\"data\":{\"x\":{\"__ndarray__\":\"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\",\"dtype\":\"float64\",\"shape\":[250]},\"y\":{\"__ndarray__\":\"AORqKItNDb8A6SQIBnZLP7GbP70YdXw/0CqwuZuBeD+AL+vuF5gAP9ieCd3nT2M/AOSCPnioKD+YJrETiR5oP2BA7YgE6k+/QKcDfzQ2Zj94/CvcAapnP/DD4/O0gVw/oBxdMwqoR7+gKuI5k0VdvwCKqMAwZFk/sGQHIuKZUL8AG+DSqGwSvy1LAOT/Oma/QKio2RjVZL8ACLMRke4cP/iCGoy4xWs/5MRSVT8LcL9wz6nDPRdbv3BfNANhAl0/oGS4Hs1Qaz+MdfJ4mXteP8eQ+LKJvnE/sLlRA4z3UD+YMk/NOVtNv1iICanXNG2/+DTPJX80VL+AllTzShFJv6CXKMi6FUM/1H6Y0EzpZ7+oRLsenqRQP+A4Hd0RdSW/zHqUcIFyV7+AtypUqrotv4Dj/FPMHVa/jMiQ4Uw+aL+VdkRwN6Vgv86DoHNaxU6/PGrrzjSvQr8gHJ7Q1LgTP8DAtPkTICo/AE7bW1qDJD+ox+e70ZpSv8GW4Tqee3G/PJzk0Y/eSL/g4lDcm25IvzDJSqN/UFC/1KGlPGkxab8BkMVlzJ5iP4C0yZzLTTS/wf9k4t+LQj/oOKMf2QRiPyCvwiNNmTo/mLm4pivTUj/wMcEgjfVJP7AnVybsPUS/gAlYhsL7Kr9QV0QvNipRvxzLELtga2g/AHGNbxurbz8uONPW4Hc3v/jPHQgHyWQ/QFUIgGGzID9ABcwKhTZWv3wKixUhrl+/ZHH8s/3+Zr/AYvxaZkFAvzA/xfoFa12/TBRT8LwEbL/gigRwb8RUv5g+5lo4IFe/Ou9SCvi4VL8gh5PJFuNRvwAVL8/Yugi/iF81TgeIVr/wCrsdRhA8vwBGyblk0iI/2NWDt9VJUb9gvFAudXBVvzCy9pmVT0e/QCCtoHUbSr/AjQx/Ciwmv6TRwL3Pa3c/eAdebV6yW78ugbRdBjBYvzDxhBnhcE8/sJpTxRunOj8gZJPYrONMP+CXkSePA0m/cIwwkWZBHT/gTQo9/G1gvzDdpG+VQS6/IC0YMVqvS7/n4wRdRgFHv/BM8ryWEE2/gB7cIHwmHr9o1GVkkopCv+ofZ1WS+Fe/sOi8cezWO7+AWcOjJ7k9v4Bd1Pbin0O/gDuSiIonUT9ApabCm18/v8QX8w5NwFi/gBuWjmA4KL9AOYNeaZc0vzD4KIfCaWY/4Dvh+TF8Xz/QBg73lZFTP7Ibw8Ju/VA/wDM711Y+Q7+AVDrMMWdGvwj/1NjIS1a/cFViuS/rU78AoPypJv0wP4B0byuQ6kg/9LgRd4x0iD9QZQu181RzP1CRwPV4Wmu/tiOf5/5lcb8qqil6Yudxv9CLZJPPyka/KBnL3vlSOb+QtK2zcR1Zv4CUu+Mllfw+gI5n4lQXT7/QO62BKm9Pv5XrYFt0EV6/YBfGwUbwPT/wZGA/0tU9Pw3w1UQdHFs/ROk/u4dySj/AnjiOviMWP9B3y+5Cqzc/8gHeaEgDQz/wvgk429dCv4AClB3+6hK/AAMvhreR9z48LgRUBWw/v4zBLtQjFj4/gFbnNvLmAT+A8NBLIqMXv8A9YcnCrEA/gLfpdbKUR7+QpIA7kfI9P6M3la82BnE/oFmT3sKdM78g+Wfk5Pc5vwB2oaghnE6/9qRCzvC9Tr/Q2OCfSiFRP0Dh3YnHuhS/AOpFRJM3+T6oxFVoL1VFv2RWjD726kq/yPPA/1QaPb+ALs7cbR0/v8p6ui/ISCS/YO7w72CPSj/Akcp+wKMev+Z2/FK6mE+/Xp/R5KzmUr9A2w6DHbU2v6AMCMe5dz6/QOSqyC/eVb/oNNC9XgBivxCrH22OXl2/IMVMKGJmS78QXEpmLB5sP0DSUeNO4mk/quZkq8iJYb9YzhW7+NRjP4AICJ0yHDM/5GGR9xTRY7+gMOgtFQNIPwBJKSUfUlO/sKXbzwwYW7+EkhNaTt5qv4pxmK61TFS/IJu49iODQD/AQWoT+cErv9DmUyUUaki/AEe64hAmOj+ezxIvxsVjv6J2QPC9XGm/ALip/ed7yD7gUnYzF+cDP0Bo10+VgD2/AH3kZOUIBr+AV3rUcXBNP7AtD1QfGUE/sLd2F+KtYT+gETc1Nuo/v/BxlUG0f2A/gDY0da1xEL8c41mJPgFVP0Dna1jiJ0+/uJVHsAdkQb/SEcoQ+ElTP/BrPSNX4EQ/EI/Vc+P4Jr+Ypr59VuZNP0yvf5TToj8/gOm4PDiyQz8ALDTNWVLxPgDEPoO2HhI/SJpmg7vuXT8A433AxPNXP2ifweYkZlA/bg74vM0/fj8A1d6Y+SwpvwAAhQjFnC+/gFWRVDQaGb/WeaJ7LlVyvwBkgtNPaOe+rgMFhhZpXb/AV3+/NO1QvwCemoWhehW//sQg/2YuYr+ArqJQ29A5v1gJHgIWOTs/aP2sBSwkT78AQMoS3b6tvlnMhiofNUi/PZw7feZHSj8Axrht1aIFv2A1CJ6zZUQ/5FZxY4q7az9QvggSNCxcP2bNe6+63Fu/MLFsaK1kbL9gGcxGPbI2vwhfNyHzAVY/ILljlQroQz9gsXKt07lTPwxjRLnCuGa/MZVVgElIYD+AODnkmDItvwCOVq4caxC//Jw9F9YfWL8QMJrDfq4zv0DDCH4VKEU/IOTfCLAcJ79A5qjFKg1bv0CZZ291vDM/sM6rBSCOXT8=\",\"dtype\":\"float64\",\"shape\":[250]}},\"selected\":{\"id\":\"d06468a0-8bad-4346-98a5-f7dbbea06d88\",\"type\":\"Selection\"},\"selection_policy\":{\"id\":\"b0cd4a32-eee6-4396-a0cd-cddb056dc91a\",\"type\":\"UnionRenderers\"}},\"id\":\"b7bdd205-6861-4252-a6a4-55fc217e6aa0\",\"type\":\"ColumnDataSource\"},{\"attributes\":{\"axis_label\":\"Time\",\"formatter\":{\"id\":\"157e622f-7b89-43eb-bc4b-6f44f7c5c541\",\"type\":\"DatetimeTickFormatter\"},\"plot\":{\"id\":\"39a080f4-24b8-4aeb-a824-cc5504c0c043\",\"subtype\":\"Figure\",\"type\":\"Plot\"},\"ticker\":{\"id\":\"73b26944-183b-496e-b74e-937d4acba353\",\"type\":\"DatetimeTicker\"}},\"id\":\"b2533978-ec4a-41ab-baa1-5e6cc2b23f17\",\"type\":\"DatetimeAxis\"}],\"root_ids\":[\"39a080f4-24b8-4aeb-a824-cc5504c0c043\"]},\"title\":\"Bokeh Application\",\"version\":\"0.13.0\"}};\n",
       "  var render_items = [{\"docid\":\"84aa9b3c-09a8-43dd-b87f-824bbc061976\",\"roots\":{\"39a080f4-24b8-4aeb-a824-cc5504c0c043\":\"0c8fc08a-e521-4416-bb26-b40a0d0fabd0\"}}];\n",
       "  root.Bokeh.embed.embed_items_notebook(docs_json, render_items);\n",
       "\n",
       "  }\n",
       "  if (root.Bokeh !== undefined) {\n",
       "    embed_document(root);\n",
       "  } else {\n",
       "    var attempts = 0;\n",
       "    var timer = setInterval(function(root) {\n",
       "      if (root.Bokeh !== undefined) {\n",
       "        embed_document(root);\n",
       "        clearInterval(timer);\n",
       "      }\n",
       "      attempts++;\n",
       "      if (attempts > 100) {\n",
       "        console.log(\"Bokeh: ERROR: Unable to run BokehJS code because BokehJS library is missing\")\n",
       "        clearInterval(timer);\n",
       "      }\n",
       "    }, 10, root)\n",
       "  }\n",
       "})(window);"
      ],
      "application/vnd.bokehjs_exec.v0+json": ""
     },
     "metadata": {
      "application/vnd.bokehjs_exec.v0+json": {
       "id": "39a080f4-24b8-4aeb-a824-cc5504c0c043"
      }
     },
     "output_type": "display_data"
    }
   ],
   "source": [
    "model = ARIMA(log, order=(0, 1, 3))  \n",
    "results_AR = model.fit(disp=-1)  \n",
    "double_plotting_curve('RA_Model', 'Actual & Expectation', log_diff1.index, log_diff1, 'blue',\n",
    "                      log_diff1.index, results_AR.fittedvalues, 'red')"
   ]
  },
  {
   "cell_type": "markdown",
   "metadata": {},
   "source": [
    "### ARIMA Model"
   ]
  },
  {
   "cell_type": "code",
   "execution_count": 26,
   "metadata": {},
   "outputs": [
    {
     "name": "stderr",
     "output_type": "stream",
     "text": [
      "/Users/sparshgarg/anaconda3/python/anaconda3/lib/python3.6/site-packages/statsmodels/base/model.py:473: HessianInversionWarning: Inverting hessian failed, no bse or cov_params available\n",
      "  'available', HessianInversionWarning)\n",
      "/Users/sparshgarg/anaconda3/python/anaconda3/lib/python3.6/site-packages/statsmodels/base/model.py:496: ConvergenceWarning: Maximum Likelihood optimization failed to converge. Check mle_retvals\n",
      "  \"Check mle_retvals\", ConvergenceWarning)\n"
     ]
    },
    {
     "data": {
      "text/html": [
       "\n",
       "\n",
       "\n",
       "\n",
       "\n",
       "\n",
       "  <div class=\"bk-root\" id=\"ec9b77c2-1a42-443f-965d-ba8544285702\"></div>\n"
      ]
     },
     "metadata": {},
     "output_type": "display_data"
    },
    {
     "data": {
      "application/javascript": [
       "(function(root) {\n",
       "  function embed_document(root) {\n",
       "    \n",
       "  var docs_json = {\"6f118197-f2a1-44ed-a5bf-a92955c22c9f\":{\"roots\":{\"references\":[{\"attributes\":{},\"id\":\"3ad0218f-1a1b-423d-8351-219137090b54\",\"type\":\"WheelZoomTool\"},{\"attributes\":{\"below\":[{\"id\":\"cf0bd61d-7b0e-4c1c-9bf4-ac8cc22e66fe\",\"type\":\"DatetimeAxis\"}],\"left\":[{\"id\":\"e9de3b1b-333f-473a-8264-58af9bf5ca7a\",\"type\":\"LinearAxis\"}],\"plot_width\":900,\"renderers\":[{\"id\":\"cf0bd61d-7b0e-4c1c-9bf4-ac8cc22e66fe\",\"type\":\"DatetimeAxis\"},{\"id\":\"cd637757-cc28-4495-aa03-e637bc0af8a7\",\"type\":\"Grid\"},{\"id\":\"e9de3b1b-333f-473a-8264-58af9bf5ca7a\",\"type\":\"LinearAxis\"},{\"id\":\"260da050-2ac6-49fe-b0fb-7614df5bb795\",\"type\":\"Grid\"},{\"id\":\"3d638836-3ea7-426a-85b4-5dd2a8e7677e\",\"type\":\"BoxAnnotation\"},{\"id\":\"b8094c1c-395d-4f9c-ba6c-ff1372b3cf8f\",\"type\":\"Legend\"},{\"id\":\"4c83c16f-3021-4cbc-87a4-9ee002be6fce\",\"type\":\"GlyphRenderer\"},{\"id\":\"85959c35-b2e1-4ef1-b5fe-9552ce1ee02b\",\"type\":\"GlyphRenderer\"}],\"title\":{\"id\":\"074e8d36-59ac-427c-b878-e99ee72fb9cd\",\"type\":\"Title\"},\"toolbar\":{\"id\":\"0eac5da6-71df-4475-9bf6-8ccaebff3718\",\"type\":\"Toolbar\"},\"x_range\":{\"id\":\"69d0f4e9-c7a4-4c34-9098-a5df1520ded0\",\"type\":\"DataRange1d\"},\"x_scale\":{\"id\":\"56f1eb4e-ee24-4403-93f7-9b03b3600c0e\",\"type\":\"LinearScale\"},\"y_range\":{\"id\":\"30d471e0-b43b-4be9-b465-6e2f9b4dbd21\",\"type\":\"DataRange1d\"},\"y_scale\":{\"id\":\"141bafca-717b-42e5-acdb-d39588df4a16\",\"type\":\"LinearScale\"}},\"id\":\"b2934ca7-1496-4d96-a57e-febc2136e204\",\"subtype\":\"Figure\",\"type\":\"Plot\"},{\"attributes\":{},\"id\":\"715ebc54-dd07-493a-b21b-3ba2b37130d3\",\"type\":\"ResetTool\"},{\"attributes\":{},\"id\":\"169e9536-4cdd-48e4-af32-4e078aeea7ea\",\"type\":\"HelpTool\"},{\"attributes\":{\"plot\":null,\"text\":\"ARIMA_Model\"},\"id\":\"074e8d36-59ac-427c-b878-e99ee72fb9cd\",\"type\":\"Title\"},{\"attributes\":{\"mantissas\":[1,2,5],\"max_interval\":500.0,\"num_minor_ticks\":0},\"id\":\"1cb6af48-f3c6-4251-b9d9-19cda13b2eb1\",\"type\":\"AdaptiveTicker\"},{\"attributes\":{\"days\":[1,8,15,22]},\"id\":\"fd8ebbc9-38ff-4b74-a48c-745acc4949a6\",\"type\":\"DaysTicker\"},{\"attributes\":{\"months\":[0,6]},\"id\":\"ff235b68-dad2-418c-aa7d-9d60447f0194\",\"type\":\"MonthsTicker\"},{\"attributes\":{},\"id\":\"fec00140-83a0-4e4f-a89c-5dd61e5716ee\",\"type\":\"UnionRenderers\"},{\"attributes\":{\"months\":[0,4,8]},\"id\":\"ec313dc3-cdb5-477e-a322-6d4ea0216b16\",\"type\":\"MonthsTicker\"},{\"attributes\":{},\"id\":\"c27c4c53-2eb8-4f0a-ae53-fa522e7af26a\",\"type\":\"PanTool\"},{\"attributes\":{\"months\":[0,1,2,3,4,5,6,7,8,9,10,11]},\"id\":\"c1f03d26-7f30-483e-864c-e33e3a9de4a5\",\"type\":\"MonthsTicker\"},{\"attributes\":{},\"id\":\"ef14294d-5237-47b8-93a9-afc844403a4c\",\"type\":\"DatetimeTickFormatter\"},{\"attributes\":{\"base\":24,\"mantissas\":[1,2,4,6,8,12],\"max_interval\":43200000.0,\"min_interval\":3600000.0,\"num_minor_ticks\":0},\"id\":\"5774a2d0-8a2d-4f46-9762-fa6d3b303b0a\",\"type\":\"AdaptiveTicker\"},{\"attributes\":{},\"id\":\"a53aeff3-c4e1-4b87-9d75-fb24ea243527\",\"type\":\"BasicTicker\"},{\"attributes\":{\"callback\":null,\"data\":{\"x\":{\"__ndarray__\":\"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\",\"dtype\":\"float64\",\"shape\":[250]},\"y\":{\"__ndarray__\":\"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\",\"dtype\":\"float64\",\"shape\":[250]}},\"selected\":{\"id\":\"8cc6ed96-946f-44b1-aef3-5c2c3ba2f3cb\",\"type\":\"Selection\"},\"selection_policy\":{\"id\":\"fec00140-83a0-4e4f-a89c-5dd61e5716ee\",\"type\":\"UnionRenderers\"}},\"id\":\"65586c0b-c004-4160-99b1-33788db87bde\",\"type\":\"ColumnDataSource\"},{\"attributes\":{\"base\":60,\"mantissas\":[1,2,5,10,15,20,30],\"max_interval\":1800000.0,\"min_interval\":1000.0,\"num_minor_ticks\":0},\"id\":\"c0effecb-394b-4071-867a-fdb47b8405fb\",\"type\":\"AdaptiveTicker\"},{\"attributes\":{\"label\":{\"value\":\"Expected\"},\"renderers\":[{\"id\":\"85959c35-b2e1-4ef1-b5fe-9552ce1ee02b\",\"type\":\"GlyphRenderer\"}]},\"id\":\"09a59914-4b06-4758-88fe-0e2cbd952a9a\",\"type\":\"LegendItem\"},{\"attributes\":{},\"id\":\"b3f1bce7-6603-4412-9b5b-e54b4e0b4a02\",\"type\":\"Selection\"},{\"attributes\":{\"line_color\":\"yellow\",\"line_width\":2,\"x\":{\"field\":\"x\"},\"y\":{\"field\":\"y\"}},\"id\":\"77565e45-4036-44cf-b26a-61b84f6628f1\",\"type\":\"Line\"},{\"attributes\":{\"line_alpha\":0.1,\"line_color\":\"#1f77b4\",\"line_width\":2,\"x\":{\"field\":\"x\"},\"y\":{\"field\":\"y\"}},\"id\":\"4b9b3101-c3ba-4114-9e5f-c5a887bc3cbf\",\"type\":\"Line\"},{\"attributes\":{\"data_source\":{\"id\":\"2a01609b-ded5-41db-8017-37a3d5db20fb\",\"type\":\"ColumnDataSource\"},\"glyph\":{\"id\":\"77565e45-4036-44cf-b26a-61b84f6628f1\",\"type\":\"Line\"},\"hover_glyph\":null,\"muted_glyph\":null,\"nonselection_glyph\":{\"id\":\"4b9b3101-c3ba-4114-9e5f-c5a887bc3cbf\",\"type\":\"Line\"},\"selection_glyph\":null,\"view\":{\"id\":\"2327257e-0c78-44d4-bbf1-31edd28dd490\",\"type\":\"CDSView\"}},\"id\":\"85959c35-b2e1-4ef1-b5fe-9552ce1ee02b\",\"type\":\"GlyphRenderer\"},{\"attributes\":{\"days\":[1,4,7,10,13,16,19,22,25,28]},\"id\":\"35450074-f859-4f99-8156-2ca6df8610f1\",\"type\":\"DaysTicker\"},{\"attributes\":{\"axis_label\":\"Time\",\"formatter\":{\"id\":\"ef14294d-5237-47b8-93a9-afc844403a4c\",\"type\":\"DatetimeTickFormatter\"},\"plot\":{\"id\":\"b2934ca7-1496-4d96-a57e-febc2136e204\",\"subtype\":\"Figure\",\"type\":\"Plot\"},\"ticker\":{\"id\":\"42bcefa3-ce00-4006-a86b-10f0703f5ba9\",\"type\":\"DatetimeTicker\"}},\"id\":\"cf0bd61d-7b0e-4c1c-9bf4-ac8cc22e66fe\",\"type\":\"DatetimeAxis\"},{\"attributes\":{\"active_drag\":\"auto\",\"active_inspect\":\"auto\",\"active_multi\":null,\"active_scroll\":\"auto\",\"active_tap\":\"auto\",\"tools\":[{\"id\":\"c27c4c53-2eb8-4f0a-ae53-fa522e7af26a\",\"type\":\"PanTool\"},{\"id\":\"3ad0218f-1a1b-423d-8351-219137090b54\",\"type\":\"WheelZoomTool\"},{\"id\":\"6fc591f3-9634-4e6a-9e21-a49eb0f33648\",\"type\":\"BoxZoomTool\"},{\"id\":\"93100601-56b5-4f3a-8db3-40eb9f79592b\",\"type\":\"SaveTool\"},{\"id\":\"715ebc54-dd07-493a-b21b-3ba2b37130d3\",\"type\":\"ResetTool\"},{\"id\":\"169e9536-4cdd-48e4-af32-4e078aeea7ea\",\"type\":\"HelpTool\"},{\"id\":\"852bcdfb-bf27-45db-9e61-f9b294510620\",\"type\":\"HoverTool\"}]},\"id\":\"0eac5da6-71df-4475-9bf6-8ccaebff3718\",\"type\":\"Toolbar\"},{\"attributes\":{},\"id\":\"8cc6ed96-946f-44b1-aef3-5c2c3ba2f3cb\",\"type\":\"Selection\"},{\"attributes\":{\"items\":[{\"id\":\"96751a8f-8a6e-4309-83b2-8ba42872e31e\",\"type\":\"LegendItem\"},{\"id\":\"09a59914-4b06-4758-88fe-0e2cbd952a9a\",\"type\":\"LegendItem\"}],\"location\":\"bottom_left\",\"plot\":{\"id\":\"b2934ca7-1496-4d96-a57e-febc2136e204\",\"subtype\":\"Figure\",\"type\":\"Plot\"}},\"id\":\"b8094c1c-395d-4f9c-ba6c-ff1372b3cf8f\",\"type\":\"Legend\"},{\"attributes\":{},\"id\":\"59fc9270-7b04-4602-bfce-6640a429d331\",\"type\":\"BasicTickFormatter\"},{\"attributes\":{\"days\":[1,2,3,4,5,6,7,8,9,10,11,12,13,14,15,16,17,18,19,20,21,22,23,24,25,26,27,28,29,30,31]},\"id\":\"33880a81-2826-4c08-991b-9cdb442b26b6\",\"type\":\"DaysTicker\"},{\"attributes\":{\"callback\":null,\"renderers\":\"auto\"},\"id\":\"852bcdfb-bf27-45db-9e61-f9b294510620\",\"type\":\"HoverTool\"},{\"attributes\":{\"dimension\":1,\"plot\":{\"id\":\"b2934ca7-1496-4d96-a57e-febc2136e204\",\"subtype\":\"Figure\",\"type\":\"Plot\"},\"ticker\":{\"id\":\"a53aeff3-c4e1-4b87-9d75-fb24ea243527\",\"type\":\"BasicTicker\"}},\"id\":\"260da050-2ac6-49fe-b0fb-7614df5bb795\",\"type\":\"Grid\"},{\"attributes\":{\"months\":[0,2,4,6,8,10]},\"id\":\"45cf349c-b58c-4622-87ff-b2cd56cfabb5\",\"type\":\"MonthsTicker\"},{\"attributes\":{\"callback\":null,\"data\":{\"x\":{\"__ndarray__\":\"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\",\"dtype\":\"float64\",\"shape\":[250]},\"y\":{\"__ndarray__\":\"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\",\"dtype\":\"float64\",\"shape\":[250]}},\"selected\":{\"id\":\"b3f1bce7-6603-4412-9b5b-e54b4e0b4a02\",\"type\":\"Selection\"},\"selection_policy\":{\"id\":\"28d2c892-a192-457d-9391-73fbeaa38a1a\",\"type\":\"UnionRenderers\"}},\"id\":\"2a01609b-ded5-41db-8017-37a3d5db20fb\",\"type\":\"ColumnDataSource\"},{\"attributes\":{\"num_minor_ticks\":5,\"tickers\":[{\"id\":\"1cb6af48-f3c6-4251-b9d9-19cda13b2eb1\",\"type\":\"AdaptiveTicker\"},{\"id\":\"c0effecb-394b-4071-867a-fdb47b8405fb\",\"type\":\"AdaptiveTicker\"},{\"id\":\"5774a2d0-8a2d-4f46-9762-fa6d3b303b0a\",\"type\":\"AdaptiveTicker\"},{\"id\":\"33880a81-2826-4c08-991b-9cdb442b26b6\",\"type\":\"DaysTicker\"},{\"id\":\"35450074-f859-4f99-8156-2ca6df8610f1\",\"type\":\"DaysTicker\"},{\"id\":\"fd8ebbc9-38ff-4b74-a48c-745acc4949a6\",\"type\":\"DaysTicker\"},{\"id\":\"4b80ce45-9e46-423a-a9a5-f723313439e7\",\"type\":\"DaysTicker\"},{\"id\":\"c1f03d26-7f30-483e-864c-e33e3a9de4a5\",\"type\":\"MonthsTicker\"},{\"id\":\"45cf349c-b58c-4622-87ff-b2cd56cfabb5\",\"type\":\"MonthsTicker\"},{\"id\":\"ec313dc3-cdb5-477e-a322-6d4ea0216b16\",\"type\":\"MonthsTicker\"},{\"id\":\"ff235b68-dad2-418c-aa7d-9d60447f0194\",\"type\":\"MonthsTicker\"},{\"id\":\"8e48b543-5004-45a2-958a-3ab225603cbc\",\"type\":\"YearsTicker\"}]},\"id\":\"42bcefa3-ce00-4006-a86b-10f0703f5ba9\",\"type\":\"DatetimeTicker\"},{\"attributes\":{},\"id\":\"93100601-56b5-4f3a-8db3-40eb9f79592b\",\"type\":\"SaveTool\"},{\"attributes\":{\"line_color\":\"darkblue\",\"line_width\":2,\"x\":{\"field\":\"x\"},\"y\":{\"field\":\"y\"}},\"id\":\"a6935264-12b7-4203-bced-f5bcac621335\",\"type\":\"Line\"},{\"attributes\":{\"days\":[1,15]},\"id\":\"4b80ce45-9e46-423a-a9a5-f723313439e7\",\"type\":\"DaysTicker\"},{\"attributes\":{},\"id\":\"8e48b543-5004-45a2-958a-3ab225603cbc\",\"type\":\"YearsTicker\"},{\"attributes\":{\"bottom_units\":\"screen\",\"fill_alpha\":{\"value\":0.5},\"fill_color\":{\"value\":\"lightgrey\"},\"left_units\":\"screen\",\"level\":\"overlay\",\"line_alpha\":{\"value\":1.0},\"line_color\":{\"value\":\"black\"},\"line_dash\":[4,4],\"line_width\":{\"value\":2},\"plot\":null,\"render_mode\":\"css\",\"right_units\":\"screen\",\"top_units\":\"screen\"},\"id\":\"3d638836-3ea7-426a-85b4-5dd2a8e7677e\",\"type\":\"BoxAnnotation\"},{\"attributes\":{},\"id\":\"56f1eb4e-ee24-4403-93f7-9b03b3600c0e\",\"type\":\"LinearScale\"},{\"attributes\":{\"data_source\":{\"id\":\"65586c0b-c004-4160-99b1-33788db87bde\",\"type\":\"ColumnDataSource\"},\"glyph\":{\"id\":\"a6935264-12b7-4203-bced-f5bcac621335\",\"type\":\"Line\"},\"hover_glyph\":null,\"muted_glyph\":null,\"nonselection_glyph\":{\"id\":\"1a38df7f-55ec-491e-9bfc-f37c5545e589\",\"type\":\"Line\"},\"selection_glyph\":null,\"view\":{\"id\":\"b3392a88-9fd6-415a-a1db-4165af1618ef\",\"type\":\"CDSView\"}},\"id\":\"4c83c16f-3021-4cbc-87a4-9ee002be6fce\",\"type\":\"GlyphRenderer\"},{\"attributes\":{\"plot\":{\"id\":\"b2934ca7-1496-4d96-a57e-febc2136e204\",\"subtype\":\"Figure\",\"type\":\"Plot\"},\"ticker\":{\"id\":\"42bcefa3-ce00-4006-a86b-10f0703f5ba9\",\"type\":\"DatetimeTicker\"}},\"id\":\"cd637757-cc28-4495-aa03-e637bc0af8a7\",\"type\":\"Grid\"},{\"attributes\":{\"label\":{\"value\":\"Actual\"},\"renderers\":[{\"id\":\"4c83c16f-3021-4cbc-87a4-9ee002be6fce\",\"type\":\"GlyphRenderer\"}]},\"id\":\"96751a8f-8a6e-4309-83b2-8ba42872e31e\",\"type\":\"LegendItem\"},{\"attributes\":{\"source\":{\"id\":\"2a01609b-ded5-41db-8017-37a3d5db20fb\",\"type\":\"ColumnDataSource\"}},\"id\":\"2327257e-0c78-44d4-bbf1-31edd28dd490\",\"type\":\"CDSView\"},{\"attributes\":{\"callback\":null},\"id\":\"30d471e0-b43b-4be9-b465-6e2f9b4dbd21\",\"type\":\"DataRange1d\"},{\"attributes\":{\"overlay\":{\"id\":\"3d638836-3ea7-426a-85b4-5dd2a8e7677e\",\"type\":\"BoxAnnotation\"}},\"id\":\"6fc591f3-9634-4e6a-9e21-a49eb0f33648\",\"type\":\"BoxZoomTool\"},{\"attributes\":{\"source\":{\"id\":\"65586c0b-c004-4160-99b1-33788db87bde\",\"type\":\"ColumnDataSource\"}},\"id\":\"b3392a88-9fd6-415a-a1db-4165af1618ef\",\"type\":\"CDSView\"},{\"attributes\":{\"axis_label\":\"Actual & Expectation\",\"formatter\":{\"id\":\"59fc9270-7b04-4602-bfce-6640a429d331\",\"type\":\"BasicTickFormatter\"},\"plot\":{\"id\":\"b2934ca7-1496-4d96-a57e-febc2136e204\",\"subtype\":\"Figure\",\"type\":\"Plot\"},\"ticker\":{\"id\":\"a53aeff3-c4e1-4b87-9d75-fb24ea243527\",\"type\":\"BasicTicker\"}},\"id\":\"e9de3b1b-333f-473a-8264-58af9bf5ca7a\",\"type\":\"LinearAxis\"},{\"attributes\":{},\"id\":\"28d2c892-a192-457d-9391-73fbeaa38a1a\",\"type\":\"UnionRenderers\"},{\"attributes\":{\"callback\":null},\"id\":\"69d0f4e9-c7a4-4c34-9098-a5df1520ded0\",\"type\":\"DataRange1d\"},{\"attributes\":{\"line_alpha\":0.1,\"line_color\":\"#1f77b4\",\"line_width\":2,\"x\":{\"field\":\"x\"},\"y\":{\"field\":\"y\"}},\"id\":\"1a38df7f-55ec-491e-9bfc-f37c5545e589\",\"type\":\"Line\"},{\"attributes\":{},\"id\":\"141bafca-717b-42e5-acdb-d39588df4a16\",\"type\":\"LinearScale\"}],\"root_ids\":[\"b2934ca7-1496-4d96-a57e-febc2136e204\"]},\"title\":\"Bokeh Application\",\"version\":\"0.13.0\"}};\n",
       "  var render_items = [{\"docid\":\"6f118197-f2a1-44ed-a5bf-a92955c22c9f\",\"roots\":{\"b2934ca7-1496-4d96-a57e-febc2136e204\":\"ec9b77c2-1a42-443f-965d-ba8544285702\"}}];\n",
       "  root.Bokeh.embed.embed_items_notebook(docs_json, render_items);\n",
       "\n",
       "  }\n",
       "  if (root.Bokeh !== undefined) {\n",
       "    embed_document(root);\n",
       "  } else {\n",
       "    var attempts = 0;\n",
       "    var timer = setInterval(function(root) {\n",
       "      if (root.Bokeh !== undefined) {\n",
       "        embed_document(root);\n",
       "        clearInterval(timer);\n",
       "      }\n",
       "      attempts++;\n",
       "      if (attempts > 100) {\n",
       "        console.log(\"Bokeh: ERROR: Unable to run BokehJS code because BokehJS library is missing\")\n",
       "        clearInterval(timer);\n",
       "      }\n",
       "    }, 10, root)\n",
       "  }\n",
       "})(window);"
      ],
      "application/vnd.bokehjs_exec.v0+json": ""
     },
     "metadata": {
      "application/vnd.bokehjs_exec.v0+json": {
       "id": "b2934ca7-1496-4d96-a57e-febc2136e204"
      }
     },
     "output_type": "display_data"
    }
   ],
   "source": [
    "model = ARIMA(log, order=(5, 1, 2))  \n",
    "results_AR = model.fit(disp=-1)  \n",
    "double_plotting_curve('ARIMA_Model', 'Actual & Expectation', log_diff1.index, log_diff1, 'darkblue',\n",
    "                      log_diff1.index, results_AR.fittedvalues, 'yellow')"
   ]
  },
  {
   "cell_type": "markdown",
   "metadata": {},
   "source": [
    "### Our Results are not good because of the seasonality added which we found during decomposion so we need to use SARIMA Seasonal Arima model to do the forecasting"
   ]
  }
 ],
 "metadata": {
  "kernelspec": {
   "display_name": "Python 3",
   "language": "python",
   "name": "python3"
  },
  "language_info": {
   "codemirror_mode": {
    "name": "ipython",
    "version": 3
   },
   "file_extension": ".py",
   "mimetype": "text/x-python",
   "name": "python",
   "nbconvert_exporter": "python",
   "pygments_lexer": "ipython3",
   "version": "3.6.4"
  }
 },
 "nbformat": 4,
 "nbformat_minor": 2
}
